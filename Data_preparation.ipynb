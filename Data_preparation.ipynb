{
  "nbformat": 4,
  "nbformat_minor": 0,
  "metadata": {
    "accelerator": "GPU",
    "colab": {
      "name": "Data_preparation.ipynb",
      "provenance": [],
      "collapsed_sections": [],
      "mount_file_id": "12vxPwAxpN0rhjsnJpU2vxQi5IPaP_EZ3",
      "authorship_tag": "ABX9TyO7aRVkVuxkYgfwPYC0eYgB",
      "include_colab_link": true
    },
    "kernelspec": {
      "display_name": "Python 3",
      "name": "python3"
    },
    "language_info": {
      "name": "python"
    }
  },
  "cells": [
    {
      "cell_type": "markdown",
      "metadata": {
        "id": "view-in-github",
        "colab_type": "text"
      },
      "source": [
        "<a href=\"https://colab.research.google.com/github/MrCogito/Spectrogram-Generator/blob/main/Data_preparation.ipynb\" target=\"_parent\"><img src=\"https://colab.research.google.com/assets/colab-badge.svg\" alt=\"Open In Colab\"/></a>"
      ]
    },
    {
      "cell_type": "markdown",
      "metadata": {
        "id": "3aej-Lqn95yL"
      },
      "source": [
        "# **Generate spectrogram**"
      ]
    },
    {
      "cell_type": "code",
      "metadata": {
        "id": "AxpW97Os5gk1"
      },
      "source": [
        "import numpy as np\n",
        "import tensorflow as tf\n",
        "from tensorflow import keras \n",
        "import os\n",
        "import librosa\n",
        "import librosa.display\n",
        "import IPython.display as ipd\n",
        "import soundfile"
      ],
      "execution_count": null,
      "outputs": []
    },
    {
      "cell_type": "code",
      "metadata": {
        "colab": {
          "base_uri": "https://localhost:8080/"
        },
        "id": "a_r3wAuK62nW",
        "outputId": "40a9f3d4-05b3-4c18-8b5c-a71baae9c00c"
      },
      "source": [
        "%tensorflow_version 2.x\n",
        "import tensorflow as tf\n",
        "device_name = tf.test.gpu_device_name()\n",
        "if device_name != '/device:GPU:0':\n",
        "  raise SystemError('GPU device not found')\n",
        "print('Found GPU at: {}'.format(device_name))"
      ],
      "execution_count": null,
      "outputs": [
        {
          "output_type": "stream",
          "name": "stdout",
          "text": [
            "Found GPU at: /device:GPU:0\n"
          ]
        }
      ]
    },
    {
      "cell_type": "code",
      "metadata": {
        "colab": {
          "base_uri": "https://localhost:8080/"
        },
        "id": "CEZTIyw4XtdA",
        "outputId": "fd06522f-162c-44b1-9969-f26933abb1ac"
      },
      "source": [
        "from google.colab import drive\n",
        "drive.mount('/content/gdrive')\n",
        "!unzip /content/gdrive/MyDrive/Inzynierka/Data/clips.zip > /dev/null \n"
      ],
      "execution_count": null,
      "outputs": [
        {
          "output_type": "stream",
          "name": "stdout",
          "text": [
            "Mounted at /content/gdrive\n"
          ]
        }
      ]
    },
    {
      "cell_type": "code",
      "metadata": {
        "id": "_M7ijx-CDkX4",
        "colab": {
          "base_uri": "https://localhost:8080/"
        },
        "outputId": "5b980d2b-e2db-4cc8-a4eb-7e04cd757dcb"
      },
      "source": [
        "!unzip /content/gdrive/MyDrive/Inzynierka/Data/clips.zip > /dev/null "
      ],
      "execution_count": null,
      "outputs": [
        {
          "output_type": "stream",
          "name": "stdout",
          "text": [
            "unzip:  cannot find or open /content/gdrive/MyDrive/Inzynierka/Data/clips.zip, /content/gdrive/MyDrive/Inzynierka/Data/clips.zip.zip or /content/gdrive/MyDrive/Inzynierka/Data/clips.zip.ZIP.\n"
          ]
        }
      ]
    },
    {
      "cell_type": "code",
      "metadata": {
        "id": "2QvSQo6pMWZs"
      },
      "source": [
        "audio_folder = '/content/clips/'\n",
        "spectrogram_tensor_folder = '/content/gdrive/MyDrive/Inzynierka/Data/en_spectrogram_tensor/'\n",
        "\n",
        "spectrogram_folder = '/content/gdrive/MyDrive/Inzynierka/Data/en_spectrogram/'\n",
        "audio_trim_folder = '/content/gdrive/MyDrive/Inzynierka/Data/audio_trim_folder/'\n",
        "spectrogram_tensor = np.empty((1,256,8))\n",
        "#spectrogram_tensor = np.load('/content/gdrive/MyDrive/Inzynierka/Data/en_spectrogram_tensor/Dataset_mel_spectrogram_256_8_3.npy')"
      ],
      "execution_count": null,
      "outputs": []
    },
    {
      "cell_type": "code",
      "metadata": {
        "colab": {
          "base_uri": "https://localhost:8080/"
        },
        "id": "IbrpG_kFrIkt",
        "collapsed": true,
        "outputId": "5b99bfff-4d4b-4601-8db8-8663fc473ac7"
      },
      "source": [
        "#Create spectrograms \n",
        "target_size = 4000                          \n",
        "target_samplig_rate=8000\n",
        "for filename in os.listdir(audio_folder)[9:11]:\n",
        "  if filename.endswith(\"mp3\"):\n",
        "    audio_file, sr = librosa.load(audio_folder + filename)                                                           # Load audio file\n",
        "    audio_file_trim, index = librosa.effects.trim(audio_file, top_db = 15)                                           # Trim silnce with threshold equal to 15dB\n",
        "    audio_file_trim_4k = librosa.resample(audio_file_trim, sr, target_sr = target_samplig_rate)                      # resample to 4k \n",
        "    audio_fix_length = librosa.util.fix_length(audio_file_trim_4k, target_size, axis=- 1)                            # get same length in all clips    \n",
        "    #Spectrogram = librosa.stft(audio_fix_length, n_fft=510,)                                                        # create spectrogram.  n_fft size set to 510 to get 256 x n shape of spectrogram \n",
        "    Spectrogram = librosa.feature.melspectrogram(audio_fix_length, sr=target_samplig_rate,\n",
        "                                                 n_fft=2048, hop_length=512, n_mels=256)\n",
        "    S_DB = librosa.power_to_db(Spectrogram, ref=np.max)\n",
        "    #S_db = librosa.amplitude_to_db(np.abs(spectrogram), ref=np.max)                                                 # convert to dB-scaled spectrogram\n",
        "    tensor_spectrogram = tf.convert_to_tensor(S_DB)                                                                  # conver to tensor\n",
        "    tensor_spectrogram = tf.expand_dims(tensor_spectrogram, axis=0)    \n",
        "    spectrogram_tensor = tf.concat([spectrogram_tensor,tensor_spectrogram], 0)\n",
        "    print(spectrogram_tensor.shape)\n",
        "\n",
        "\n",
        "np.save(spectrogram_tensor_folder + \"Dataset_mel_spectrogram_256_8_4\", spectrogram_tensor)\n"
      ],
      "execution_count": null,
      "outputs": [
        {
          "output_type": "stream",
          "name": "stderr",
          "text": [
            "/usr/local/lib/python3.7/dist-packages/librosa/core/audio.py:165: UserWarning: PySoundFile failed. Trying audioread instead.\n",
            "  warnings.warn(\"PySoundFile failed. Trying audioread instead.\")\n"
          ]
        },
        {
          "output_type": "stream",
          "name": "stdout",
          "text": [
            "(8, 256, 8)\n"
          ]
        },
        {
          "output_type": "stream",
          "name": "stderr",
          "text": [
            "/usr/local/lib/python3.7/dist-packages/librosa/core/audio.py:165: UserWarning: PySoundFile failed. Trying audioread instead.\n",
            "  warnings.warn(\"PySoundFile failed. Trying audioread instead.\")\n"
          ]
        },
        {
          "output_type": "stream",
          "name": "stdout",
          "text": [
            "(9, 256, 8)\n"
          ]
        }
      ]
    },
    {
      "cell_type": "markdown",
      "metadata": {
        "id": "SuWzm0iIv_Zk"
      },
      "source": [
        "## LOAD AND CHECK GENERATED\n"
      ]
    },
    {
      "cell_type": "code",
      "metadata": {
        "colab": {
          "base_uri": "https://localhost:8080/"
        },
        "id": "b2bsq9zKx_kP",
        "outputId": "898283fc-6166-4d5b-bdab-56b3e119446b"
      },
      "source": [
        "loaded = np.load('/content/drive/MyDrive/Inzynierka/Data/Results_mel/v1/v1_250.npy')\n",
        "print(loaded.shape)\n",
        "loaded = loaded.reshape(16,256,8)\n",
        "loaded = (loaded *80)-80\n",
        "\n",
        "print(loaded.shape)\n",
        "print(loaded.dtype)"
      ],
      "execution_count": null,
      "outputs": [
        {
          "output_type": "stream",
          "name": "stdout",
          "text": [
            "(16, 256, 8, 1)\n",
            "(16, 256, 8)\n",
            "float32\n"
          ]
        }
      ]
    },
    {
      "cell_type": "code",
      "metadata": {
        "id": "2Qy_ro0o2GYG",
        "colab": {
          "base_uri": "https://localhost:8080/",
          "height": 270
        },
        "outputId": "73a4b8dd-a5fe-46ca-db36-0384764ea396"
      },
      "source": [
        "#S_DB = librosa.power_to_db(S, ref=np.max)\n",
        "spec_gen = loaded[0]\n",
        "librosa.display.specshow(spec_gen)"
      ],
      "execution_count": null,
      "outputs": [
        {
          "output_type": "execute_result",
          "data": {
            "text/plain": [
              "<matplotlib.collections.QuadMesh at 0x7f7f70376850>"
            ]
          },
          "metadata": {},
          "execution_count": 186
        },
        {
          "output_type": "display_data",
          "data": {
            "image/png": "[encoded data removed]",
            "text/plain": [
              "<Figure size 432x288 with 1 Axes>"
            ]
          },
          "metadata": {}
        }
      ]
    },
    {
      "cell_type": "code",
      "metadata": {
        "id": "AjHwL8OSUMFk",
        "colab": {
          "base_uri": "https://localhost:8080/",
          "height": 330
        },
        "outputId": "6d555689-b2c0-4412-e1f2-ab0f860035ef"
      },
      "source": [
        "#Mel Spectrogram to audio\n",
        "\n",
        "P = librosa.db_to_power(spec_gen, ref=25)\n",
        "librosa.display.specshow(P.reshape(256,8))\n",
        "S = librosa.feature.inverse.mel_to_stft(P,sr=8000, n_fft=2048)\n",
        "y = librosa.griffinlim(S)\n",
        "print(y.shape)\n",
        "ipd.Audio(y, rate=8000)"
      ],
      "execution_count": null,
      "outputs": [
        {
          "output_type": "stream",
          "name": "stdout",
          "text": [
            "(3584,)\n"
          ]
        },
        {
          "output_type": "execute_result",
          "data": {
            "text/html": [
              "\n",
              "                <audio controls=\"controls\" >\n",
              "                    <source src=\"data:audio/wav;base64,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\" type=\"audio/wav\" />\n",
              "                    Your browser does not support the audio element.\n",
              "                </audio>\n",
              "              "
            ],
            "text/plain": [
              "<IPython.lib.display.Audio object>"
            ]
          },
          "metadata": {},
          "execution_count": 188
        },
        {
          "output_type": "display_data",
          "data": {
            "image/png": "[encoded data removed]",
            "text/plain": [
              "<Figure size 432x288 with 1 Axes>"
            ]
          },
          "metadata": {}
        }
      ]
    },
    {
      "cell_type": "markdown",
      "metadata": {
        "id": "nP9r1aDjwSl6"
      },
      "source": [
        "# LOAD AND CHECK REAL"
      ]
    },
    {
      "cell_type": "code",
      "metadata": {
        "colab": {
          "base_uri": "https://localhost:8080/"
        },
        "id": "Hf1F59ejxl9F",
        "outputId": "29e37cdf-e530-44c5-ceec-1a2bd70b2f10"
      },
      "source": [
        "loaded_real = np.load('/content/drive/MyDrive/Inzynierka/Data/en_spectrogram_tensor/Dataset_mel_spectrogram_256_8_4.npy')\n",
        "\n",
        "#loaded_real = np.load('/content/gdrive/MyDrive/Inzynierka/Data/Results_mel/v1/v1_250.npy')\n",
        "print(loaded_real.shape)\n",
        "print(loaded_real.dtype)"
      ],
      "execution_count": null,
      "outputs": [
        {
          "output_type": "stream",
          "name": "stdout",
          "text": [
            "(40000, 256, 8)\n",
            "float32\n"
          ]
        }
      ]
    },
    {
      "cell_type": "code",
      "metadata": {
        "colab": {
          "base_uri": "https://localhost:8080/",
          "height": 270
        },
        "id": "D84XvCHfwfdl",
        "outputId": "5b9a6b2f-86f2-4608-a9c4-29efcfa73833"
      },
      "source": [
        "spec = loaded_real[7]\n",
        "librosa.display.specshow(spec)"
      ],
      "execution_count": null,
      "outputs": [
        {
          "output_type": "execute_result",
          "data": {
            "text/plain": [
              "<matplotlib.collections.QuadMesh at 0x7f7f704e7450>"
            ]
          },
          "metadata": {},
          "execution_count": 182
        },
        {
          "output_type": "display_data",
          "data": {
            "image/png": "[encoded data removed]",
            "text/plain": [
              "<Figure size 432x288 with 1 Axes>"
            ]
          },
          "metadata": {}
        }
      ]
    },
    {
      "cell_type": "code",
      "metadata": {
        "colab": {
          "base_uri": "https://localhost:8080/",
          "height": 330
        },
        "id": "9oHVVjQCwqs2",
        "outputId": "1d97808b-79ac-4881-b714-e9ca6ad3cfc2"
      },
      "source": [
        "#Mel Spectrogram to audio\n",
        "\n",
        "P = librosa.db_to_power(spec, ref=1.0)\n",
        "librosa.display.specshow(P.reshape(256,8))\n",
        "S = librosa.feature.inverse.mel_to_stft(P,sr=8000, n_fft=2048)\n",
        "y = librosa.griffinlim(S)\n",
        "print(y.shape)\n",
        "ipd.Audio(y, rate=8000)"
      ],
      "execution_count": null,
      "outputs": [
        {
          "output_type": "stream",
          "name": "stdout",
          "text": [
            "(3584,)\n"
          ]
        },
        {
          "output_type": "execute_result",
          "data": {
            "text/html": [
              "\n",
              "                <audio controls=\"controls\" >\n",
              "                    <source src=\"data:audio/wav;base64,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\" type=\"audio/wav\" />\n",
              "                    Your browser does not support the audio element.\n",
              "                </audio>\n",
              "              "
            ],
            "text/plain": [
              "<IPython.lib.display.Audio object>"
            ]
          },
          "metadata": {},
          "execution_count": 183
        },
        {
          "output_type": "display_data",
          "data": {
            "image/png": "[encoded data removed]",
            "text/plain": [
              "<Figure size 432x288 with 1 Axes>"
            ]
          },
          "metadata": {}
        }
      ]
    }
  ]
}