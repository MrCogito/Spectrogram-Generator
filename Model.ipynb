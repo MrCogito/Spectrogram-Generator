{
  "nbformat": 4,
  "nbformat_minor": 0,
  "metadata": {
    "colab": {
      "name": "Model.ipynb",
      "provenance": [],
      "collapsed_sections": [],
      "machine_shape": "hm",
      "authorship_tag": "ABX9TyMEq9+Tx3kNdfFqabrJe62e",
      "include_colab_link": true
    },
    "kernelspec": {
      "name": "python3",
      "display_name": "Python 3"
    },
    "language_info": {
      "name": "python"
    }
  },
  "cells": [
    {
      "cell_type": "markdown",
      "metadata": {
        "id": "view-in-github",
        "colab_type": "text"
      },
      "source": [
        "<a href=\"https://colab.research.google.com/github/MrCogito/Spectrogram-Generator/blob/main/Model.ipynb\" target=\"_parent\"><img src=\"https://colab.research.google.com/assets/colab-badge.svg\" alt=\"Open In Colab\"/></a>"
      ]
    },
    {
      "cell_type": "markdown",
      "metadata": {
        "id": "hVF08GK3xGaV"
      },
      "source": [
        "# Import TensorFlow and other libraries\n",
        "\n"
      ]
    },
    {
      "cell_type": "code",
      "metadata": {
        "id": "Wr6BzE8kv8y1"
      },
      "source": [
        "import tensorflow as tf\n",
        "from tensorflow import keras\n",
        "from tensorflow.keras import layers\n",
        "import numpy as np\n",
        "import matplotlib.pyplot as plt \n",
        "import pathlib\n",
        "import os\n",
        "from google.colab import drive\n",
        "import time\n",
        "import librosa\n",
        "import librosa.display\n",
        "from keras.initializers import RandomNormal\n",
        "from tensorflow.python.ops.numpy_ops import np_config\n",
        "        \n",
        "\n",
        "\n"
      ],
      "execution_count": null,
      "outputs": []
    },
    {
      "cell_type": "code",
      "metadata": {
        "id": "emTpa6ocy0XA",
        "colab": {
          "base_uri": "https://localhost:8080/"
        },
        "outputId": "0c30cb55-8ddd-4d71-c58b-87a73a6b94d9"
      },
      "source": [
        "drive.mount('/content/gdrive') #Mount google drive"
      ],
      "execution_count": null,
      "outputs": [
        {
          "output_type": "stream",
          "name": "stdout",
          "text": [
            "Mounted at /content/gdrive\n"
          ]
        }
      ]
    },
    {
      "cell_type": "code",
      "metadata": {
        "colab": {
          "base_uri": "https://localhost:8080/",
          "height": 35
        },
        "id": "Y39vVh363JTi",
        "outputId": "44d5a950-2b65-4ad6-a725-f904c1157b79"
      },
      "source": [
        "tf.__version__"
      ],
      "execution_count": null,
      "outputs": [
        {
          "output_type": "execute_result",
          "data": {
            "application/vnd.google.colaboratory.intrinsic+json": {
              "type": "string"
            },
            "text/plain": [
              "'2.7.0'"
            ]
          },
          "metadata": {},
          "execution_count": 4
        }
      ]
    },
    {
      "cell_type": "code",
      "metadata": {
        "colab": {
          "base_uri": "https://localhost:8080/",
          "height": 235
        },
        "id": "cih-Q8_QzgO9",
        "outputId": "76b8b070-b974-4dae-dd7e-af7e08604c17"
      },
      "source": [
        "%tensorflow_version 2.x\n",
        "import tensorflow as tf\n",
        "device_name = tf.test.gpu_device_name()\n",
        "if device_name != '/device:GPU:0':\n",
        "  raise SystemError('GPU device not found')\n",
        "print('Found GPU at: {}'.format(device_name))\n",
        "\n"
      ],
      "execution_count": null,
      "outputs": [
        {
          "output_type": "error",
          "ename": "SystemError",
          "evalue": "ignored",
          "traceback": [
            "\u001b[0;31m---------------------------------------------------------------------------\u001b[0m",
            "\u001b[0;31mSystemError\u001b[0m                               Traceback (most recent call last)",
            "\u001b[0;32m<ipython-input-3-de9120cdefd6>\u001b[0m in \u001b[0;36m<module>\u001b[0;34m()\u001b[0m\n\u001b[1;32m      3\u001b[0m \u001b[0mdevice_name\u001b[0m \u001b[0;34m=\u001b[0m \u001b[0mtf\u001b[0m\u001b[0;34m.\u001b[0m\u001b[0mtest\u001b[0m\u001b[0;34m.\u001b[0m\u001b[0mgpu_device_name\u001b[0m\u001b[0;34m(\u001b[0m\u001b[0;34m)\u001b[0m\u001b[0;34m\u001b[0m\u001b[0;34m\u001b[0m\u001b[0m\n\u001b[1;32m      4\u001b[0m \u001b[0;32mif\u001b[0m \u001b[0mdevice_name\u001b[0m \u001b[0;34m!=\u001b[0m \u001b[0;34m'/device:GPU:0'\u001b[0m\u001b[0;34m:\u001b[0m\u001b[0;34m\u001b[0m\u001b[0;34m\u001b[0m\u001b[0m\n\u001b[0;32m----> 5\u001b[0;31m   \u001b[0;32mraise\u001b[0m \u001b[0mSystemError\u001b[0m\u001b[0;34m(\u001b[0m\u001b[0;34m'GPU device not found'\u001b[0m\u001b[0;34m)\u001b[0m\u001b[0;34m\u001b[0m\u001b[0;34m\u001b[0m\u001b[0m\n\u001b[0m\u001b[1;32m      6\u001b[0m \u001b[0mprint\u001b[0m\u001b[0;34m(\u001b[0m\u001b[0;34m'Found GPU at: {}'\u001b[0m\u001b[0;34m.\u001b[0m\u001b[0mformat\u001b[0m\u001b[0;34m(\u001b[0m\u001b[0mdevice_name\u001b[0m\u001b[0;34m)\u001b[0m\u001b[0;34m)\u001b[0m\u001b[0;34m\u001b[0m\u001b[0;34m\u001b[0m\u001b[0m\n\u001b[1;32m      7\u001b[0m \u001b[0;34m\u001b[0m\u001b[0m\n",
            "\u001b[0;31mSystemError\u001b[0m: GPU device not found"
          ]
        }
      ]
    },
    {
      "cell_type": "markdown",
      "metadata": {
        "id": "WzfctED-xkZC"
      },
      "source": [
        "# Load and prepare the dataset"
      ]
    },
    {
      "cell_type": "code",
      "metadata": {
        "colab": {
          "base_uri": "https://localhost:8080/",
          "height": 374
        },
        "id": "c3fYZEPSxYk1",
        "outputId": "09abc3d2-02e6-49b6-cbed-daed387f473c"
      },
      "source": [
        "# Load data\n",
        "\n",
        "data_tensor = np.load('/content/gdrive/MyDrive/Inzynierka/Data/en_spectrogram_tensor/Dataset_mel_spectrogram_256_8_4.npy')\n",
        "#print(data_tensor)\n",
        "print(data_tensor.dtype)\n",
        "print(data_tensor.shape)\n",
        "data_tensor = (data_tensor + 80) / 80\n",
        "librosa.display.specshow(data_tensor[6642])\n",
        "#print(data_tensor.shape)\n",
        "print(np.max(data_tensor))\n",
        "print(np.min(data_tensor))\n",
        "\n",
        "#print(data_tensor[6699])\n",
        "data_tensor[~np.isfinite(data_tensor)] = 0\n",
        "\n",
        "data_tensor = data_tensor.reshape(40000, 256, 8, 1)\n",
        "print(np.max(data_tensor))\n",
        "print(np.min(data_tensor))\n",
        "#data_tensor = (data_tensor + 40) / 40\n",
        "#print(np.max(data_tensor))\n",
        "#print(np.min(data_tensor))\n",
        "\n",
        "\n",
        "print(data_tensor.shape)\n",
        "BUFFER_SIZE = 40000\n",
        "BATCH_SIZE = 128\n",
        "\n",
        "# Batch and shuffle the data\n",
        "train_dataset = tf.data.Dataset.from_tensor_slices(data_tensor).shuffle(BUFFER_SIZE).batch(BATCH_SIZE)\n",
        "\n"
      ],
      "execution_count": null,
      "outputs": [
        {
          "output_type": "stream",
          "name": "stdout",
          "text": [
            "float32\n",
            "(40000, 256, 8)\n",
            "1.0125\n",
            "0.0\n",
            "1.0125\n",
            "0.0\n",
            "(40000, 256, 8, 1)\n"
          ]
        },
        {
          "output_type": "display_data",
          "data": {
            "image/png": "[encoded data removed]",
            "text/plain": [
              "<Figure size 432x288 with 1 Axes>"
            ]
          },
          "metadata": {}
        }
      ]
    },
    {
      "cell_type": "code",
      "metadata": {
        "colab": {
          "base_uri": "https://localhost:8080/",
          "height": 563
        },
        "id": "kNkYU5RBE_Kj",
        "outputId": "ec56e540-0f8e-487a-92bf-5303f42c9c4d"
      },
      "source": [
        ""
      ],
      "execution_count": null,
      "outputs": [
        {
          "output_type": "error",
          "ename": "ValueError",
          "evalue": "ignored",
          "traceback": [
            "\u001b[0;31m---------------------------------------------------------------------------\u001b[0m",
            "\u001b[0;31mValueError\u001b[0m                                Traceback (most recent call last)",
            "\u001b[0;32m<ipython-input-6-eed4aa99beb5>\u001b[0m in \u001b[0;36m<module>\u001b[0;34m()\u001b[0m\n\u001b[0;32m----> 1\u001b[0;31m \u001b[0mlibrosa\u001b[0m\u001b[0;34m.\u001b[0m\u001b[0mdisplay\u001b[0m\u001b[0;34m.\u001b[0m\u001b[0mspecshow\u001b[0m\u001b[0;34m(\u001b[0m\u001b[0mdata_tensor\u001b[0m\u001b[0;34m[\u001b[0m\u001b[0;36m3912\u001b[0m\u001b[0;34m]\u001b[0m\u001b[0;34m)\u001b[0m\u001b[0;34m\u001b[0m\u001b[0;34m\u001b[0m\u001b[0m\n\u001b[0m",
            "\u001b[0;32m/usr/local/lib/python3.7/dist-packages/librosa/display.py\u001b[0m in \u001b[0;36mspecshow\u001b[0;34m(data, x_coords, y_coords, x_axis, y_axis, sr, hop_length, fmin, fmax, tuning, bins_per_octave, key, Sa, mela, thaat, auto_aspect, htk, ax, **kwargs)\u001b[0m\n\u001b[1;32m    979\u001b[0m \u001b[0;34m\u001b[0m\u001b[0m\n\u001b[1;32m    980\u001b[0m     \u001b[0maxes\u001b[0m \u001b[0;34m=\u001b[0m \u001b[0m__check_axes\u001b[0m\u001b[0;34m(\u001b[0m\u001b[0max\u001b[0m\u001b[0;34m)\u001b[0m\u001b[0;34m\u001b[0m\u001b[0;34m\u001b[0m\u001b[0m\n\u001b[0;32m--> 981\u001b[0;31m     \u001b[0mout\u001b[0m \u001b[0;34m=\u001b[0m \u001b[0maxes\u001b[0m\u001b[0;34m.\u001b[0m\u001b[0mpcolormesh\u001b[0m\u001b[0;34m(\u001b[0m\u001b[0mx_coords\u001b[0m\u001b[0;34m,\u001b[0m \u001b[0my_coords\u001b[0m\u001b[0;34m,\u001b[0m \u001b[0mdata\u001b[0m\u001b[0;34m,\u001b[0m \u001b[0;34m**\u001b[0m\u001b[0mkwargs\u001b[0m\u001b[0;34m)\u001b[0m\u001b[0;34m\u001b[0m\u001b[0;34m\u001b[0m\u001b[0m\n\u001b[0m\u001b[1;32m    982\u001b[0m     \u001b[0m__set_current_image\u001b[0m\u001b[0;34m(\u001b[0m\u001b[0max\u001b[0m\u001b[0;34m,\u001b[0m \u001b[0mout\u001b[0m\u001b[0;34m)\u001b[0m\u001b[0;34m\u001b[0m\u001b[0;34m\u001b[0m\u001b[0m\n\u001b[1;32m    983\u001b[0m \u001b[0;34m\u001b[0m\u001b[0m\n",
            "\u001b[0;32m/usr/local/lib/python3.7/dist-packages/matplotlib/__init__.py\u001b[0m in \u001b[0;36minner\u001b[0;34m(ax, data, *args, **kwargs)\u001b[0m\n\u001b[1;32m   1563\u001b[0m     \u001b[0;32mdef\u001b[0m \u001b[0minner\u001b[0m\u001b[0;34m(\u001b[0m\u001b[0max\u001b[0m\u001b[0;34m,\u001b[0m \u001b[0;34m*\u001b[0m\u001b[0margs\u001b[0m\u001b[0;34m,\u001b[0m \u001b[0mdata\u001b[0m\u001b[0;34m=\u001b[0m\u001b[0;32mNone\u001b[0m\u001b[0;34m,\u001b[0m \u001b[0;34m**\u001b[0m\u001b[0mkwargs\u001b[0m\u001b[0;34m)\u001b[0m\u001b[0;34m:\u001b[0m\u001b[0;34m\u001b[0m\u001b[0;34m\u001b[0m\u001b[0m\n\u001b[1;32m   1564\u001b[0m         \u001b[0;32mif\u001b[0m \u001b[0mdata\u001b[0m \u001b[0;32mis\u001b[0m \u001b[0;32mNone\u001b[0m\u001b[0;34m:\u001b[0m\u001b[0;34m\u001b[0m\u001b[0;34m\u001b[0m\u001b[0m\n\u001b[0;32m-> 1565\u001b[0;31m             \u001b[0;32mreturn\u001b[0m \u001b[0mfunc\u001b[0m\u001b[0;34m(\u001b[0m\u001b[0max\u001b[0m\u001b[0;34m,\u001b[0m \u001b[0;34m*\u001b[0m\u001b[0mmap\u001b[0m\u001b[0;34m(\u001b[0m\u001b[0msanitize_sequence\u001b[0m\u001b[0;34m,\u001b[0m \u001b[0margs\u001b[0m\u001b[0;34m)\u001b[0m\u001b[0;34m,\u001b[0m \u001b[0;34m**\u001b[0m\u001b[0mkwargs\u001b[0m\u001b[0;34m)\u001b[0m\u001b[0;34m\u001b[0m\u001b[0;34m\u001b[0m\u001b[0m\n\u001b[0m\u001b[1;32m   1566\u001b[0m \u001b[0;34m\u001b[0m\u001b[0m\n\u001b[1;32m   1567\u001b[0m         \u001b[0mbound\u001b[0m \u001b[0;34m=\u001b[0m \u001b[0mnew_sig\u001b[0m\u001b[0;34m.\u001b[0m\u001b[0mbind\u001b[0m\u001b[0;34m(\u001b[0m\u001b[0max\u001b[0m\u001b[0;34m,\u001b[0m \u001b[0;34m*\u001b[0m\u001b[0margs\u001b[0m\u001b[0;34m,\u001b[0m \u001b[0;34m**\u001b[0m\u001b[0mkwargs\u001b[0m\u001b[0;34m)\u001b[0m\u001b[0;34m\u001b[0m\u001b[0;34m\u001b[0m\u001b[0m\n",
            "\u001b[0;32m/usr/local/lib/python3.7/dist-packages/matplotlib/axes/_axes.py\u001b[0m in \u001b[0;36mpcolormesh\u001b[0;34m(self, alpha, norm, cmap, vmin, vmax, shading, antialiased, *args, **kwargs)\u001b[0m\n\u001b[1;32m   6102\u001b[0m         \u001b[0mallmatch\u001b[0m \u001b[0;34m=\u001b[0m \u001b[0;34m(\u001b[0m\u001b[0mshading\u001b[0m \u001b[0;34m==\u001b[0m \u001b[0;34m'gouraud'\u001b[0m\u001b[0;34m)\u001b[0m\u001b[0;34m\u001b[0m\u001b[0;34m\u001b[0m\u001b[0m\n\u001b[1;32m   6103\u001b[0m \u001b[0;34m\u001b[0m\u001b[0m\n\u001b[0;32m-> 6104\u001b[0;31m         \u001b[0mX\u001b[0m\u001b[0;34m,\u001b[0m \u001b[0mY\u001b[0m\u001b[0;34m,\u001b[0m \u001b[0mC\u001b[0m \u001b[0;34m=\u001b[0m \u001b[0mself\u001b[0m\u001b[0;34m.\u001b[0m\u001b[0m_pcolorargs\u001b[0m\u001b[0;34m(\u001b[0m\u001b[0;34m'pcolormesh'\u001b[0m\u001b[0;34m,\u001b[0m \u001b[0;34m*\u001b[0m\u001b[0margs\u001b[0m\u001b[0;34m,\u001b[0m \u001b[0mallmatch\u001b[0m\u001b[0;34m=\u001b[0m\u001b[0mallmatch\u001b[0m\u001b[0;34m)\u001b[0m\u001b[0;34m\u001b[0m\u001b[0;34m\u001b[0m\u001b[0m\n\u001b[0m\u001b[1;32m   6105\u001b[0m         \u001b[0mNy\u001b[0m\u001b[0;34m,\u001b[0m \u001b[0mNx\u001b[0m \u001b[0;34m=\u001b[0m \u001b[0mX\u001b[0m\u001b[0;34m.\u001b[0m\u001b[0mshape\u001b[0m\u001b[0;34m\u001b[0m\u001b[0;34m\u001b[0m\u001b[0m\n\u001b[1;32m   6106\u001b[0m         \u001b[0mX\u001b[0m \u001b[0;34m=\u001b[0m \u001b[0mX\u001b[0m\u001b[0;34m.\u001b[0m\u001b[0mravel\u001b[0m\u001b[0;34m(\u001b[0m\u001b[0;34m)\u001b[0m\u001b[0;34m\u001b[0m\u001b[0;34m\u001b[0m\u001b[0m\n",
            "\u001b[0;32m/usr/local/lib/python3.7/dist-packages/matplotlib/axes/_axes.py\u001b[0m in \u001b[0;36m_pcolorargs\u001b[0;34m(funcname, allmatch, *args)\u001b[0m\n\u001b[1;32m   5678\u001b[0m                 \u001b[0;32mif\u001b[0m \u001b[0misinstance\u001b[0m\u001b[0;34m(\u001b[0m\u001b[0mY\u001b[0m\u001b[0;34m,\u001b[0m \u001b[0mnp\u001b[0m\u001b[0;34m.\u001b[0m\u001b[0mma\u001b[0m\u001b[0;34m.\u001b[0m\u001b[0mcore\u001b[0m\u001b[0;34m.\u001b[0m\u001b[0mMaskedArray\u001b[0m\u001b[0;34m)\u001b[0m\u001b[0;34m:\u001b[0m\u001b[0;34m\u001b[0m\u001b[0;34m\u001b[0m\u001b[0m\n\u001b[1;32m   5679\u001b[0m                     \u001b[0mY\u001b[0m \u001b[0;34m=\u001b[0m \u001b[0mY\u001b[0m\u001b[0;34m.\u001b[0m\u001b[0mdata\u001b[0m\u001b[0;34m\u001b[0m\u001b[0;34m\u001b[0m\u001b[0m\n\u001b[0;32m-> 5680\u001b[0;31m             \u001b[0mnrows\u001b[0m\u001b[0;34m,\u001b[0m \u001b[0mncols\u001b[0m \u001b[0;34m=\u001b[0m \u001b[0mC\u001b[0m\u001b[0;34m.\u001b[0m\u001b[0mshape\u001b[0m\u001b[0;34m\u001b[0m\u001b[0;34m\u001b[0m\u001b[0m\n\u001b[0m\u001b[1;32m   5681\u001b[0m         \u001b[0;32melse\u001b[0m\u001b[0;34m:\u001b[0m\u001b[0;34m\u001b[0m\u001b[0;34m\u001b[0m\u001b[0m\n\u001b[1;32m   5682\u001b[0m             raise TypeError(\n",
            "\u001b[0;31mValueError\u001b[0m: too many values to unpack (expected 2)"
          ]
        },
        {
          "output_type": "display_data",
          "data": {
            "image/png": "[encoded data removed]",
            "text/plain": [
              "<Figure size 432x288 with 1 Axes>"
            ]
          },
          "metadata": {
            "needs_background": "light"
          }
        }
      ]
    },
    {
      "cell_type": "markdown",
      "metadata": {
        "id": "VIC9lOj6y_lp"
      },
      "source": [
        "# Build the generator"
      ]
    },
    {
      "cell_type": "markdown",
      "metadata": {
        "id": "uipdLzJOp-Ra"
      },
      "source": [
        ""
      ]
    },
    {
      "cell_type": "code",
      "metadata": {
        "id": "n2zTdb_azKwc"
      },
      "source": [
        "def make_generator_model():\n",
        "    model = tf.keras.Sequential()\n",
        "    model.add(layers.Dense(32*1*128, use_bias=False, input_shape=(100,)))\n",
        "    model.add(layers.BatchNormalization())\n",
        "    model.add(layers.LeakyReLU())\n",
        "    model.add(layers.Reshape((32, 1, 128)))\n",
        "    assert model.output_shape == (None, 32, 1, 128)  # ensure size is correct None is batch size\n",
        "   \n",
        "    model.add(layers.Conv2DTranspose(128, kernel_size=4, strides=2, padding=\"same\"))\n",
        "    print(model.output_shape)\n",
        "    assert model.output_shape == (None, 64, 2, 128)\n",
        "    model.add(layers.BatchNormalization())\n",
        "    model.add(layers.LeakyReLU(alpha=0.2))\n",
        "    \n",
        "    model.add(layers.Conv2DTranspose(256, kernel_size=4, strides=2, padding=\"same\"))\n",
        "    print(model.output_shape)\n",
        "    assert model.output_shape == (None, 128, 4, 256)\n",
        "    model.add(layers.BatchNormalization())\n",
        "    model.add(layers.LeakyReLU(alpha=0.2))\n",
        "\n",
        "    model.add(layers.Conv2DTranspose(512, kernel_size=4, strides=2, padding=\"same\"))\n",
        "    print(model.output_shape)\n",
        "    assert model.output_shape == (None, 256, 8, 512)\n",
        "    model.add(layers.BatchNormalization())\n",
        "    model.add(layers.LeakyReLU(alpha=0.2))\n",
        "    \n",
        "    model.add(layers.Conv2D(1, kernel_size=5, padding='same', use_bias=False, activation='sigmoid'))\n",
        "    print(model.output_shape)\n",
        "    \n",
        "    return model\n",
        "\n",
        "\n",
        "\n"
      ],
      "execution_count": null,
      "outputs": []
    },
    {
      "cell_type": "code",
      "metadata": {
        "colab": {
          "base_uri": "https://localhost:8080/"
        },
        "id": "hAgcaxf6AKIb",
        "outputId": "804cbf5d-606e-4a2c-cd67-989ca9de78a7"
      },
      "source": [
        "generator = make_generator_model()\n",
        "generator.summary()"
      ],
      "execution_count": null,
      "outputs": [
        {
          "output_type": "stream",
          "name": "stdout",
          "text": [
            "(None, 64, 2, 128)\n",
            "(None, 128, 4, 256)\n",
            "(None, 256, 8, 512)\n",
            "(None, 256, 8, 1)\n",
            "Model: \"sequential\"\n",
            "_________________________________________________________________\n",
            " Layer (type)                Output Shape              Param #   \n",
            "=================================================================\n",
            " dense (Dense)               (None, 4096)              409600    \n",
            "                                                                 \n",
            " batch_normalization (BatchN  (None, 4096)             16384     \n",
            " ormalization)                                                   \n",
            "                                                                 \n",
            " leaky_re_lu (LeakyReLU)     (None, 4096)              0         \n",
            "                                                                 \n",
            " reshape (Reshape)           (None, 32, 1, 128)        0         \n",
            "                                                                 \n",
            " conv2d_transpose (Conv2DTra  (None, 64, 2, 128)       262272    \n",
            " nspose)                                                         \n",
            "                                                                 \n",
            " batch_normalization_1 (Batc  (None, 64, 2, 128)       512       \n",
            " hNormalization)                                                 \n",
            "                                                                 \n",
            " leaky_re_lu_1 (LeakyReLU)   (None, 64, 2, 128)        0         \n",
            "                                                                 \n",
            " conv2d_transpose_1 (Conv2DT  (None, 128, 4, 256)      524544    \n",
            " ranspose)                                                       \n",
            "                                                                 \n",
            " batch_normalization_2 (Batc  (None, 128, 4, 256)      1024      \n",
            " hNormalization)                                                 \n",
            "                                                                 \n",
            " leaky_re_lu_2 (LeakyReLU)   (None, 128, 4, 256)       0         \n",
            "                                                                 \n",
            " conv2d_transpose_2 (Conv2DT  (None, 256, 8, 512)      2097664   \n",
            " ranspose)                                                       \n",
            "                                                                 \n",
            " batch_normalization_3 (Batc  (None, 256, 8, 512)      2048      \n",
            " hNormalization)                                                 \n",
            "                                                                 \n",
            " leaky_re_lu_3 (LeakyReLU)   (None, 256, 8, 512)       0         \n",
            "                                                                 \n",
            " conv2d (Conv2D)             (None, 256, 8, 1)         12800     \n",
            "                                                                 \n",
            "=================================================================\n",
            "Total params: 3,326,848\n",
            "Trainable params: 3,316,864\n",
            "Non-trainable params: 9,984\n",
            "_________________________________________________________________\n"
          ]
        }
      ]
    },
    {
      "cell_type": "code",
      "metadata": {
        "colab": {
          "base_uri": "https://localhost:8080/",
          "height": 286
        },
        "id": "6Fcutm-_DJug",
        "outputId": "48b61613-81f0-46ad-ac98-55d490556bfb"
      },
      "source": [
        "noise = tf.random.normal([1, 100])\n",
        "generated_image = generator(noise, training=False)\n",
        "plt.imshow(generated_image[0, :, :, 0], cmap='gray')\n",
        "print(generated_image.shape)\n",
        "\n",
        "#np.save(\"/content/gdrive/MyDrive/Inzynierka/Data/Results40/v2/test_\" , generated_image)\n"
      ],
      "execution_count": null,
      "outputs": [
        {
          "output_type": "stream",
          "name": "stdout",
          "text": [
            "(1, 256, 8, 1)\n"
          ]
        },
        {
          "output_type": "display_data",
          "data": {
            "image/png": "[encoded data removed]",
            "text/plain": [
              "<Figure size 432x288 with 1 Axes>"
            ]
          },
          "metadata": {
            "needs_background": "light"
          }
        }
      ]
    },
    {
      "cell_type": "markdown",
      "metadata": {
        "id": "BG5a-34DlhVM"
      },
      "source": [
        "# Build the discriminator\n"
      ]
    },
    {
      "cell_type": "code",
      "metadata": {
        "id": "o0D4W_H2nKl0"
      },
      "source": [
        "def make_discriminator_model():\n",
        "  \n",
        "  model = tf.keras.Sequential()\n",
        "  model.add(layers.Conv2D(64, kernel_size=4, strides=2, padding='same',input_shape=[256, 8, 1]))\n",
        "  model.add(layers.LeakyReLU())\n",
        "  model.add(layers.Flatten())\n",
        "  model.add(layers.Dropout(0.3))\n",
        "\n",
        "  model.add(layers.Dense(1,activation=\"sigmoid\"))\n",
        "\n",
        "  return model\n",
        "\n"
      ],
      "execution_count": null,
      "outputs": []
    },
    {
      "cell_type": "code",
      "metadata": {
        "colab": {
          "base_uri": "https://localhost:8080/"
        },
        "id": "Q7k4WrQ3uPsa",
        "outputId": "6f30427c-fb33-4eb7-e96f-87627864abe8"
      },
      "source": [
        "discriminator = make_discriminator_model()\n",
        "decision = discriminator(generated_image)\n",
        "print(decision)\n",
        "discriminator.summary()"
      ],
      "execution_count": null,
      "outputs": [
        {
          "output_type": "stream",
          "name": "stdout",
          "text": [
            "tf.Tensor([[0.50357896]], shape=(1, 1), dtype=float32)\n",
            "Model: \"sequential_1\"\n",
            "_________________________________________________________________\n",
            " Layer (type)                Output Shape              Param #   \n",
            "=================================================================\n",
            " conv2d_1 (Conv2D)           (None, 128, 4, 64)        1088      \n",
            "                                                                 \n",
            " leaky_re_lu_4 (LeakyReLU)   (None, 128, 4, 64)        0         \n",
            "                                                                 \n",
            " flatten (Flatten)           (None, 32768)             0         \n",
            "                                                                 \n",
            " dropout (Dropout)           (None, 32768)             0         \n",
            "                                                                 \n",
            " dense_1 (Dense)             (None, 1)                 32769     \n",
            "                                                                 \n",
            "=================================================================\n",
            "Total params: 33,857\n",
            "Trainable params: 33,857\n",
            "Non-trainable params: 0\n",
            "_________________________________________________________________\n"
          ]
        }
      ]
    },
    {
      "cell_type": "markdown",
      "metadata": {
        "id": "j_5o6Qc1ApJu"
      },
      "source": [
        "# Define the loss and optimizers\n"
      ]
    },
    {
      "cell_type": "code",
      "metadata": {
        "id": "qsyQNRJRAtjR"
      },
      "source": [
        "cross_entropy = tf.keras.losses.BinaryCrossentropy(from_logits=False) # from_logits=True return value in [-inf, inf]"
      ],
      "execution_count": null,
      "outputs": []
    },
    {
      "cell_type": "code",
      "metadata": {
        "id": "Kg9XEasgBSU-"
      },
      "source": [
        "#discriminator loss\n",
        "def discriminator_loss(real_output, fake_output):\n",
        "    real_labels = tf.ones_like(real_output)\n",
        "    fake_labels = tf.zeros_like(fake_output)\n",
        "\n",
        "    real_labels += 0.05 * tf.random.uniform(tf.shape(real_labels))\n",
        "    fake_labels += 0.05 * tf.random.uniform(tf.shape(fake_labels))  \n",
        "\n",
        "    real_loss = cross_entropy(real_labels, real_output)\n",
        "    fake_loss = cross_entropy(fake_labels, fake_output)\n",
        "\n",
        "    total_loss = (real_loss + fake_loss)\n",
        "    return total_loss, fake_loss, real_loss\n",
        "    "
      ],
      "execution_count": null,
      "outputs": []
    },
    {
      "cell_type": "code",
      "metadata": {
        "id": "zDRXjUuIBYHN"
      },
      "source": [
        "#generator loss\n",
        "def generator_loss(fake_output):\n",
        "    return cross_entropy(tf.ones_like(fake_output), fake_output)"
      ],
      "execution_count": null,
      "outputs": []
    },
    {
      "cell_type": "code",
      "metadata": {
        "id": "gTsRuLcqB0AT"
      },
      "source": [
        "#optimizers \n",
        "generator_optimizer = tf.keras.optimizers.Adam(0.0001)\n",
        "discriminator_optimizer = tf.keras.optimizers.Adam(0.0001)\n"
      ],
      "execution_count": null,
      "outputs": []
    },
    {
      "cell_type": "markdown",
      "metadata": {
        "id": "CcjO4hr7Fm2Z"
      },
      "source": [
        "# Save checkpoints\n"
      ]
    },
    {
      "cell_type": "code",
      "metadata": {
        "id": "S2lKaBenFtKL"
      },
      "source": [
        "checkpoint_dir = '/content/gdrive/MyDrive/Inzynierka/Data/Results_mel/v1/checkpoints'\n",
        "checkpoint_prefix = os.path.join(checkpoint_dir, \"ckpt\")\n",
        "checkpoint = tf.train.Checkpoint(generator_optimizer=generator_optimizer,\n",
        "                                 discriminator_optimizer=discriminator_optimizer,\n",
        "                                 generator=generator,\n",
        "                                 discriminator=discriminator)"
      ],
      "execution_count": null,
      "outputs": []
    },
    {
      "cell_type": "markdown",
      "metadata": {
        "id": "scLG7C0VVp2-"
      },
      "source": [
        "# Save and plot history"
      ]
    },
    {
      "cell_type": "code",
      "metadata": {
        "id": "N-x7uK1vVv56"
      },
      "source": [
        "def plot_history(d1_hist, g_hist,epochs):\n",
        "  # plot loss\n",
        "\tplt.subplot(2,1,1)\n",
        "\tplt.plot(d1_hist, label='disc loss')\n",
        "\tplt.legend()\n",
        "\tplt.subplot(2,1,2)\n",
        "\tplt.plot(g_hist, label='gen loss')\n",
        "\tplt.legend()\n",
        "\t#plt.show()\n",
        "\t# plot discriminator accuracy\n",
        "\t# save plot to file\n",
        "\tplt.savefig('/content/gdrive/MyDrive/Inzynierka/Data/Results_mel/v1/DG_loss' + str(epochs))\n",
        "\tplt.close()"
      ],
      "execution_count": null,
      "outputs": []
    },
    {
      "cell_type": "code",
      "metadata": {
        "id": "VpDp2U4syNc0"
      },
      "source": [
        "def plot_history2(dfake_hist, dreal_hist,epochs):\n",
        "  # plot loss\n",
        "\tplt.subplot(2,1,1)\n",
        "\tplt.plot(dfake_hist, label='dfake_hist')\n",
        "\tplt.legend()\n",
        "\tplt.subplot(2,1,2)\n",
        "\tplt.plot(dreal_hist, label='dreal_hist')\n",
        "\tplt.legend()\n",
        "\t#plt.show()\n",
        "\t# plot discriminator accuracy\n",
        "\t# save plot to file\n",
        "\tplt.savefig('/content/gdrive/MyDrive/Inzynierka/Data/Results_mel/v1/discriminator_loss' + str(epochs))\n",
        "\tplt.close()"
      ],
      "execution_count": null,
      "outputs": []
    },
    {
      "cell_type": "markdown",
      "metadata": {
        "id": "_GbdjkxcDbNM"
      },
      "source": [
        "# Define the training loop"
      ]
    },
    {
      "cell_type": "code",
      "metadata": {
        "id": "jH2GQXqSDhO0"
      },
      "source": [
        "EPOCHS = 250\n",
        "noise_dim = 100\n",
        "num_examples_to_generate = 16\n",
        "\n",
        "# You will reuse this seed overtime (so it's easier)\n",
        "# to visualize progress in the animated GIF)\n",
        "# to moze byc do wywalenia\n",
        "seed = tf.random.normal([num_examples_to_generate, noise_dim])"
      ],
      "execution_count": null,
      "outputs": []
    },
    {
      "cell_type": "code",
      "metadata": {
        "id": "UZwLOgT8EzQA"
      },
      "source": [
        "@tf.function\n",
        "def train_step(images):\n",
        "    noise = tf.random.normal([BATCH_SIZE, noise_dim])\n",
        "\n",
        "    with tf.GradientTape() as gen_tape, tf.GradientTape() as disc_tape:\n",
        "      generated_images = generator(noise, training=True)\n",
        "\n",
        "      real_output = discriminator(images, training=True)\n",
        "      fake_output = discriminator(generated_images, training=True)\n",
        "\n",
        "      gen_loss = generator_loss(fake_output)\n",
        "      disc_loss, fake_loss, real_loss = discriminator_loss(real_output, fake_output)\n",
        "\n",
        "\n",
        "    gradients_of_generator = gen_tape.gradient(gen_loss, generator.trainable_variables)\n",
        "    gradients_of_discriminator = disc_tape.gradient(disc_loss, discriminator.trainable_variables)\n",
        "\n",
        "    generator_optimizer.apply_gradients(zip(gradients_of_generator, generator.trainable_variables))\n",
        "    discriminator_optimizer.apply_gradients(zip(gradients_of_discriminator, discriminator.trainable_variables))\n",
        "    return gen_loss, disc_loss, fake_loss, real_loss\n"
      ],
      "execution_count": null,
      "outputs": []
    },
    {
      "cell_type": "code",
      "metadata": {
        "id": "4nbQd_i-FfwY"
      },
      "source": [
        "def train(dataset, epochs):\n",
        "  generator_hist, discriminator_hist, discriminator_fake_hist, discriminator_real_hist  = list(), list(), list(), list()\n",
        "  for epoch in range(epochs):\n",
        "    start = time.time()\n",
        "    #\n",
        "    disc_loss,gen_loss,fake_loss,real_loss = 0,0,0,0\n",
        "    #\n",
        "    for image_batch in dataset:\n",
        "      gen_loss_change,disc_loss_change, fake_loss_change, real_loss_change = train_step(image_batch)\n",
        "      gen_loss = gen_loss + gen_loss_change\n",
        "      disc_loss = disc_loss + disc_loss_change\n",
        "      fake_loss = fake_loss + fake_loss_change\n",
        "      real_loss = real_loss + real_loss_change\n",
        "    # Produce images for the GIF as you go\n",
        "    #display.clear_output(wait=True)\n",
        "    #generate_and_save_images(generator,\n",
        "                             #epoch + 1,\n",
        "                             #seed)\n",
        "    # save generator and discriminator loss values \n",
        "    discriminator_hist.append(disc_loss)\n",
        "    generator_hist.append(gen_loss)\n",
        "    discriminator_fake_hist.append(fake_loss)\n",
        "    discriminator_real_hist.append(real_loss)\n",
        "    # Save the model every 10 epochs\n",
        "    if (epoch+1) % 10 == 0:\n",
        "      checkpoint.save(file_prefix = checkpoint_prefix)\n",
        "      plot_history(discriminator_hist,generator_hist,epoch)\n",
        "      plot_history2(discriminator_fake_hist,discriminator_real_hist,epoch)\n",
        "      generate_and_save_images(generator,epoch,seed)\n",
        "      print(\"Generated and saved\")\n",
        "    print ('Time for epoch {} is {} sec'.format(epoch + 1, time.time()-start))\n",
        "\n",
        "  # Generate after the final epoch\n",
        "  #display.clear_output(wait=True)\n",
        "  generate_and_save_images(generator,\n",
        "                           epochs,\n",
        "                           seed)"
      ],
      "execution_count": null,
      "outputs": []
    },
    {
      "cell_type": "code",
      "metadata": {
        "id": "5eK4M0ufGAYN"
      },
      "source": [
        "#Generate and save images \n",
        "def generate_and_save_images(model, epoch, test_input):\n",
        "  # Notice `training` is set to False.\n",
        "  # This is so all layers run in inference mode (batchnorm).\n",
        "  predictions = model(test_input, training=False)\n",
        "\n",
        "  fig = plt.figure(figsize=(4, 4))\n",
        "\n",
        "  for i in range(predictions.shape[0]):\n",
        "      plt.subplot(4, 4, i+1)\n",
        "      plt.imshow(predictions[i, :, :, 0] * 127.5 + 127.5, cmap='gray')\n",
        "      plt.axis('off')\n",
        "\n",
        "  plt.savefig('image_at_epoch_{:04d}.png'.format(epoch))\n",
        "  plt.show()\n",
        "  np.save(\"/content/gdrive/MyDrive/Inzynierka/Data/Results_mel/v1/v1_\" + str(epoch), predictions)\n",
        "  print(predictions.shape)\n",
        "  "
      ],
      "execution_count": null,
      "outputs": []
    },
    {
      "cell_type": "code",
      "metadata": {
        "id": "nOm8Mo2PGOv0"
      },
      "source": [
        ""
      ],
      "execution_count": null,
      "outputs": []
    },
    {
      "cell_type": "markdown",
      "metadata": {
        "id": "EyZE6cumGOPu"
      },
      "source": [
        "# Train model"
      ]
    },
    {
      "cell_type": "code",
      "metadata": {
        "id": "ph11WigkGQ8N",
        "colab": {
          "base_uri": "https://localhost:8080/",
          "height": 1000
        },
        "outputId": "546ff704-eeff-4bf8-88ac-0560ce13b71f"
      },
      "source": [
        "train(train_dataset, EPOCHS)"
      ],
      "execution_count": null,
      "outputs": [
        {
          "output_type": "stream",
          "name": "stdout",
          "text": [
            "Time for epoch 1 is 70.14425802230835 sec\n",
            "Time for epoch 2 is 60.39000415802002 sec\n",
            "Time for epoch 3 is 60.315741539001465 sec\n",
            "Time for epoch 4 is 60.315613746643066 sec\n",
            "Time for epoch 5 is 60.32342290878296 sec\n",
            "Time for epoch 6 is 60.320611238479614 sec\n",
            "Time for epoch 7 is 60.31835865974426 sec\n",
            "Time for epoch 8 is 60.317084312438965 sec\n",
            "Time for epoch 9 is 60.31399083137512 sec\n"
          ]
        },
        {
          "output_type": "display_data",
          "data": {
            "image/png": "[encoded data removed]",
            "text/plain": [
              "<Figure size 288x288 with 16 Axes>"
            ]
          },
          "metadata": {
            "needs_background": "light"
          }
        },
        {
          "output_type": "stream",
          "name": "stdout",
          "text": [
            "(16, 256, 8, 1)\n",
            "Generated and saved\n",
            "Time for epoch 10 is 65.40701341629028 sec\n",
            "Time for epoch 11 is 60.31293320655823 sec\n",
            "Time for epoch 12 is 60.31079649925232 sec\n",
            "Time for epoch 13 is 60.32052755355835 sec\n",
            "Time for epoch 14 is 60.313132524490356 sec\n",
            "Time for epoch 15 is 60.325281858444214 sec\n",
            "Time for epoch 16 is 60.315101623535156 sec\n",
            "Time for epoch 17 is 60.31148409843445 sec\n",
            "Time for epoch 18 is 60.319193601608276 sec\n",
            "Time for epoch 19 is 60.32554578781128 sec\n"
          ]
        },
        {
          "output_type": "display_data",
          "data": {
            "image/png": "[encoded data removed]",
            "text/plain": [
              "<Figure size 288x288 with 16 Axes>"
            ]
          },
          "metadata": {
            "needs_background": "light"
          }
        },
        {
          "output_type": "stream",
          "name": "stdout",
          "text": [
            "(16, 256, 8, 1)\n",
            "Generated and saved\n",
            "Time for epoch 20 is 64.07777261734009 sec\n",
            "Time for epoch 21 is 60.319928884506226 sec\n",
            "Time for epoch 22 is 60.31274628639221 sec\n",
            "Time for epoch 23 is 60.311394453048706 sec\n",
            "Time for epoch 24 is 60.31412601470947 sec\n",
            "Time for epoch 25 is 60.314873456954956 sec\n",
            "Time for epoch 26 is 60.31779360771179 sec\n",
            "Time for epoch 27 is 60.318904876708984 sec\n",
            "Time for epoch 28 is 60.31358504295349 sec\n",
            "Time for epoch 29 is 60.3155996799469 sec\n"
          ]
        },
        {
          "output_type": "display_data",
          "data": {
            "image/png": "[encoded data removed]",
            "text/plain": [
              "<Figure size 288x288 with 16 Axes>"
            ]
          },
          "metadata": {
            "needs_background": "light"
          }
        },
        {
          "output_type": "stream",
          "name": "stdout",
          "text": [
            "(16, 256, 8, 1)\n",
            "Generated and saved\n",
            "Time for epoch 30 is 63.855995416641235 sec\n",
            "Time for epoch 31 is 60.320165395736694 sec\n",
            "Time for epoch 32 is 60.317580223083496 sec\n",
            "Time for epoch 33 is 60.30751323699951 sec\n",
            "Time for epoch 34 is 60.31867432594299 sec\n",
            "Time for epoch 35 is 60.3194146156311 sec\n",
            "Time for epoch 36 is 60.31099796295166 sec\n",
            "Time for epoch 37 is 60.31948447227478 sec\n",
            "Time for epoch 38 is 60.343318939208984 sec\n",
            "Time for epoch 39 is 60.32023572921753 sec\n"
          ]
        },
        {
          "output_type": "display_data",
          "data": {
            "image/png": "[encoded data removed]",
            "text/plain": [
              "<Figure size 288x288 with 16 Axes>"
            ]
          },
          "metadata": {
            "needs_background": "light"
          }
        },
        {
          "output_type": "stream",
          "name": "stdout",
          "text": [
            "(16, 256, 8, 1)\n",
            "Generated and saved\n",
            "Time for epoch 40 is 61.398072719573975 sec\n",
            "Time for epoch 41 is 60.305307149887085 sec\n",
            "Time for epoch 42 is 60.32833528518677 sec\n",
            "Time for epoch 43 is 60.31949210166931 sec\n",
            "Time for epoch 44 is 60.3136100769043 sec\n",
            "Time for epoch 45 is 60.32042574882507 sec\n",
            "Time for epoch 46 is 60.31047868728638 sec\n",
            "Time for epoch 47 is 60.31959867477417 sec\n",
            "Time for epoch 48 is 60.31145668029785 sec\n",
            "Time for epoch 49 is 60.31648564338684 sec\n"
          ]
        },
        {
          "output_type": "display_data",
          "data": {
            "image/png": "[encoded data removed]",
            "text/plain": [
              "<Figure size 288x288 with 16 Axes>"
            ]
          },
          "metadata": {
            "needs_background": "light"
          }
        },
        {
          "output_type": "stream",
          "name": "stdout",
          "text": [
            "(16, 256, 8, 1)\n",
            "Generated and saved\n",
            "Time for epoch 50 is 61.53860950469971 sec\n",
            "Time for epoch 51 is 60.319984912872314 sec\n",
            "Time for epoch 52 is 60.31816554069519 sec\n",
            "Time for epoch 53 is 60.31794571876526 sec\n",
            "Time for epoch 54 is 60.31616282463074 sec\n",
            "Time for epoch 55 is 60.310224533081055 sec\n",
            "Time for epoch 56 is 60.31259083747864 sec\n",
            "Time for epoch 57 is 60.31134295463562 sec\n",
            "Time for epoch 58 is 60.310386180877686 sec\n",
            "Time for epoch 59 is 60.313857555389404 sec\n"
          ]
        },
        {
          "output_type": "display_data",
          "data": {
            "image/png": "[encoded data removed]",
            "text/plain": [
              "<Figure size 288x288 with 16 Axes>"
            ]
          },
          "metadata": {
            "needs_background": "light"
          }
        },
        {
          "output_type": "stream",
          "name": "stdout",
          "text": [
            "(16, 256, 8, 1)\n",
            "Generated and saved\n",
            "Time for epoch 60 is 61.382750511169434 sec\n",
            "Time for epoch 61 is 60.32457637786865 sec\n",
            "Time for epoch 62 is 60.33063316345215 sec\n",
            "Time for epoch 63 is 60.30016303062439 sec\n",
            "Time for epoch 64 is 60.30561900138855 sec\n",
            "Time for epoch 65 is 60.304137229919434 sec\n",
            "Time for epoch 66 is 60.31655788421631 sec\n",
            "Time for epoch 67 is 60.30447435379028 sec\n",
            "Time for epoch 68 is 60.30641770362854 sec\n",
            "Time for epoch 69 is 60.308305978775024 sec\n"
          ]
        },
        {
          "output_type": "display_data",
          "data": {
            "image/png": "[encoded data removed]",
            "text/plain": [
              "<Figure size 288x288 with 16 Axes>"
            ]
          },
          "metadata": {
            "needs_background": "light"
          }
        },
        {
          "output_type": "stream",
          "name": "stdout",
          "text": [
            "(16, 256, 8, 1)\n",
            "Generated and saved\n",
            "Time for epoch 70 is 61.34421992301941 sec\n",
            "Time for epoch 71 is 60.305418491363525 sec\n",
            "Time for epoch 72 is 60.30573320388794 sec\n",
            "Time for epoch 73 is 60.3175482749939 sec\n",
            "Time for epoch 74 is 60.31256318092346 sec\n",
            "Time for epoch 75 is 60.33192825317383 sec\n",
            "Time for epoch 76 is 60.32374835014343 sec\n",
            "Time for epoch 77 is 60.31526732444763 sec\n",
            "Time for epoch 78 is 60.32040977478027 sec\n",
            "Time for epoch 79 is 60.30999493598938 sec\n"
          ]
        },
        {
          "output_type": "display_data",
          "data": {
            "image/png": "[encoded data removed]",
            "text/plain": [
              "<Figure size 288x288 with 16 Axes>"
            ]
          },
          "metadata": {
            "needs_background": "light"
          }
        },
        {
          "output_type": "stream",
          "name": "stdout",
          "text": [
            "(16, 256, 8, 1)\n",
            "Generated and saved\n",
            "Time for epoch 80 is 61.55437159538269 sec\n",
            "Time for epoch 81 is 60.31659483909607 sec\n",
            "Time for epoch 82 is 82.06762409210205 sec\n",
            "Time for epoch 83 is 60.33018517494202 sec\n",
            "Time for epoch 84 is 60.30661153793335 sec\n",
            "Time for epoch 85 is 60.310678005218506 sec\n",
            "Time for epoch 86 is 60.308037996292114 sec\n",
            "Time for epoch 87 is 60.30540227890015 sec\n",
            "Time for epoch 88 is 60.302623987197876 sec\n",
            "Time for epoch 89 is 60.31430220603943 sec\n"
          ]
        },
        {
          "output_type": "display_data",
          "data": {
            "image/png": "[encoded data removed]",
            "text/plain": [
              "<Figure size 288x288 with 16 Axes>"
            ]
          },
          "metadata": {
            "needs_background": "light"
          }
        },
        {
          "output_type": "stream",
          "name": "stdout",
          "text": [
            "(16, 256, 8, 1)\n",
            "Generated and saved\n",
            "Time for epoch 90 is 61.34945797920227 sec\n",
            "Time for epoch 91 is 60.29953050613403 sec\n",
            "Time for epoch 92 is 60.29425883293152 sec\n",
            "Time for epoch 93 is 60.29877972602844 sec\n",
            "Time for epoch 94 is 60.322208881378174 sec\n",
            "Time for epoch 95 is 60.308778524398804 sec\n",
            "Time for epoch 96 is 60.30090880393982 sec\n",
            "Time for epoch 97 is 60.29644703865051 sec\n",
            "Time for epoch 98 is 60.29823565483093 sec\n",
            "Time for epoch 99 is 60.29245710372925 sec\n"
          ]
        },
        {
          "output_type": "display_data",
          "data": {
            "image/png": "[encoded data removed]",
            "text/plain": [
              "<Figure size 288x288 with 16 Axes>"
            ]
          },
          "metadata": {
            "needs_background": "light"
          }
        },
        {
          "output_type": "stream",
          "name": "stdout",
          "text": [
            "(16, 256, 8, 1)\n",
            "Generated and saved\n",
            "Time for epoch 100 is 61.50370788574219 sec\n",
            "Time for epoch 101 is 60.296334743499756 sec\n",
            "Time for epoch 102 is 60.29417395591736 sec\n",
            "Time for epoch 103 is 60.29451584815979 sec\n",
            "Time for epoch 104 is 60.29331827163696 sec\n",
            "Time for epoch 105 is 60.30008244514465 sec\n",
            "Time for epoch 106 is 60.286558866500854 sec\n",
            "Time for epoch 107 is 60.2974591255188 sec\n",
            "Time for epoch 108 is 60.29759168624878 sec\n",
            "Time for epoch 109 is 60.303130865097046 sec\n"
          ]
        },
        {
          "output_type": "display_data",
          "data": {
            "image/png": "[encoded data removed]",
            "text/plain": [
              "<Figure size 288x288 with 16 Axes>"
            ]
          },
          "metadata": {
            "needs_background": "light"
          }
        },
        {
          "output_type": "stream",
          "name": "stdout",
          "text": [
            "(16, 256, 8, 1)\n",
            "Generated and saved\n",
            "Time for epoch 110 is 61.35069799423218 sec\n",
            "Time for epoch 111 is 60.31077027320862 sec\n",
            "Time for epoch 112 is 60.30691719055176 sec\n",
            "Time for epoch 113 is 60.308300256729126 sec\n",
            "Time for epoch 114 is 60.30668115615845 sec\n",
            "Time for epoch 115 is 60.31859517097473 sec\n",
            "Time for epoch 116 is 60.30250358581543 sec\n",
            "Time for epoch 117 is 60.30555582046509 sec\n",
            "Time for epoch 118 is 60.32102155685425 sec\n",
            "Time for epoch 119 is 60.30763578414917 sec\n"
          ]
        },
        {
          "output_type": "display_data",
          "data": {
            "image/png": "[encoded data removed]",
            "text/plain": [
              "<Figure size 288x288 with 16 Axes>"
            ]
          },
          "metadata": {
            "needs_background": "light"
          }
        },
        {
          "output_type": "stream",
          "name": "stdout",
          "text": [
            "(16, 256, 8, 1)\n",
            "Generated and saved\n",
            "Time for epoch 120 is 61.3377320766449 sec\n",
            "Time for epoch 121 is 60.304943799972534 sec\n",
            "Time for epoch 122 is 60.295775413513184 sec\n",
            "Time for epoch 123 is 60.29031682014465 sec\n",
            "Time for epoch 124 is 60.3013072013855 sec\n",
            "Time for epoch 125 is 60.30490064620972 sec\n",
            "Time for epoch 126 is 60.30431842803955 sec\n",
            "Time for epoch 127 is 60.30196762084961 sec\n",
            "Time for epoch 128 is 60.302091121673584 sec\n",
            "Time for epoch 129 is 60.298397064208984 sec\n"
          ]
        },
        {
          "output_type": "display_data",
          "data": {
            "image/png": "[encoded data removed]",
            "text/plain": [
              "<Figure size 288x288 with 16 Axes>"
            ]
          },
          "metadata": {
            "needs_background": "light"
          }
        },
        {
          "output_type": "stream",
          "name": "stdout",
          "text": [
            "(16, 256, 8, 1)\n",
            "Generated and saved\n",
            "Time for epoch 130 is 61.55762529373169 sec\n",
            "Time for epoch 131 is 60.30040431022644 sec\n",
            "Time for epoch 132 is 60.30844187736511 sec\n",
            "Time for epoch 133 is 60.313562631607056 sec\n",
            "Time for epoch 134 is 60.310768365859985 sec\n",
            "Time for epoch 135 is 60.30962777137756 sec\n",
            "Time for epoch 136 is 60.306700468063354 sec\n",
            "Time for epoch 137 is 60.29825186729431 sec\n",
            "Time for epoch 138 is 60.302765130996704 sec\n",
            "Time for epoch 139 is 60.30607008934021 sec\n"
          ]
        },
        {
          "output_type": "display_data",
          "data": {
            "image/png": "[encoded data removed]",
            "text/plain": [
              "<Figure size 288x288 with 16 Axes>"
            ]
          },
          "metadata": {
            "needs_background": "light"
          }
        },
        {
          "output_type": "stream",
          "name": "stdout",
          "text": [
            "(16, 256, 8, 1)\n",
            "Generated and saved\n",
            "Time for epoch 140 is 61.34295082092285 sec\n",
            "Time for epoch 141 is 60.308711767196655 sec\n",
            "Time for epoch 142 is 60.309019565582275 sec\n",
            "Time for epoch 143 is 60.30031108856201 sec\n",
            "Time for epoch 144 is 60.30500292778015 sec\n",
            "Time for epoch 145 is 60.305480003356934 sec\n",
            "Time for epoch 146 is 60.31686758995056 sec\n",
            "Time for epoch 147 is 60.30915379524231 sec\n",
            "Time for epoch 148 is 60.32056498527527 sec\n",
            "Time for epoch 149 is 60.31065058708191 sec\n"
          ]
        },
        {
          "output_type": "display_data",
          "data": {
            "image/png": "[encoded data removed]",
            "text/plain": [
              "<Figure size 288x288 with 16 Axes>"
            ]
          },
          "metadata": {
            "needs_background": "light"
          }
        },
        {
          "output_type": "stream",
          "name": "stdout",
          "text": [
            "(16, 256, 8, 1)\n",
            "Generated and saved\n",
            "Time for epoch 150 is 61.37986636161804 sec\n",
            "Time for epoch 151 is 60.31042981147766 sec\n",
            "Time for epoch 152 is 60.30400514602661 sec\n",
            "Time for epoch 153 is 60.30850696563721 sec\n",
            "Time for epoch 154 is 60.311317443847656 sec\n",
            "Time for epoch 155 is 60.308446645736694 sec\n",
            "Time for epoch 156 is 60.301562786102295 sec\n",
            "Time for epoch 157 is 60.310636043548584 sec\n",
            "Time for epoch 158 is 60.302369832992554 sec\n",
            "Time for epoch 159 is 60.29876971244812 sec\n"
          ]
        },
        {
          "output_type": "display_data",
          "data": {
            "image/png": "[encoded data removed]",
            "text/plain": [
              "<Figure size 288x288 with 16 Axes>"
            ]
          },
          "metadata": {
            "needs_background": "light"
          }
        },
        {
          "output_type": "stream",
          "name": "stdout",
          "text": [
            "(16, 256, 8, 1)\n",
            "Generated and saved\n",
            "Time for epoch 160 is 61.5839147567749 sec\n",
            "Time for epoch 161 is 60.31720447540283 sec\n",
            "Time for epoch 162 is 60.31861996650696 sec\n",
            "Time for epoch 163 is 60.29787826538086 sec\n",
            "Time for epoch 164 is 60.30173850059509 sec\n",
            "Time for epoch 165 is 60.298341035842896 sec\n",
            "Time for epoch 166 is 60.30079936981201 sec\n",
            "Time for epoch 167 is 60.3094482421875 sec\n",
            "Time for epoch 168 is 60.289839029312134 sec\n",
            "Time for epoch 169 is 60.30051136016846 sec\n"
          ]
        },
        {
          "output_type": "display_data",
          "data": {
            "image/png": "[encoded data removed]",
            "text/plain": [
              "<Figure size 288x288 with 16 Axes>"
            ]
          },
          "metadata": {
            "needs_background": "light"
          }
        },
        {
          "output_type": "stream",
          "name": "stdout",
          "text": [
            "(16, 256, 8, 1)\n",
            "Generated and saved\n",
            "Time for epoch 170 is 61.375301361083984 sec\n",
            "Time for epoch 171 is 60.294692516326904 sec\n",
            "Time for epoch 172 is 60.32126450538635 sec\n",
            "Time for epoch 173 is 60.30155968666077 sec\n",
            "Time for epoch 174 is 60.293198347091675 sec\n",
            "Time for epoch 175 is 60.2959463596344 sec\n",
            "Time for epoch 176 is 60.296058177948 sec\n",
            "Time for epoch 177 is 60.29853868484497 sec\n",
            "Time for epoch 178 is 60.307416677474976 sec\n",
            "Time for epoch 179 is 60.2934889793396 sec\n"
          ]
        },
        {
          "output_type": "display_data",
          "data": {
            "image/png": "[encoded data removed]",
            "text/plain": [
              "<Figure size 288x288 with 16 Axes>"
            ]
          },
          "metadata": {
            "needs_background": "light"
          }
        },
        {
          "output_type": "stream",
          "name": "stdout",
          "text": [
            "(16, 256, 8, 1)\n",
            "Generated and saved\n",
            "Time for epoch 180 is 61.32703685760498 sec\n",
            "Time for epoch 181 is 60.29267716407776 sec\n",
            "Time for epoch 182 is 60.29661154747009 sec\n",
            "Time for epoch 183 is 60.299044609069824 sec\n",
            "Time for epoch 184 is 60.3000602722168 sec\n",
            "Time for epoch 185 is 60.30657482147217 sec\n",
            "Time for epoch 186 is 60.302574634552 sec\n",
            "Time for epoch 187 is 60.30479025840759 sec\n",
            "Time for epoch 188 is 60.303555965423584 sec\n",
            "Time for epoch 189 is 60.32461643218994 sec\n"
          ]
        },
        {
          "output_type": "display_data",
          "data": {
            "image/png": "[encoded data removed]",
            "text/plain": [
              "<Figure size 288x288 with 16 Axes>"
            ]
          },
          "metadata": {
            "needs_background": "light"
          }
        },
        {
          "output_type": "stream",
          "name": "stdout",
          "text": [
            "(16, 256, 8, 1)\n",
            "Generated and saved\n",
            "Time for epoch 190 is 61.578617095947266 sec\n",
            "Time for epoch 191 is 60.32280921936035 sec\n",
            "Time for epoch 192 is 60.30809807777405 sec\n",
            "Time for epoch 193 is 60.30154204368591 sec\n",
            "Time for epoch 194 is 60.30229616165161 sec\n",
            "Time for epoch 195 is 60.310508012771606 sec\n",
            "Time for epoch 196 is 60.29878830909729 sec\n",
            "Time for epoch 197 is 60.31884813308716 sec\n",
            "Time for epoch 198 is 60.30071210861206 sec\n",
            "Time for epoch 199 is 60.30893540382385 sec\n"
          ]
        },
        {
          "output_type": "display_data",
          "data": {
            "image/png": "[encoded data removed]",
            "text/plain": [
              "<Figure size 288x288 with 16 Axes>"
            ]
          },
          "metadata": {
            "needs_background": "light"
          }
        },
        {
          "output_type": "stream",
          "name": "stdout",
          "text": [
            "(16, 256, 8, 1)\n",
            "Generated and saved\n",
            "Time for epoch 200 is 61.37720346450806 sec\n",
            "Time for epoch 201 is 60.31056594848633 sec\n",
            "Time for epoch 202 is 60.300315380096436 sec\n",
            "Time for epoch 203 is 60.30494976043701 sec\n",
            "Time for epoch 204 is 60.29908466339111 sec\n",
            "Time for epoch 205 is 60.3219575881958 sec\n",
            "Time for epoch 206 is 60.301576137542725 sec\n",
            "Time for epoch 207 is 60.30199575424194 sec\n",
            "Time for epoch 208 is 60.29579520225525 sec\n",
            "Time for epoch 209 is 60.30033278465271 sec\n"
          ]
        },
        {
          "output_type": "display_data",
          "data": {
            "image/png": "[encoded data removed]",
            "text/plain": [
              "<Figure size 288x288 with 16 Axes>"
            ]
          },
          "metadata": {
            "needs_background": "light"
          }
        },
        {
          "output_type": "stream",
          "name": "stdout",
          "text": [
            "(16, 256, 8, 1)\n",
            "Generated and saved\n",
            "Time for epoch 210 is 61.36642670631409 sec\n",
            "Time for epoch 211 is 60.30238962173462 sec\n",
            "Time for epoch 212 is 60.30367588996887 sec\n",
            "Time for epoch 213 is 60.31565856933594 sec\n",
            "Time for epoch 214 is 60.306018114089966 sec\n",
            "Time for epoch 215 is 60.296167850494385 sec\n",
            "Time for epoch 216 is 60.30426573753357 sec\n",
            "Time for epoch 217 is 60.2963490486145 sec\n",
            "Time for epoch 218 is 60.30936789512634 sec\n",
            "Time for epoch 219 is 60.29949378967285 sec\n"
          ]
        },
        {
          "output_type": "display_data",
          "data": {
            "image/png": "[encoded data removed]",
            "text/plain": [
              "<Figure size 288x288 with 16 Axes>"
            ]
          },
          "metadata": {
            "needs_background": "light"
          }
        },
        {
          "output_type": "stream",
          "name": "stdout",
          "text": [
            "(16, 256, 8, 1)\n",
            "Generated and saved\n",
            "Time for epoch 220 is 61.53896522521973 sec\n",
            "Time for epoch 221 is 60.29325556755066 sec\n",
            "Time for epoch 222 is 60.30018997192383 sec\n",
            "Time for epoch 223 is 60.29360556602478 sec\n",
            "Time for epoch 224 is 60.301825761795044 sec\n",
            "Time for epoch 225 is 60.29248666763306 sec\n",
            "Time for epoch 226 is 60.29294943809509 sec\n",
            "Time for epoch 227 is 60.30167603492737 sec\n",
            "Time for epoch 228 is 60.30197048187256 sec\n",
            "Time for epoch 229 is 60.29966998100281 sec\n"
          ]
        },
        {
          "output_type": "display_data",
          "data": {
            "image/png": "[encoded data removed]",
            "text/plain": [
              "<Figure size 288x288 with 16 Axes>"
            ]
          },
          "metadata": {
            "needs_background": "light"
          }
        },
        {
          "output_type": "stream",
          "name": "stdout",
          "text": [
            "(16, 256, 8, 1)\n",
            "Generated and saved\n",
            "Time for epoch 230 is 61.315021991729736 sec\n",
            "Time for epoch 231 is 60.297465562820435 sec\n",
            "Time for epoch 232 is 60.309852838516235 sec\n",
            "Time for epoch 233 is 60.3073947429657 sec\n",
            "Time for epoch 234 is 60.305485010147095 sec\n",
            "Time for epoch 235 is 60.307326316833496 sec\n",
            "Time for epoch 236 is 60.298600912094116 sec\n",
            "Time for epoch 237 is 60.32335591316223 sec\n",
            "Time for epoch 238 is 60.30198812484741 sec\n",
            "Time for epoch 239 is 60.30398368835449 sec\n"
          ]
        },
        {
          "output_type": "display_data",
          "data": {
            "image/png": "[encoded data removed]",
            "text/plain": [
              "<Figure size 288x288 with 16 Axes>"
            ]
          },
          "metadata": {
            "needs_background": "light"
          }
        },
        {
          "output_type": "stream",
          "name": "stdout",
          "text": [
            "(16, 256, 8, 1)\n",
            "Generated and saved\n",
            "Time for epoch 240 is 61.31379294395447 sec\n",
            "Time for epoch 241 is 60.2998480796814 sec\n",
            "Time for epoch 242 is 60.305548429489136 sec\n",
            "Time for epoch 243 is 60.32447934150696 sec\n",
            "Time for epoch 244 is 60.3013334274292 sec\n",
            "Time for epoch 245 is 60.295379638671875 sec\n",
            "Time for epoch 246 is 60.31710195541382 sec\n",
            "Time for epoch 247 is 60.306137561798096 sec\n",
            "Time for epoch 248 is 60.299373626708984 sec\n",
            "Time for epoch 249 is 60.328797817230225 sec\n"
          ]
        },
        {
          "output_type": "display_data",
          "data": {
            "image/png": "[encoded data removed]",
            "text/plain": [
              "<Figure size 288x288 with 16 Axes>"
            ]
          },
          "metadata": {
            "needs_background": "light"
          }
        },
        {
          "output_type": "stream",
          "name": "stdout",
          "text": [
            "(16, 256, 8, 1)\n",
            "Generated and saved\n",
            "Time for epoch 250 is 61.63714551925659 sec\n"
          ]
        },
        {
          "output_type": "display_data",
          "data": {
            "image/png": "[encoded data removed]",
            "text/plain": [
              "<Figure size 288x288 with 16 Axes>"
            ]
          },
          "metadata": {
            "needs_background": "light"
          }
        },
        {
          "output_type": "stream",
          "name": "stdout",
          "text": [
            "(16, 256, 8, 1)\n"
          ]
        }
      ]
    },
    {
      "cell_type": "code",
      "metadata": {
        "id": "OBM6Kb-FUQmh"
      },
      "source": [
        ""
      ],
      "execution_count": null,
      "outputs": []
    },
    {
      "cell_type": "code",
      "metadata": {
        "colab": {
          "base_uri": "https://localhost:8080/",
          "height": 163
        },
        "id": "6aRcqXQA6C5h",
        "outputId": "e5b7c44b-a533-4bb9-a559-cf6200c434a7"
      },
      "source": [
        "generate_and_save_images(generator, 60, seed)"
      ],
      "execution_count": null,
      "outputs": [
        {
          "output_type": "error",
          "ename": "NameError",
          "evalue": "ignored",
          "traceback": [
            "\u001b[0;31m---------------------------------------------------------------------------\u001b[0m",
            "\u001b[0;31mNameError\u001b[0m                                 Traceback (most recent call last)",
            "\u001b[0;32m<ipython-input-1-83c1f0e85ab7>\u001b[0m in \u001b[0;36m<module>\u001b[0;34m()\u001b[0m\n\u001b[0;32m----> 1\u001b[0;31m \u001b[0mgenerate_and_save_images\u001b[0m\u001b[0;34m(\u001b[0m\u001b[0mgenerator\u001b[0m\u001b[0;34m,\u001b[0m \u001b[0;36m60\u001b[0m\u001b[0;34m,\u001b[0m \u001b[0mseed\u001b[0m\u001b[0;34m)\u001b[0m\u001b[0;34m\u001b[0m\u001b[0;34m\u001b[0m\u001b[0m\n\u001b[0m",
            "\u001b[0;31mNameError\u001b[0m: name 'generate_and_save_images' is not defined"
          ]
        }
      ]
    },
    {
      "cell_type": "code",
      "metadata": {
        "colab": {
          "base_uri": "https://localhost:8080/",
          "height": 356
        },
        "id": "nhKO0Tea8TEY",
        "outputId": "8658bd25-8619-456d-c311-75fb9518941d"
      },
      "source": [
        "import librosa\n",
        "import librosa.display\n",
        "zaladowane = np.load('/content/gdrive/MyDrive/Inzynierka/Data/Results_mel/v1/v1_129.npy')\n",
        "#zaladowane = np.load('/content/gdrive/MyDrive/Inzynierka/Data/en_spectrogram_tensor/common_voice_en_22677141.mp3.npy')\n",
        "print(zaladowane.shape)\n",
        "#print(zaladowane[6])\n",
        "print(np.max(zaladowane))\n",
        "print(np.min(zaladowane))\n",
        "zaladowane = (zaladowane * 80) - 80\n",
        "print(np.max(zaladowane))\n",
        "print(np.min(zaladowane))\n",
        "#print(zaladowane)\n",
        "#librosa.display.specshow(spectest)\n",
        "librosa.display.specshow((zaladowane[1].reshape(256,8)))\n",
        "#librosa.display.specshow((normalized[1].reshape(256,16)))\n",
        "#print(normalized[2])"
      ],
      "execution_count": null,
      "outputs": [
        {
          "output_type": "stream",
          "name": "stdout",
          "text": [
            "(16, 256, 8, 1)\n",
            "0.96906674\n",
            "5.4335287e-30\n",
            "-2.4746628\n",
            "-80.0\n"
          ]
        },
        {
          "output_type": "execute_result",
          "data": {
            "text/plain": [
              "<matplotlib.collections.QuadMesh at 0x7ff1c2342390>"
            ]
          },
          "metadata": {},
          "execution_count": 50
        },
        {
          "output_type": "display_data",
          "data": {
            "image/png": "[encoded data removed]",
            "text/plain": [
              "<Figure size 432x288 with 1 Axes>"
            ]
          },
          "metadata": {}
        }
      ]
    },
    {
      "cell_type": "code",
      "metadata": {
        "id": "oDm_sgsX9yaD",
        "colab": {
          "base_uri": "https://localhost:8080/",
          "height": 269
        },
        "outputId": "36c50c92-23cc-47fd-d261-c6e145533fc2"
      },
      "source": [
        "librosa.display.specshow((zaladowane[10].reshape(256,8)))"
      ],
      "execution_count": null,
      "outputs": [
        {
          "output_type": "execute_result",
          "data": {
            "text/plain": [
              "<matplotlib.collections.QuadMesh at 0x7ff1c22fc950>"
            ]
          },
          "metadata": {},
          "execution_count": 51
        },
        {
          "output_type": "display_data",
          "data": {
            "image/png": "[encoded data removed]",
            "text/plain": [
              "<Figure size 432x288 with 1 Axes>"
            ]
          },
          "metadata": {}
        }
      ]
    },
    {
      "cell_type": "code",
      "metadata": {
        "colab": {
          "base_uri": "https://localhost:8080/",
          "height": 269
        },
        "id": "sUeLGK1f07ax",
        "outputId": "a850b058-d032-4353-9180-ea6fa78fc699"
      },
      "source": [
        "librosa.display.specshow((zaladowane[11].reshape(256,8)))"
      ],
      "execution_count": null,
      "outputs": [
        {
          "output_type": "execute_result",
          "data": {
            "text/plain": [
              "<matplotlib.collections.QuadMesh at 0x7ff1c22bfd90>"
            ]
          },
          "metadata": {},
          "execution_count": 52
        },
        {
          "output_type": "display_data",
          "data": {
            "image/png": "[encoded data removed]",
            "text/plain": [
              "<Figure size 432x288 with 1 Axes>"
            ]
          },
          "metadata": {}
        }
      ]
    },
    {
      "cell_type": "code",
      "metadata": {
        "colab": {
          "base_uri": "https://localhost:8080/",
          "height": 269
        },
        "id": "yyhN9Hqn070t",
        "outputId": "9a21fd25-1714-45b3-be9f-55bde5d433b6"
      },
      "source": [
        "librosa.display.specshow((zaladowane[12].reshape(256,8)))"
      ],
      "execution_count": null,
      "outputs": [
        {
          "output_type": "execute_result",
          "data": {
            "text/plain": [
              "<matplotlib.collections.QuadMesh at 0x7ff1c2289250>"
            ]
          },
          "metadata": {},
          "execution_count": 53
        },
        {
          "output_type": "display_data",
          "data": {
            "image/png": "[encoded data removed]",
            "text/plain": [
              "<Figure size 432x288 with 1 Axes>"
            ]
          },
          "metadata": {}
        }
      ]
    },
    {
      "cell_type": "code",
      "metadata": {
        "colab": {
          "base_uri": "https://localhost:8080/",
          "height": 269
        },
        "id": "T7TqPEOu08CM",
        "outputId": "840fa835-cef4-4296-e676-51488ba99966"
      },
      "source": [
        "librosa.display.specshow((zaladowane[8].reshape(256,8)))"
      ],
      "execution_count": null,
      "outputs": [
        {
          "output_type": "execute_result",
          "data": {
            "text/plain": [
              "<matplotlib.collections.QuadMesh at 0x7ff1c224a690>"
            ]
          },
          "metadata": {},
          "execution_count": 54
        },
        {
          "output_type": "display_data",
          "data": {
            "image/png": "[encoded data removed]",
            "text/plain": [
              "<Figure size 432x288 with 1 Axes>"
            ]
          },
          "metadata": {}
        }
      ]
    },
    {
      "cell_type": "code",
      "metadata": {
        "colab": {
          "base_uri": "https://localhost:8080/",
          "height": 165
        },
        "id": "X9JZpirc08OL",
        "outputId": "96fd00f2-03c8-4f03-c442-3aa2d533908e"
      },
      "source": [
        "librosa.display.specshow((zaladowane[12].reshape(256,16)))"
      ],
      "execution_count": null,
      "outputs": [
        {
          "output_type": "error",
          "ename": "ValueError",
          "evalue": "ignored",
          "traceback": [
            "\u001b[0;31m---------------------------------------------------------------------------\u001b[0m",
            "\u001b[0;31mValueError\u001b[0m                                Traceback (most recent call last)",
            "\u001b[0;32m<ipython-input-46-361a8766a90d>\u001b[0m in \u001b[0;36m<module>\u001b[0;34m()\u001b[0m\n\u001b[0;32m----> 1\u001b[0;31m \u001b[0mlibrosa\u001b[0m\u001b[0;34m.\u001b[0m\u001b[0mdisplay\u001b[0m\u001b[0;34m.\u001b[0m\u001b[0mspecshow\u001b[0m\u001b[0;34m(\u001b[0m\u001b[0;34m(\u001b[0m\u001b[0mzaladowane\u001b[0m\u001b[0;34m[\u001b[0m\u001b[0;36m12\u001b[0m\u001b[0;34m]\u001b[0m\u001b[0;34m.\u001b[0m\u001b[0mreshape\u001b[0m\u001b[0;34m(\u001b[0m\u001b[0;36m256\u001b[0m\u001b[0;34m,\u001b[0m\u001b[0;36m16\u001b[0m\u001b[0;34m)\u001b[0m\u001b[0;34m)\u001b[0m\u001b[0;34m)\u001b[0m\u001b[0;34m\u001b[0m\u001b[0;34m\u001b[0m\u001b[0m\n\u001b[0m",
            "\u001b[0;31mValueError\u001b[0m: cannot reshape array of size 2048 into shape (256,16)"
          ]
        }
      ]
    },
    {
      "cell_type": "code",
      "metadata": {
        "id": "aiE3Hj2Z08fT"
      },
      "source": [
        ""
      ],
      "execution_count": null,
      "outputs": []
    },
    {
      "cell_type": "code",
      "metadata": {
        "id": "6lgtPj39GSaj",
        "colab": {
          "base_uri": "https://localhost:8080/"
        },
        "outputId": "14e45258-9704-48cb-aafe-a6e57af3b3e6"
      },
      "source": [
        "# To restore checkpoint\n",
        "checkpoint.restore(tf.train.latest_checkpoint(checkpoint_dir))\n"
      ],
      "execution_count": null,
      "outputs": [
        {
          "output_type": "execute_result",
          "data": {
            "text/plain": [
              "<tensorflow.python.training.tracking.util.CheckpointLoadStatus at 0x7fbd125e9650>"
            ]
          },
          "metadata": {},
          "execution_count": 76
        }
      ]
    }
  ]
}