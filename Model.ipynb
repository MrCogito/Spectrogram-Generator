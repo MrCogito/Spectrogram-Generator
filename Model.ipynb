{
  "nbformat": 4,
  "nbformat_minor": 0,
  "metadata": {
    "colab": {
      "name": "Model.ipynb",
      "provenance": [],
      "collapsed_sections": [],
      "toc_visible": true,
      "authorship_tag": "ABX9TyOQ/3DhwAucyojFrWPEdsjd",
      "include_colab_link": true
    },
    "kernelspec": {
      "name": "python3",
      "display_name": "Python 3"
    },
    "language_info": {
      "name": "python"
    },
    "accelerator": "GPU"
  },
  "cells": [
    {
      "cell_type": "markdown",
      "metadata": {
        "id": "view-in-github",
        "colab_type": "text"
      },
      "source": [
        "<a href=\"https://colab.research.google.com/github/MrCogito/Spectrogram-Generator/blob/main/Model.ipynb\" target=\"_parent\"><img src=\"https://colab.research.google.com/assets/colab-badge.svg\" alt=\"Open In Colab\"/></a>"
      ]
    },
    {
      "cell_type": "markdown",
      "metadata": {
        "id": "hVF08GK3xGaV"
      },
      "source": [
        "# Import TensorFlow and other libraries\n",
        "\n"
      ]
    },
    {
      "cell_type": "code",
      "metadata": {
        "id": "Wr6BzE8kv8y1"
      },
      "source": [
        "import tensorflow as tf\n",
        "from tensorflow import keras\n",
        "from tensorflow.keras import layers\n",
        "import numpy as np\n",
        "import matplotlib.pyplot as plt \n",
        "import pathlib\n",
        "import os\n",
        "from google.colab import drive\n",
        "import time\n",
        "import librosa\n",
        "import librosa.display\n",
        "\n",
        "\n"
      ],
      "execution_count": null,
      "outputs": []
    },
    {
      "cell_type": "code",
      "metadata": {
        "id": "emTpa6ocy0XA",
        "colab": {
          "base_uri": "https://localhost:8080/"
        },
        "outputId": "e40b9921-72fb-44ad-ac9c-4a2492131229"
      },
      "source": [
        "drive.mount('/content/gdrive') #Mount google driv"
      ],
      "execution_count": null,
      "outputs": [
        {
          "output_type": "stream",
          "name": "stdout",
          "text": [
            "Mounted at /content/gdrive\n"
          ]
        }
      ]
    },
    {
      "cell_type": "code",
      "metadata": {
        "colab": {
          "base_uri": "https://localhost:8080/",
          "height": 35
        },
        "id": "Y39vVh363JTi",
        "outputId": "5e387b15-83b9-47ed-e428-5c8f25e659f3"
      },
      "source": [
        "tf.__version__"
      ],
      "execution_count": null,
      "outputs": [
        {
          "output_type": "execute_result",
          "data": {
            "application/vnd.google.colaboratory.intrinsic+json": {
              "type": "string"
            },
            "text/plain": [
              "'2.7.0'"
            ]
          },
          "metadata": {},
          "execution_count": 3
        }
      ]
    },
    {
      "cell_type": "code",
      "metadata": {
        "colab": {
          "base_uri": "https://localhost:8080/"
        },
        "id": "cih-Q8_QzgO9",
        "outputId": "97ad07af-5a66-491e-b1c1-6fe4db02af0e"
      },
      "source": [
        "%tensorflow_version 2.x\n",
        "import tensorflow as tf\n",
        "device_name = tf.test.gpu_device_name()\n",
        "if device_name != '/device:GPU:0':\n",
        "  raise SystemError('GPU device not found')\n",
        "print('Found GPU at: {}'.format(device_name))\n",
        "\n"
      ],
      "execution_count": null,
      "outputs": [
        {
          "output_type": "stream",
          "name": "stdout",
          "text": [
            "Found GPU at: /device:GPU:0\n"
          ]
        }
      ]
    },
    {
      "cell_type": "markdown",
      "metadata": {
        "id": "WzfctED-xkZC"
      },
      "source": [
        "# Load and prepare the dataset"
      ]
    },
    {
      "cell_type": "code",
      "metadata": {
        "colab": {
          "base_uri": "https://localhost:8080/",
          "height": 337
        },
        "id": "c3fYZEPSxYk1",
        "outputId": "406965c8-f399-4786-a4de-6634e88cb595"
      },
      "source": [
        "# Load data\n",
        "\n",
        "data_tensor = np.load('/content/gdrive/MyDrive/Inzynierka/Data/en_spectrogram_tensor/Dataset_spectrogram_256_14.npy')\n",
        "#print(data_tensor)\n",
        "print(data_tensor.dtype)\n",
        "print(data_tensor.shape)\n",
        "librosa.display.specshow(data_tensor[3])\n",
        "data_tensor = (data_tensor + 40) / 40\n",
        "#print(data_tensor.shape)\n",
        "print(np.max(data_tensor))\n",
        "print(np.min(data_tensor))\n",
        "data_tensor = data_tensor.reshape(12196, 256, 14, 1)\n",
        "print(data_tensor.shape)\n",
        "BUFFER_SIZE = 12196\n",
        "BATCH_SIZE = 128\n",
        "\n",
        "# Batch and shuffle the data\n",
        "train_dataset = tf.data.Dataset.from_tensor_slices(data_tensor).shuffle(BUFFER_SIZE).batch(BATCH_SIZE)\n",
        "\n"
      ],
      "execution_count": null,
      "outputs": [
        {
          "output_type": "stream",
          "name": "stdout",
          "text": [
            "float32\n",
            "(12196, 256, 14)\n",
            "1.0000001\n",
            "-1.0\n",
            "(12196, 256, 14, 1)\n"
          ]
        },
        {
          "output_type": "display_data",
          "data": {
            "image/png": "[encoded data removed]",
            "text/plain": [
              "<Figure size 432x288 with 1 Axes>"
            ]
          },
          "metadata": {}
        }
      ]
    },
    {
      "cell_type": "markdown",
      "metadata": {
        "id": "VIC9lOj6y_lp"
      },
      "source": [
        "# Build the generator"
      ]
    },
    {
      "cell_type": "code",
      "metadata": {
        "id": "n2zTdb_azKwc"
      },
      "source": [
        "def make_generator_model():\n",
        "    model = tf.keras.Sequential()\n",
        "    model.add(layers.Dense(8*7*128, use_bias=False, input_shape=(100,)))\n",
        "    model.add(layers.BatchNormalization())\n",
        "    model.add(layers.LeakyReLU(alpha=0.3))\n",
        "\n",
        "    model.add(layers.Reshape((8, 7, 128)))\n",
        "    assert model.output_shape == (None, 8, 7, 128)  # ensure size is correct None is batch size\n",
        "   \n",
        "   \n",
        "    model.add(layers.Conv2DTranspose(128, kernel_size=4, strides=2, padding=\"same\"))\n",
        "    print(model.output_shape)\n",
        "    assert model.output_shape == (None, 16, 14, 128)\n",
        "    model.add(layers.BatchNormalization())\n",
        "    model.add(layers.LeakyReLU(alpha=0.3))\n",
        "    \n",
        "    model.add(layers.Conv2DTranspose(256, kernel_size=4, strides=2, padding=\"same\"))\n",
        "    print(model.output_shape)\n",
        "    assert model.output_shape == (None, 32, 28, 256)\n",
        "    model.add(layers.BatchNormalization())\n",
        "    model.add(layers.LeakyReLU(alpha=0.3))\n",
        "\n",
        "    model.add(layers.Conv2DTranspose(512, kernel_size=4, strides=2, padding=\"same\"))\n",
        "    print(model.output_shape)\n",
        "    assert model.output_shape == (None, 64, 56, 512)\n",
        "    model.add(layers.BatchNormalization())\n",
        "    model.add(layers.LeakyReLU(alpha=0.3))\n",
        "    \n",
        "    model.add(layers.Conv2D(1, kernel_size=5, padding=\"same\", activation=\"sigmoid\"))\n",
        "    print(model.output_shape)\n",
        "    model.add(layers.Reshape((256,14,1)))\n",
        "    print(model.output_shape)\n",
        "    return model\n",
        "\n",
        "\n",
        "\n"
      ],
      "execution_count": null,
      "outputs": []
    },
    {
      "cell_type": "code",
      "metadata": {
        "colab": {
          "base_uri": "https://localhost:8080/"
        },
        "id": "hAgcaxf6AKIb",
        "outputId": "5db28acc-f3a5-4d21-da99-5ded7c7aa104"
      },
      "source": [
        "generator = make_generator_model()\n",
        "generator.summary()"
      ],
      "execution_count": null,
      "outputs": [
        {
          "output_type": "stream",
          "name": "stdout",
          "text": [
            "(None, 16, 14, 128)\n",
            "(None, 32, 28, 256)\n",
            "(None, 64, 56, 512)\n",
            "(None, 64, 56, 1)\n",
            "(None, 256, 14, 1)\n",
            "Model: \"sequential\"\n",
            "_________________________________________________________________\n",
            " Layer (type)                Output Shape              Param #   \n",
            "=================================================================\n",
            " dense (Dense)               (None, 7168)              716800    \n",
            "                                                                 \n",
            " batch_normalization (BatchN  (None, 7168)             28672     \n",
            " ormalization)                                                   \n",
            "                                                                 \n",
            " leaky_re_lu (LeakyReLU)     (None, 7168)              0         \n",
            "                                                                 \n",
            " reshape (Reshape)           (None, 8, 7, 128)         0         \n",
            "                                                                 \n",
            " conv2d_transpose (Conv2DTra  (None, 16, 14, 128)      262272    \n",
            " nspose)                                                         \n",
            "                                                                 \n",
            " batch_normalization_1 (Batc  (None, 16, 14, 128)      512       \n",
            " hNormalization)                                                 \n",
            "                                                                 \n",
            " leaky_re_lu_1 (LeakyReLU)   (None, 16, 14, 128)       0         \n",
            "                                                                 \n",
            " conv2d_transpose_1 (Conv2DT  (None, 32, 28, 256)      524544    \n",
            " ranspose)                                                       \n",
            "                                                                 \n",
            " batch_normalization_2 (Batc  (None, 32, 28, 256)      1024      \n",
            " hNormalization)                                                 \n",
            "                                                                 \n",
            " leaky_re_lu_2 (LeakyReLU)   (None, 32, 28, 256)       0         \n",
            "                                                                 \n",
            " conv2d_transpose_2 (Conv2DT  (None, 64, 56, 512)      2097664   \n",
            " ranspose)                                                       \n",
            "                                                                 \n",
            " batch_normalization_3 (Batc  (None, 64, 56, 512)      2048      \n",
            " hNormalization)                                                 \n",
            "                                                                 \n",
            " leaky_re_lu_3 (LeakyReLU)   (None, 64, 56, 512)       0         \n",
            "                                                                 \n",
            " conv2d (Conv2D)             (None, 64, 56, 1)         12801     \n",
            "                                                                 \n",
            " reshape_1 (Reshape)         (None, 256, 14, 1)        0         \n",
            "                                                                 \n",
            "=================================================================\n",
            "Total params: 3,646,337\n",
            "Trainable params: 3,630,209\n",
            "Non-trainable params: 16,128\n",
            "_________________________________________________________________\n"
          ]
        }
      ]
    },
    {
      "cell_type": "code",
      "metadata": {
        "colab": {
          "base_uri": "https://localhost:8080/",
          "height": 286
        },
        "id": "6Fcutm-_DJug",
        "outputId": "59487f60-1bff-4316-aec7-881b6a1d6969"
      },
      "source": [
        "noise = tf.random.normal([1, 100])\n",
        "generated_image = generator(noise, training=False)\n",
        "plt.imshow(generated_image[0, :, :, 0], cmap='gray')\n",
        "print(generated_image.shape)"
      ],
      "execution_count": null,
      "outputs": [
        {
          "output_type": "stream",
          "name": "stdout",
          "text": [
            "(1, 256, 14, 1)\n"
          ]
        },
        {
          "output_type": "display_data",
          "data": {
            "image/png": "[encoded data removed]",
            "text/plain": [
              "<Figure size 432x288 with 1 Axes>"
            ]
          },
          "metadata": {
            "needs_background": "light"
          }
        }
      ]
    },
    {
      "cell_type": "markdown",
      "metadata": {
        "id": "BG5a-34DlhVM"
      },
      "source": [
        "# Build the discriminator\n"
      ]
    },
    {
      "cell_type": "code",
      "metadata": {
        "id": "o0D4W_H2nKl0"
      },
      "source": [
        "def make_discriminator_model():\n",
        "  \n",
        "  model = tf.keras.Sequential()\n",
        "  model.add(layers.Conv2D(64, kernel_size=4, strides=2, padding='same',input_shape=[256, 14, 1]))\n",
        "  model.add(layers.LeakyReLU(alpha=0.3))\n",
        "\n",
        "  model.add(layers.Conv2D(128, (5,5), strides=(2, 2), padding='same'))\n",
        "  model.add(layers.LeakyReLU(alpha=0.3))\n",
        "  model.add(layers.Dropout(0.5))\n",
        "\n",
        "\n",
        "\n",
        "  model.add(layers.Flatten())\n",
        "  model.add(layers.Dense(1))\n",
        "\n",
        "  return model\n",
        "\n"
      ],
      "execution_count": null,
      "outputs": []
    },
    {
      "cell_type": "code",
      "metadata": {
        "colab": {
          "base_uri": "https://localhost:8080/"
        },
        "id": "Q7k4WrQ3uPsa",
        "outputId": "2bd37ae0-348f-4078-e707-c01f73c0c259"
      },
      "source": [
        "discriminator = make_discriminator_model()\n",
        "decision = discriminator(generated_image)\n",
        "print(decision)\n",
        "discriminator.summary()"
      ],
      "execution_count": null,
      "outputs": [
        {
          "output_type": "stream",
          "name": "stdout",
          "text": [
            "tf.Tensor([[0.04294949]], shape=(1, 1), dtype=float32)\n",
            "Model: \"sequential_1\"\n",
            "_________________________________________________________________\n",
            " Layer (type)                Output Shape              Param #   \n",
            "=================================================================\n",
            " conv2d_1 (Conv2D)           (None, 128, 7, 64)        1088      \n",
            "                                                                 \n",
            " leaky_re_lu_4 (LeakyReLU)   (None, 128, 7, 64)        0         \n",
            "                                                                 \n",
            " conv2d_2 (Conv2D)           (None, 64, 4, 128)        204928    \n",
            "                                                                 \n",
            " leaky_re_lu_5 (LeakyReLU)   (None, 64, 4, 128)        0         \n",
            "                                                                 \n",
            " dropout (Dropout)           (None, 64, 4, 128)        0         \n",
            "                                                                 \n",
            " flatten (Flatten)           (None, 32768)             0         \n",
            "                                                                 \n",
            " dense_1 (Dense)             (None, 1)                 32769     \n",
            "                                                                 \n",
            "=================================================================\n",
            "Total params: 238,785\n",
            "Trainable params: 238,785\n",
            "Non-trainable params: 0\n",
            "_________________________________________________________________\n"
          ]
        }
      ]
    },
    {
      "cell_type": "markdown",
      "metadata": {
        "id": "j_5o6Qc1ApJu"
      },
      "source": [
        "# Define the loss and optimizers\n"
      ]
    },
    {
      "cell_type": "code",
      "metadata": {
        "id": "qsyQNRJRAtjR"
      },
      "source": [
        "cross_entropy = tf.keras.losses.BinaryCrossentropy(from_logits=True) # from_logits=True return value in [-inf, inf]"
      ],
      "execution_count": null,
      "outputs": []
    },
    {
      "cell_type": "code",
      "metadata": {
        "id": "Kg9XEasgBSU-"
      },
      "source": [
        "#discriminator loss\n",
        "def discriminator_loss(real_output, fake_output):\n",
        "    real_loss = cross_entropy(tf.ones_like(real_output), real_output)\n",
        "    fake_loss = cross_entropy(tf.zeros_like(fake_output), fake_output)\n",
        "    total_loss = real_loss + fake_loss\n",
        "    total_loss = real_loss + fake_loss\n",
        "    return total_loss, fake_loss, real_loss\n",
        "    "
      ],
      "execution_count": null,
      "outputs": []
    },
    {
      "cell_type": "code",
      "metadata": {
        "id": "zDRXjUuIBYHN"
      },
      "source": [
        "#generator loss\n",
        "def generator_loss(fake_output):\n",
        "    return cross_entropy(tf.ones_like(fake_output), fake_output)"
      ],
      "execution_count": null,
      "outputs": []
    },
    {
      "cell_type": "code",
      "metadata": {
        "id": "gTsRuLcqB0AT"
      },
      "source": [
        "#optimizers \n",
        "generator_optimizer = tf.keras.optimizers.Adam(0.0002)\n",
        "discriminator_optimizer = tf.keras.optimizers.Adam(0.0001)"
      ],
      "execution_count": null,
      "outputs": []
    },
    {
      "cell_type": "markdown",
      "metadata": {
        "id": "CcjO4hr7Fm2Z"
      },
      "source": [
        "# Save checkpoints\n"
      ]
    },
    {
      "cell_type": "code",
      "metadata": {
        "id": "S2lKaBenFtKL"
      },
      "source": [
        "checkpoint_dir = '/content/gdrive/MyDrive/Inzynierka/Data/Results/v5/checkpoints'\n",
        "checkpoint_prefix = os.path.join(checkpoint_dir, \"ckpt\")\n",
        "checkpoint = tf.train.Checkpoint(generator_optimizer=generator_optimizer,\n",
        "                                 discriminator_optimizer=discriminator_optimizer,\n",
        "                                 generator=generator,\n",
        "                                 discriminator=discriminator)"
      ],
      "execution_count": null,
      "outputs": []
    },
    {
      "cell_type": "markdown",
      "metadata": {
        "id": "scLG7C0VVp2-"
      },
      "source": [
        "# Save and plot history"
      ]
    },
    {
      "cell_type": "code",
      "metadata": {
        "id": "N-x7uK1vVv56"
      },
      "source": [
        "def plot_history(d1_hist, g_hist,epochs):\n",
        "  # plot loss\n",
        "\tplt.subplot(2,1,1)\n",
        "\tplt.plot(d1_hist, label='disc loss')\n",
        "\tplt.legend()\n",
        "\tplt.subplot(2,1,2)\n",
        "\tplt.plot(g_hist, label='gen loss')\n",
        "\tplt.legend()\n",
        "\t#plt.show()\n",
        "\t# plot discriminator accuracy\n",
        "\t# save plot to file\n",
        "\tplt.savefig('/content/gdrive/MyDrive/Inzynierka/Data/Results/v5/DG_loss' + str(epochs))\n",
        "\tplt.close()"
      ],
      "execution_count": null,
      "outputs": []
    },
    {
      "cell_type": "code",
      "metadata": {
        "id": "VpDp2U4syNc0"
      },
      "source": [
        "def plot_history2(dfake_hist, dreal_hist,epochs):\n",
        "  # plot loss\n",
        "\tplt.subplot(2,1,1)\n",
        "\tplt.plot(dfake_hist, label='dfake_hist')\n",
        "\tplt.legend()\n",
        "\tplt.subplot(2,1,2)\n",
        "\tplt.plot(dreal_hist, label='dreal_hist')\n",
        "\tplt.legend()\n",
        "\t#plt.show()\n",
        "\t# plot discriminator accuracy\n",
        "\t# save plot to file\n",
        "\tplt.savefig('/content/gdrive/MyDrive/Inzynierka/Data/Results/v5/discriminator_loss' + str(epochs))\n",
        "\tplt.close()"
      ],
      "execution_count": null,
      "outputs": []
    },
    {
      "cell_type": "markdown",
      "metadata": {
        "id": "_GbdjkxcDbNM"
      },
      "source": [
        "# Define the training loop"
      ]
    },
    {
      "cell_type": "code",
      "metadata": {
        "id": "jH2GQXqSDhO0"
      },
      "source": [
        "EPOCHS = 500\n",
        "noise_dim = 100\n",
        "num_examples_to_generate = 16\n",
        "\n",
        "# You will reuse this seed overtime (so it's easier)\n",
        "# to visualize progress in the animated GIF)\n",
        "# to moze byc do wywalenia\n",
        "seed = tf.random.normal([num_examples_to_generate, noise_dim])"
      ],
      "execution_count": null,
      "outputs": []
    },
    {
      "cell_type": "code",
      "metadata": {
        "id": "UZwLOgT8EzQA"
      },
      "source": [
        "@tf.function\n",
        "def train_step(images):\n",
        "    noise = tf.random.normal([BATCH_SIZE, noise_dim])\n",
        "\n",
        "    with tf.GradientTape() as gen_tape, tf.GradientTape() as disc_tape:\n",
        "      generated_images = generator(noise, training=True)\n",
        "\n",
        "      real_output = discriminator(images, training=True)\n",
        "      fake_output = discriminator(generated_images, training=True)\n",
        "\n",
        "      gen_loss = generator_loss(fake_output)\n",
        "      disc_loss, fake_loss, real_loss = discriminator_loss(real_output, fake_output)\n",
        "\n",
        "\n",
        "    gradients_of_generator = gen_tape.gradient(gen_loss, generator.trainable_variables)\n",
        "    gradients_of_discriminator = disc_tape.gradient(disc_loss, discriminator.trainable_variables)\n",
        "\n",
        "    generator_optimizer.apply_gradients(zip(gradients_of_generator, generator.trainable_variables))\n",
        "    discriminator_optimizer.apply_gradients(zip(gradients_of_discriminator, discriminator.trainable_variables))\n",
        "    return gen_loss, disc_loss, fake_loss, real_loss\n"
      ],
      "execution_count": null,
      "outputs": []
    },
    {
      "cell_type": "code",
      "metadata": {
        "id": "4nbQd_i-FfwY"
      },
      "source": [
        "def train(dataset, epochs):\n",
        "  generator_hist, discriminator_hist, discriminator_fake_hist, discriminator_real_hist  = list(), list(), list(), list()\n",
        "  for epoch in range(epochs):\n",
        "    start = time.time()\n",
        "    #\n",
        "    disc_loss,gen_loss,fake_loss,real_loss = 0,0,0,0\n",
        "    #\n",
        "    for image_batch in dataset:\n",
        "      gen_loss_change,disc_loss_change, fake_loss_change, real_loss_change = train_step(image_batch)\n",
        "      gen_loss = gen_loss + gen_loss_change\n",
        "      disc_loss = disc_loss + disc_loss_change\n",
        "      fake_loss = fake_loss + fake_loss_change\n",
        "      real_loss = real_loss + real_loss_change\n",
        "    # Produce images for the GIF as you go\n",
        "    #display.clear_output(wait=True)\n",
        "    #generate_and_save_images(generator,\n",
        "                             #epoch + 1,\n",
        "                             #seed)\n",
        "    # save generator and discriminator loss values \n",
        "    discriminator_hist.append(disc_loss)\n",
        "    generator_hist.append(gen_loss)\n",
        "    discriminator_fake_hist.append(fake_loss)\n",
        "    discriminator_real_hist.append(real_loss)\n",
        "\n",
        "    # Save the model every 10 epochs\n",
        "    if (epoch) % 25 == 0:\n",
        "      checkpoint.save(file_prefix = checkpoint_prefix)\n",
        "      plot_history(discriminator_hist,generator_hist,epoch)\n",
        "      plot_history2(discriminator_fake_hist,discriminator_real_hist,epoch)\n",
        "      generate_and_save_images(generator,epoch,seed)\n",
        "      print(\"Generated and saved\")\n",
        "    print ('Time for epoch {} is {} sec'.format(epoch + 1, time.time()-start))\n",
        "\n",
        "  # Generate after the final epoch\n",
        "  #display.clear_output(wait=True)\n",
        "  generate_and_save_images(generator,\n",
        "                           epochs,\n",
        "                           seed)"
      ],
      "execution_count": null,
      "outputs": []
    },
    {
      "cell_type": "code",
      "metadata": {
        "id": "5eK4M0ufGAYN"
      },
      "source": [
        "#Generate and save images \n",
        "def generate_and_save_images(model, epoch, test_input):\n",
        "  # Notice `training` is set to False.\n",
        "  # This is so all layers run in inference mode (batchnorm).\n",
        "  predictions = model(test_input, training=False)\n",
        "\n",
        "  fig = plt.figure(figsize=(4, 4))\n",
        "\n",
        "  for i in range(predictions.shape[0]):\n",
        "      plt.subplot(4, 4, i+1)\n",
        "      plt.imshow(predictions[i, :, :, 0] * 127.5 + 127.5, cmap='gray')\n",
        "      plt.axis('off')\n",
        "\n",
        "  plt.savefig('image_at_epoch_{:04d}.png'.format(epoch))\n",
        "  plt.show()\n",
        "  np.save(\"/content/gdrive/MyDrive/Inzynierka/Data/Results/v4/v4_\" + str(epoch), predictions)\n",
        "  print(predictions.shape)\n",
        "  "
      ],
      "execution_count": null,
      "outputs": []
    },
    {
      "cell_type": "code",
      "metadata": {
        "id": "nOm8Mo2PGOv0"
      },
      "source": [
        ""
      ],
      "execution_count": null,
      "outputs": []
    },
    {
      "cell_type": "markdown",
      "metadata": {
        "id": "EyZE6cumGOPu"
      },
      "source": [
        "# Train model"
      ]
    },
    {
      "cell_type": "code",
      "metadata": {
        "id": "ph11WigkGQ8N",
        "colab": {
          "base_uri": "https://localhost:8080/",
          "height": 1000
        },
        "outputId": "d8835e6e-2714-4665-9970-d70f5754f229"
      },
      "source": [
        "train(train_dataset, EPOCHS)"
      ],
      "execution_count": null,
      "outputs": [
        {
          "output_type": "display_data",
          "data": {
            "image/png": "[encoded data removed]",
            "text/plain": [
              "<Figure size 288x288 with 16 Axes>"
            ]
          },
          "metadata": {
            "needs_background": "light"
          }
        },
        {
          "output_type": "stream",
          "name": "stdout",
          "text": [
            "(16, 256, 14, 1)\n",
            "Generated and saved\n",
            "Time for epoch 1 is 45.39366817474365 sec\n",
            "Time for epoch 2 is 28.11924433708191 sec\n",
            "Time for epoch 3 is 28.441009283065796 sec\n",
            "Time for epoch 4 is 28.40450119972229 sec\n",
            "Time for epoch 5 is 28.426074981689453 sec\n",
            "Time for epoch 6 is 28.40981936454773 sec\n",
            "Time for epoch 7 is 28.39408779144287 sec\n",
            "Time for epoch 8 is 28.392204761505127 sec\n",
            "Time for epoch 9 is 28.40683126449585 sec\n",
            "Time for epoch 10 is 28.403982400894165 sec\n",
            "Time for epoch 11 is 28.3910493850708 sec\n",
            "Time for epoch 12 is 28.403868436813354 sec\n",
            "Time for epoch 13 is 28.401143312454224 sec\n",
            "Time for epoch 14 is 28.38010811805725 sec\n",
            "Time for epoch 15 is 28.4000244140625 sec\n",
            "Time for epoch 16 is 28.390010118484497 sec\n",
            "Time for epoch 17 is 28.38241195678711 sec\n",
            "Time for epoch 18 is 28.376095294952393 sec\n",
            "Time for epoch 19 is 28.39092779159546 sec\n",
            "Time for epoch 20 is 28.3815336227417 sec\n",
            "Time for epoch 21 is 28.388100385665894 sec\n",
            "Time for epoch 22 is 28.388872623443604 sec\n",
            "Time for epoch 23 is 28.392664432525635 sec\n",
            "Time for epoch 24 is 28.37984275817871 sec\n",
            "Time for epoch 25 is 28.38696837425232 sec\n"
          ]
        },
        {
          "output_type": "display_data",
          "data": {
            "image/png": "[encoded data removed]",
            "text/plain": [
              "<Figure size 288x288 with 16 Axes>"
            ]
          },
          "metadata": {
            "needs_background": "light"
          }
        },
        {
          "output_type": "stream",
          "name": "stdout",
          "text": [
            "(16, 256, 14, 1)\n",
            "Generated and saved\n",
            "Time for epoch 26 is 31.70720076560974 sec\n",
            "Time for epoch 27 is 28.21299171447754 sec\n",
            "Time for epoch 28 is 28.373055696487427 sec\n",
            "Time for epoch 29 is 28.394470691680908 sec\n",
            "Time for epoch 30 is 28.36076784133911 sec\n",
            "Time for epoch 31 is 28.380997896194458 sec\n",
            "Time for epoch 32 is 28.375758171081543 sec\n",
            "Time for epoch 33 is 28.36646270751953 sec\n",
            "Time for epoch 34 is 28.352876663208008 sec\n",
            "Time for epoch 35 is 28.359820127487183 sec\n",
            "Time for epoch 36 is 28.36467409133911 sec\n",
            "Time for epoch 37 is 28.378043174743652 sec\n",
            "Time for epoch 38 is 28.358068466186523 sec\n",
            "Time for epoch 39 is 28.35581111907959 sec\n",
            "Time for epoch 40 is 28.38383913040161 sec\n",
            "Time for epoch 41 is 28.37850022315979 sec\n",
            "Time for epoch 42 is 28.365397214889526 sec\n",
            "Time for epoch 43 is 28.363253831863403 sec\n",
            "Time for epoch 44 is 28.344605445861816 sec\n",
            "Time for epoch 45 is 28.36573839187622 sec\n",
            "Time for epoch 46 is 28.361397981643677 sec\n",
            "Time for epoch 47 is 28.34251308441162 sec\n",
            "Time for epoch 48 is 28.364521503448486 sec\n",
            "Time for epoch 49 is 28.368900299072266 sec\n",
            "Time for epoch 50 is 28.35574984550476 sec\n"
          ]
        },
        {
          "output_type": "display_data",
          "data": {
            "image/png": "[encoded data removed]",
            "text/plain": [
              "<Figure size 288x288 with 16 Axes>"
            ]
          },
          "metadata": {
            "needs_background": "light"
          }
        },
        {
          "output_type": "stream",
          "name": "stdout",
          "text": [
            "(16, 256, 14, 1)\n",
            "Generated and saved\n",
            "Time for epoch 51 is 31.890187740325928 sec\n",
            "Time for epoch 52 is 28.212405920028687 sec\n",
            "Time for epoch 53 is 28.38365650177002 sec\n",
            "Time for epoch 54 is 28.362081289291382 sec\n",
            "Time for epoch 55 is 28.363168478012085 sec\n",
            "Time for epoch 56 is 28.366973638534546 sec\n",
            "Time for epoch 57 is 28.33812117576599 sec\n",
            "Time for epoch 58 is 28.346453189849854 sec\n",
            "Time for epoch 59 is 28.34820032119751 sec\n",
            "Time for epoch 60 is 28.35884714126587 sec\n",
            "Time for epoch 61 is 28.3643696308136 sec\n",
            "Time for epoch 62 is 28.34631657600403 sec\n",
            "Time for epoch 63 is 28.36398196220398 sec\n",
            "Time for epoch 64 is 28.366518020629883 sec\n",
            "Time for epoch 65 is 28.3487331867218 sec\n",
            "Time for epoch 66 is 28.35366153717041 sec\n",
            "Time for epoch 67 is 28.35534381866455 sec\n",
            "Time for epoch 68 is 28.350789070129395 sec\n",
            "Time for epoch 69 is 28.34169363975525 sec\n",
            "Time for epoch 70 is 28.358046054840088 sec\n",
            "Time for epoch 71 is 28.354813814163208 sec\n",
            "Time for epoch 72 is 28.362355947494507 sec\n",
            "Time for epoch 73 is 28.337874174118042 sec\n",
            "Time for epoch 74 is 28.365362882614136 sec\n",
            "Time for epoch 75 is 28.37126660346985 sec\n"
          ]
        },
        {
          "output_type": "display_data",
          "data": {
            "image/png": "[encoded data removed]",
            "text/plain": [
              "<Figure size 288x288 with 16 Axes>"
            ]
          },
          "metadata": {
            "needs_background": "light"
          }
        },
        {
          "output_type": "stream",
          "name": "stdout",
          "text": [
            "(16, 256, 14, 1)\n",
            "Generated and saved\n",
            "Time for epoch 76 is 29.847980499267578 sec\n",
            "Time for epoch 77 is 28.186962604522705 sec\n",
            "Time for epoch 78 is 28.37821125984192 sec\n",
            "Time for epoch 79 is 28.369441747665405 sec\n",
            "Time for epoch 80 is 28.357695817947388 sec\n",
            "Time for epoch 81 is 28.349223136901855 sec\n",
            "Time for epoch 82 is 28.657134532928467 sec\n",
            "Time for epoch 83 is 28.176871061325073 sec\n",
            "Time for epoch 84 is 28.329479217529297 sec\n",
            "Time for epoch 85 is 28.34601855278015 sec\n",
            "Time for epoch 86 is 28.347742319107056 sec\n",
            "Time for epoch 87 is 28.357422828674316 sec\n",
            "Time for epoch 88 is 28.345010995864868 sec\n",
            "Time for epoch 89 is 28.350632905960083 sec\n",
            "Time for epoch 90 is 28.352439641952515 sec\n",
            "Time for epoch 91 is 28.355865240097046 sec\n",
            "Time for epoch 92 is 28.36442756652832 sec\n",
            "Time for epoch 93 is 28.341778993606567 sec\n",
            "Time for epoch 94 is 28.350633144378662 sec\n",
            "Time for epoch 95 is 28.354161739349365 sec\n",
            "Time for epoch 96 is 28.345739603042603 sec\n",
            "Time for epoch 97 is 28.351049423217773 sec\n",
            "Time for epoch 98 is 28.35149884223938 sec\n",
            "Time for epoch 99 is 28.351937532424927 sec\n",
            "Time for epoch 100 is 28.36642026901245 sec\n"
          ]
        },
        {
          "output_type": "display_data",
          "data": {
            "image/png": "[encoded data removed]",
            "text/plain": [
              "<Figure size 288x288 with 16 Axes>"
            ]
          },
          "metadata": {
            "needs_background": "light"
          }
        },
        {
          "output_type": "stream",
          "name": "stdout",
          "text": [
            "(16, 256, 14, 1)\n",
            "Generated and saved\n",
            "Time for epoch 101 is 29.85765528678894 sec\n",
            "Time for epoch 102 is 28.178155422210693 sec\n",
            "Time for epoch 103 is 28.35602641105652 sec\n",
            "Time for epoch 104 is 28.35403537750244 sec\n",
            "Time for epoch 105 is 28.356441974639893 sec\n",
            "Time for epoch 106 is 28.35303282737732 sec\n",
            "Time for epoch 107 is 28.352097749710083 sec\n",
            "Time for epoch 108 is 28.354076862335205 sec\n",
            "Time for epoch 109 is 28.353997230529785 sec\n",
            "Time for epoch 110 is 28.34335446357727 sec\n",
            "Time for epoch 111 is 28.349975109100342 sec\n",
            "Time for epoch 112 is 28.344515085220337 sec\n",
            "Time for epoch 113 is 28.367563247680664 sec\n",
            "Time for epoch 114 is 28.32339835166931 sec\n",
            "Time for epoch 115 is 28.357362508773804 sec\n",
            "Time for epoch 116 is 28.344077348709106 sec\n",
            "Time for epoch 117 is 28.347665786743164 sec\n",
            "Time for epoch 118 is 28.34918475151062 sec\n",
            "Time for epoch 119 is 28.337454080581665 sec\n",
            "Time for epoch 120 is 28.346992015838623 sec\n",
            "Time for epoch 121 is 28.352983474731445 sec\n",
            "Time for epoch 122 is 28.31513547897339 sec\n",
            "Time for epoch 123 is 28.35385012626648 sec\n",
            "Time for epoch 124 is 28.340972900390625 sec\n",
            "Time for epoch 125 is 28.334078311920166 sec\n"
          ]
        },
        {
          "output_type": "display_data",
          "data": {
            "image/png": "[encoded data removed]",
            "text/plain": [
              "<Figure size 288x288 with 16 Axes>"
            ]
          },
          "metadata": {
            "needs_background": "light"
          }
        },
        {
          "output_type": "stream",
          "name": "stdout",
          "text": [
            "(16, 256, 14, 1)\n",
            "Generated and saved\n",
            "Time for epoch 126 is 30.069615840911865 sec\n",
            "Time for epoch 127 is 28.170735597610474 sec\n",
            "Time for epoch 128 is 28.33476948738098 sec\n",
            "Time for epoch 129 is 28.34293293952942 sec\n",
            "Time for epoch 130 is 28.334920406341553 sec\n",
            "Time for epoch 131 is 28.34769105911255 sec\n",
            "Time for epoch 132 is 28.327414989471436 sec\n",
            "Time for epoch 133 is 28.35043692588806 sec\n",
            "Time for epoch 134 is 28.335065126419067 sec\n",
            "Time for epoch 135 is 28.338926553726196 sec\n",
            "Time for epoch 136 is 28.34566569328308 sec\n",
            "Time for epoch 137 is 28.332079648971558 sec\n",
            "Time for epoch 138 is 28.333510875701904 sec\n",
            "Time for epoch 139 is 28.330474853515625 sec\n",
            "Time for epoch 140 is 28.33275556564331 sec\n",
            "Time for epoch 141 is 28.317471742630005 sec\n",
            "Time for epoch 142 is 28.335352897644043 sec\n",
            "Time for epoch 143 is 28.333218812942505 sec\n",
            "Time for epoch 144 is 28.319080352783203 sec\n",
            "Time for epoch 145 is 28.33441424369812 sec\n",
            "Time for epoch 146 is 28.321770191192627 sec\n",
            "Time for epoch 147 is 28.3145751953125 sec\n",
            "Time for epoch 148 is 28.335439205169678 sec\n",
            "Time for epoch 149 is 28.3430655002594 sec\n",
            "Time for epoch 150 is 28.328567266464233 sec\n"
          ]
        },
        {
          "output_type": "display_data",
          "data": {
            "image/png": "[encoded data removed]",
            "text/plain": [
              "<Figure size 288x288 with 16 Axes>"
            ]
          },
          "metadata": {
            "needs_background": "light"
          }
        },
        {
          "output_type": "stream",
          "name": "stdout",
          "text": [
            "(16, 256, 14, 1)\n",
            "Generated and saved\n",
            "Time for epoch 151 is 29.871917486190796 sec\n",
            "Time for epoch 152 is 28.158888578414917 sec\n",
            "Time for epoch 153 is 28.324700832366943 sec\n",
            "Time for epoch 154 is 28.331997394561768 sec\n",
            "Time for epoch 155 is 28.325934410095215 sec\n",
            "Time for epoch 156 is 28.328129768371582 sec\n",
            "Time for epoch 157 is 28.322482109069824 sec\n",
            "Time for epoch 158 is 28.32675790786743 sec\n",
            "Time for epoch 159 is 28.3086519241333 sec\n",
            "Time for epoch 160 is 28.334992170333862 sec\n",
            "Time for epoch 161 is 28.332361936569214 sec\n",
            "Time for epoch 162 is 28.32469868659973 sec\n",
            "Time for epoch 163 is 28.3056423664093 sec\n",
            "Time for epoch 164 is 28.326939344406128 sec\n",
            "Time for epoch 165 is 28.319878578186035 sec\n",
            "Time for epoch 166 is 28.30267333984375 sec\n",
            "Time for epoch 167 is 28.33326816558838 sec\n",
            "Time for epoch 168 is 28.314429759979248 sec\n",
            "Time for epoch 169 is 28.325793027877808 sec\n",
            "Time for epoch 170 is 28.30241870880127 sec\n",
            "Time for epoch 171 is 28.34439206123352 sec\n",
            "Time for epoch 172 is 28.333057165145874 sec\n",
            "Time for epoch 173 is 28.32389235496521 sec\n",
            "Time for epoch 174 is 28.354876279830933 sec\n",
            "Time for epoch 175 is 28.343643188476562 sec\n"
          ]
        },
        {
          "output_type": "display_data",
          "data": {
            "image/png": "[encoded data removed]",
            "text/plain": [
              "<Figure size 288x288 with 16 Axes>"
            ]
          },
          "metadata": {
            "needs_background": "light"
          }
        },
        {
          "output_type": "stream",
          "name": "stdout",
          "text": [
            "(16, 256, 14, 1)\n",
            "Generated and saved\n",
            "Time for epoch 176 is 29.87062978744507 sec\n",
            "Time for epoch 177 is 28.154191255569458 sec\n",
            "Time for epoch 178 is 28.344688415527344 sec\n",
            "Time for epoch 179 is 28.328104972839355 sec\n",
            "Time for epoch 180 is 28.330963850021362 sec\n",
            "Time for epoch 181 is 28.31691336631775 sec\n",
            "Time for epoch 182 is 28.319828748703003 sec\n",
            "Time for epoch 183 is 28.311896085739136 sec\n",
            "Time for epoch 184 is 28.328670263290405 sec\n",
            "Time for epoch 185 is 28.309728145599365 sec\n",
            "Time for epoch 186 is 28.31315302848816 sec\n",
            "Time for epoch 187 is 28.303938388824463 sec\n",
            "Time for epoch 188 is 28.322102546691895 sec\n",
            "Time for epoch 189 is 28.333909511566162 sec\n",
            "Time for epoch 190 is 28.32008981704712 sec\n",
            "Time for epoch 191 is 28.326583862304688 sec\n",
            "Time for epoch 192 is 28.317490339279175 sec\n",
            "Time for epoch 193 is 28.331116676330566 sec\n",
            "Time for epoch 194 is 28.323718309402466 sec\n",
            "Time for epoch 195 is 28.316579818725586 sec\n",
            "Time for epoch 196 is 28.601966619491577 sec\n",
            "Time for epoch 197 is 28.139142990112305 sec\n",
            "Time for epoch 198 is 28.333803415298462 sec\n",
            "Time for epoch 199 is 28.320008277893066 sec\n",
            "Time for epoch 200 is 28.326624631881714 sec\n"
          ]
        },
        {
          "output_type": "display_data",
          "data": {
            "image/png": "[encoded data removed]",
            "text/plain": [
              "<Figure size 288x288 with 16 Axes>"
            ]
          },
          "metadata": {
            "needs_background": "light"
          }
        },
        {
          "output_type": "stream",
          "name": "stdout",
          "text": [
            "(16, 256, 14, 1)\n",
            "Generated and saved\n",
            "Time for epoch 201 is 30.116190910339355 sec\n",
            "Time for epoch 202 is 28.1604163646698 sec\n",
            "Time for epoch 203 is 28.33738875389099 sec\n",
            "Time for epoch 204 is 28.336514472961426 sec\n",
            "Time for epoch 205 is 28.33715271949768 sec\n",
            "Time for epoch 206 is 28.337687015533447 sec\n",
            "Time for epoch 207 is 28.33220338821411 sec\n",
            "Time for epoch 208 is 28.312150478363037 sec\n",
            "Time for epoch 209 is 28.324007511138916 sec\n",
            "Time for epoch 210 is 28.333380699157715 sec\n",
            "Time for epoch 211 is 28.3160502910614 sec\n",
            "Time for epoch 212 is 28.338731288909912 sec\n",
            "Time for epoch 213 is 28.32529616355896 sec\n",
            "Time for epoch 214 is 28.35607147216797 sec\n",
            "Time for epoch 215 is 28.329837560653687 sec\n",
            "Time for epoch 216 is 28.33168077468872 sec\n",
            "Time for epoch 217 is 28.32528829574585 sec\n",
            "Time for epoch 218 is 28.321065664291382 sec\n",
            "Time for epoch 219 is 28.348464012145996 sec\n",
            "Time for epoch 220 is 28.327243328094482 sec\n",
            "Time for epoch 221 is 28.340842485427856 sec\n",
            "Time for epoch 222 is 28.32282066345215 sec\n",
            "Time for epoch 223 is 28.338143825531006 sec\n",
            "Time for epoch 224 is 28.311510801315308 sec\n",
            "Time for epoch 225 is 28.35549259185791 sec\n"
          ]
        },
        {
          "output_type": "display_data",
          "data": {
            "image/png": "[encoded data removed]",
            "text/plain": [
              "<Figure size 288x288 with 16 Axes>"
            ]
          },
          "metadata": {
            "needs_background": "light"
          }
        },
        {
          "output_type": "stream",
          "name": "stdout",
          "text": [
            "(16, 256, 14, 1)\n",
            "Generated and saved\n",
            "Time for epoch 226 is 29.878942012786865 sec\n",
            "Time for epoch 227 is 28.14999222755432 sec\n",
            "Time for epoch 228 is 28.32935929298401 sec\n",
            "Time for epoch 229 is 28.31781530380249 sec\n",
            "Time for epoch 230 is 28.320034742355347 sec\n",
            "Time for epoch 231 is 28.33606243133545 sec\n",
            "Time for epoch 232 is 28.338376760482788 sec\n",
            "Time for epoch 233 is 28.325364351272583 sec\n",
            "Time for epoch 234 is 28.321555614471436 sec\n",
            "Time for epoch 235 is 28.323310613632202 sec\n",
            "Time for epoch 236 is 28.323546409606934 sec\n",
            "Time for epoch 237 is 28.326167345046997 sec\n",
            "Time for epoch 238 is 28.32867693901062 sec\n",
            "Time for epoch 239 is 28.3104510307312 sec\n",
            "Time for epoch 240 is 28.31501841545105 sec\n",
            "Time for epoch 241 is 28.326447248458862 sec\n",
            "Time for epoch 242 is 28.31742811203003 sec\n",
            "Time for epoch 243 is 28.311234951019287 sec\n",
            "Time for epoch 244 is 28.343912363052368 sec\n",
            "Time for epoch 245 is 28.32245135307312 sec\n",
            "Time for epoch 246 is 28.290165424346924 sec\n",
            "Time for epoch 247 is 28.31929039955139 sec\n",
            "Time for epoch 248 is 28.333762884140015 sec\n",
            "Time for epoch 249 is 28.30539083480835 sec\n",
            "Time for epoch 250 is 28.326374769210815 sec\n"
          ]
        },
        {
          "output_type": "display_data",
          "data": {
            "image/png": "[encoded data removed]",
            "text/plain": [
              "<Figure size 288x288 with 16 Axes>"
            ]
          },
          "metadata": {
            "needs_background": "light"
          }
        },
        {
          "output_type": "stream",
          "name": "stdout",
          "text": [
            "(16, 256, 14, 1)\n",
            "Generated and saved\n",
            "Time for epoch 251 is 29.87533736228943 sec\n",
            "Time for epoch 252 is 28.15987515449524 sec\n",
            "Time for epoch 253 is 28.319398164749146 sec\n",
            "Time for epoch 254 is 28.304999113082886 sec\n",
            "Time for epoch 255 is 28.322624683380127 sec\n",
            "Time for epoch 256 is 28.327475786209106 sec\n",
            "Time for epoch 257 is 28.298639059066772 sec\n",
            "Time for epoch 258 is 28.30722713470459 sec\n",
            "Time for epoch 259 is 28.32382869720459 sec\n",
            "Time for epoch 260 is 28.316641330718994 sec\n",
            "Time for epoch 261 is 28.29612970352173 sec\n",
            "Time for epoch 262 is 28.323777675628662 sec\n",
            "Time for epoch 263 is 28.324156284332275 sec\n",
            "Time for epoch 264 is 28.303954362869263 sec\n",
            "Time for epoch 265 is 28.319156169891357 sec\n",
            "Time for epoch 266 is 28.317216396331787 sec\n",
            "Time for epoch 267 is 28.301704168319702 sec\n",
            "Time for epoch 268 is 28.317930936813354 sec\n",
            "Time for epoch 269 is 28.326390981674194 sec\n",
            "Time for epoch 270 is 28.308566093444824 sec\n",
            "Time for epoch 271 is 28.310584545135498 sec\n",
            "Time for epoch 272 is 28.303771018981934 sec\n",
            "Time for epoch 273 is 28.329854011535645 sec\n",
            "Time for epoch 274 is 28.329023122787476 sec\n",
            "Time for epoch 275 is 28.31247901916504 sec\n"
          ]
        },
        {
          "output_type": "display_data",
          "data": {
            "image/png": "[encoded data removed]",
            "text/plain": [
              "<Figure size 288x288 with 16 Axes>"
            ]
          },
          "metadata": {
            "needs_background": "light"
          }
        },
        {
          "output_type": "stream",
          "name": "stdout",
          "text": [
            "(16, 256, 14, 1)\n",
            "Generated and saved\n",
            "Time for epoch 276 is 30.14030385017395 sec\n",
            "Time for epoch 277 is 28.1529061794281 sec\n",
            "Time for epoch 278 is 28.308202743530273 sec\n",
            "Time for epoch 279 is 28.3046133518219 sec\n",
            "Time for epoch 280 is 28.32619071006775 sec\n",
            "Time for epoch 281 is 28.319066286087036 sec\n",
            "Time for epoch 282 is 28.324394941329956 sec\n",
            "Time for epoch 283 is 28.313086986541748 sec\n",
            "Time for epoch 284 is 28.320188760757446 sec\n",
            "Time for epoch 285 is 28.29701828956604 sec\n",
            "Time for epoch 286 is 28.314836025238037 sec\n",
            "Time for epoch 287 is 28.311285495758057 sec\n",
            "Time for epoch 288 is 28.325751543045044 sec\n",
            "Time for epoch 289 is 28.311237573623657 sec\n",
            "Time for epoch 290 is 28.313398122787476 sec\n",
            "Time for epoch 291 is 28.30642080307007 sec\n",
            "Time for epoch 292 is 28.319194555282593 sec\n",
            "Time for epoch 293 is 28.340580701828003 sec\n",
            "Time for epoch 294 is 28.309387922286987 sec\n",
            "Time for epoch 295 is 28.314246654510498 sec\n",
            "Time for epoch 296 is 28.318779945373535 sec\n",
            "Time for epoch 297 is 28.29531955718994 sec\n",
            "Time for epoch 298 is 28.323196411132812 sec\n",
            "Time for epoch 299 is 28.342700242996216 sec\n",
            "Time for epoch 300 is 28.30234456062317 sec\n"
          ]
        },
        {
          "output_type": "display_data",
          "data": {
            "image/png": "[encoded data removed]",
            "text/plain": [
              "<Figure size 288x288 with 16 Axes>"
            ]
          },
          "metadata": {
            "needs_background": "light"
          }
        },
        {
          "output_type": "stream",
          "name": "stdout",
          "text": [
            "(16, 256, 14, 1)\n",
            "Generated and saved\n",
            "Time for epoch 301 is 29.88728356361389 sec\n",
            "Time for epoch 302 is 28.140991687774658 sec\n",
            "Time for epoch 303 is 28.347107887268066 sec\n",
            "Time for epoch 304 is 28.324469804763794 sec\n",
            "Time for epoch 305 is 28.59606432914734 sec\n",
            "Time for epoch 306 is 28.14775061607361 sec\n",
            "Time for epoch 307 is 28.319913148880005 sec\n",
            "Time for epoch 308 is 28.317196369171143 sec\n",
            "Time for epoch 309 is 28.31615447998047 sec\n",
            "Time for epoch 310 is 28.30670475959778 sec\n",
            "Time for epoch 311 is 28.467077016830444 sec\n",
            "Time for epoch 312 is 28.16108012199402 sec\n",
            "Time for epoch 313 is 28.299379348754883 sec\n",
            "Time for epoch 314 is 28.316946744918823 sec\n",
            "Time for epoch 315 is 28.30617046356201 sec\n",
            "Time for epoch 316 is 28.331974267959595 sec\n",
            "Time for epoch 317 is 28.308398962020874 sec\n",
            "Time for epoch 318 is 28.319649934768677 sec\n",
            "Time for epoch 319 is 28.32883930206299 sec\n",
            "Time for epoch 320 is 28.325233459472656 sec\n",
            "Time for epoch 321 is 28.317952871322632 sec\n",
            "Time for epoch 322 is 28.33145761489868 sec\n",
            "Time for epoch 323 is 28.329050302505493 sec\n",
            "Time for epoch 324 is 28.31641721725464 sec\n",
            "Time for epoch 325 is 28.305124282836914 sec\n"
          ]
        },
        {
          "output_type": "display_data",
          "data": {
            "image/png": "[encoded data removed]",
            "text/plain": [
              "<Figure size 288x288 with 16 Axes>"
            ]
          },
          "metadata": {
            "needs_background": "light"
          }
        },
        {
          "output_type": "stream",
          "name": "stdout",
          "text": [
            "(16, 256, 14, 1)\n",
            "Generated and saved\n",
            "Time for epoch 326 is 29.915382862091064 sec\n",
            "Time for epoch 327 is 28.1434805393219 sec\n",
            "Time for epoch 328 is 28.308956384658813 sec\n",
            "Time for epoch 329 is 28.318592071533203 sec\n",
            "Time for epoch 330 is 28.319101333618164 sec\n",
            "Time for epoch 331 is 28.30724596977234 sec\n",
            "Time for epoch 332 is 28.307077884674072 sec\n",
            "Time for epoch 333 is 28.324726343154907 sec\n",
            "Time for epoch 334 is 28.330241441726685 sec\n",
            "Time for epoch 335 is 28.308090925216675 sec\n",
            "Time for epoch 336 is 28.319273471832275 sec\n",
            "Time for epoch 337 is 28.314866304397583 sec\n",
            "Time for epoch 338 is 28.316240549087524 sec\n",
            "Time for epoch 339 is 28.31117010116577 sec\n",
            "Time for epoch 340 is 28.326587200164795 sec\n",
            "Time for epoch 341 is 28.315572023391724 sec\n",
            "Time for epoch 342 is 28.310261011123657 sec\n",
            "Time for epoch 343 is 28.308610200881958 sec\n",
            "Time for epoch 344 is 28.31511878967285 sec\n",
            "Time for epoch 345 is 28.300362825393677 sec\n",
            "Time for epoch 346 is 28.30601143836975 sec\n",
            "Time for epoch 347 is 28.328729391098022 sec\n",
            "Time for epoch 348 is 28.320351362228394 sec\n",
            "Time for epoch 349 is 28.320423364639282 sec\n",
            "Time for epoch 350 is 28.334205389022827 sec\n"
          ]
        },
        {
          "output_type": "display_data",
          "data": {
            "image/png": "[encoded data removed]",
            "text/plain": [
              "<Figure size 288x288 with 16 Axes>"
            ]
          },
          "metadata": {
            "needs_background": "light"
          }
        },
        {
          "output_type": "stream",
          "name": "stdout",
          "text": [
            "(16, 256, 14, 1)\n",
            "Generated and saved\n",
            "Time for epoch 351 is 30.119718551635742 sec\n",
            "Time for epoch 352 is 28.170162200927734 sec\n",
            "Time for epoch 353 is 28.321077346801758 sec\n",
            "Time for epoch 354 is 28.32839608192444 sec\n",
            "Time for epoch 355 is 28.31704068183899 sec\n",
            "Time for epoch 356 is 28.31462049484253 sec\n",
            "Time for epoch 357 is 28.305098295211792 sec\n",
            "Time for epoch 358 is 28.315131664276123 sec\n",
            "Time for epoch 359 is 28.316522359848022 sec\n",
            "Time for epoch 360 is 28.32038426399231 sec\n",
            "Time for epoch 361 is 28.30851173400879 sec\n",
            "Time for epoch 362 is 28.30030369758606 sec\n",
            "Time for epoch 363 is 28.299144983291626 sec\n",
            "Time for epoch 364 is 28.295220375061035 sec\n",
            "Time for epoch 365 is 28.30485773086548 sec\n",
            "Time for epoch 366 is 28.326173543930054 sec\n",
            "Time for epoch 367 is 28.31313180923462 sec\n",
            "Time for epoch 368 is 28.59977960586548 sec\n",
            "Time for epoch 369 is 28.121573209762573 sec\n",
            "Time for epoch 370 is 28.297844886779785 sec\n",
            "Time for epoch 371 is 28.30634307861328 sec\n",
            "Time for epoch 372 is 28.306396961212158 sec\n",
            "Time for epoch 373 is 28.305745840072632 sec\n",
            "Time for epoch 374 is 28.30419087409973 sec\n",
            "Time for epoch 375 is 28.299168348312378 sec\n"
          ]
        },
        {
          "output_type": "display_data",
          "data": {
            "image/png": "[encoded data removed]",
            "text/plain": [
              "<Figure size 288x288 with 16 Axes>"
            ]
          },
          "metadata": {
            "needs_background": "light"
          }
        },
        {
          "output_type": "stream",
          "name": "stdout",
          "text": [
            "(16, 256, 14, 1)\n",
            "Generated and saved\n",
            "Time for epoch 376 is 29.937413692474365 sec\n",
            "Time for epoch 377 is 28.12852716445923 sec\n",
            "Time for epoch 378 is 28.32351279258728 sec\n",
            "Time for epoch 379 is 28.303659677505493 sec\n",
            "Time for epoch 380 is 28.304129362106323 sec\n",
            "Time for epoch 381 is 28.297828674316406 sec\n",
            "Time for epoch 382 is 28.30276584625244 sec\n",
            "Time for epoch 383 is 28.31228804588318 sec\n",
            "Time for epoch 384 is 28.308277130126953 sec\n",
            "Time for epoch 385 is 28.30907368659973 sec\n",
            "Time for epoch 386 is 28.314040184020996 sec\n",
            "Time for epoch 387 is 28.301403284072876 sec\n",
            "Time for epoch 388 is 28.31701636314392 sec\n",
            "Time for epoch 389 is 28.299612998962402 sec\n",
            "Time for epoch 390 is 28.301296949386597 sec\n",
            "Time for epoch 391 is 28.32223081588745 sec\n",
            "Time for epoch 392 is 28.314651489257812 sec\n",
            "Time for epoch 393 is 28.305955171585083 sec\n",
            "Time for epoch 394 is 28.308629035949707 sec\n",
            "Time for epoch 395 is 28.313426971435547 sec\n",
            "Time for epoch 396 is 28.29852867126465 sec\n",
            "Time for epoch 397 is 28.295021772384644 sec\n",
            "Time for epoch 398 is 28.309203386306763 sec\n",
            "Time for epoch 399 is 28.302837371826172 sec\n",
            "Time for epoch 400 is 28.29617142677307 sec\n"
          ]
        },
        {
          "output_type": "display_data",
          "data": {
            "image/png": "[encoded data removed]",
            "text/plain": [
              "<Figure size 288x288 with 16 Axes>"
            ]
          },
          "metadata": {
            "needs_background": "light"
          }
        },
        {
          "output_type": "stream",
          "name": "stdout",
          "text": [
            "(16, 256, 14, 1)\n",
            "Generated and saved\n",
            "Time for epoch 401 is 29.90802240371704 sec\n",
            "Time for epoch 402 is 28.135420560836792 sec\n",
            "Time for epoch 403 is 28.307344675064087 sec\n",
            "Time for epoch 404 is 28.314172744750977 sec\n",
            "Time for epoch 405 is 28.303749322891235 sec\n",
            "Time for epoch 406 is 28.300296306610107 sec\n",
            "Time for epoch 407 is 28.29462480545044 sec\n",
            "Time for epoch 408 is 28.294239282608032 sec\n",
            "Time for epoch 409 is 28.316730260849 sec\n",
            "Time for epoch 410 is 28.284043788909912 sec\n",
            "Time for epoch 411 is 28.308938026428223 sec\n",
            "Time for epoch 412 is 28.305415391921997 sec\n",
            "Time for epoch 413 is 28.308820962905884 sec\n",
            "Time for epoch 414 is 28.30655550956726 sec\n",
            "Time for epoch 415 is 28.28009033203125 sec\n",
            "Time for epoch 416 is 28.298824548721313 sec\n",
            "Time for epoch 417 is 28.30386710166931 sec\n",
            "Time for epoch 418 is 28.291664361953735 sec\n",
            "Time for epoch 419 is 28.275279760360718 sec\n",
            "Time for epoch 420 is 28.299777269363403 sec\n",
            "Time for epoch 421 is 28.302114963531494 sec\n",
            "Time for epoch 422 is 28.30264639854431 sec\n",
            "Time for epoch 423 is 28.305464506149292 sec\n",
            "Time for epoch 424 is 28.29582452774048 sec\n",
            "Time for epoch 425 is 28.28604817390442 sec\n"
          ]
        },
        {
          "output_type": "display_data",
          "data": {
            "image/png": "[encoded data removed]",
            "text/plain": [
              "<Figure size 288x288 with 16 Axes>"
            ]
          },
          "metadata": {
            "needs_background": "light"
          }
        },
        {
          "output_type": "stream",
          "name": "stdout",
          "text": [
            "(16, 256, 14, 1)\n",
            "Generated and saved\n",
            "Time for epoch 426 is 30.154705047607422 sec\n",
            "Time for epoch 427 is 28.129478454589844 sec\n",
            "Time for epoch 428 is 28.312023639678955 sec\n",
            "Time for epoch 429 is 28.32582116127014 sec\n",
            "Time for epoch 430 is 28.28951907157898 sec\n",
            "Time for epoch 431 is 28.301794290542603 sec\n",
            "Time for epoch 432 is 28.3218252658844 sec\n",
            "Time for epoch 433 is 28.302950620651245 sec\n",
            "Time for epoch 434 is 28.29038429260254 sec\n",
            "Time for epoch 435 is 28.319153308868408 sec\n",
            "Time for epoch 436 is 28.30017590522766 sec\n",
            "Time for epoch 437 is 28.311183214187622 sec\n",
            "Time for epoch 438 is 28.307538986206055 sec\n",
            "Time for epoch 439 is 28.309491872787476 sec\n",
            "Time for epoch 440 is 28.442296743392944 sec\n",
            "Time for epoch 441 is 28.15551447868347 sec\n",
            "Time for epoch 442 is 28.29509162902832 sec\n",
            "Time for epoch 443 is 28.31231951713562 sec\n",
            "Time for epoch 444 is 28.441229581832886 sec\n",
            "Time for epoch 445 is 28.16022229194641 sec\n",
            "Time for epoch 446 is 28.29993224143982 sec\n",
            "Time for epoch 447 is 28.312868356704712 sec\n",
            "Time for epoch 448 is 28.308892488479614 sec\n",
            "Time for epoch 449 is 28.309739112854004 sec\n",
            "Time for epoch 450 is 28.29185199737549 sec\n"
          ]
        },
        {
          "output_type": "display_data",
          "data": {
            "image/png": "[encoded data removed]",
            "text/plain": [
              "<Figure size 288x288 with 16 Axes>"
            ]
          },
          "metadata": {
            "needs_background": "light"
          }
        },
        {
          "output_type": "stream",
          "name": "stdout",
          "text": [
            "(16, 256, 14, 1)\n",
            "Generated and saved\n",
            "Time for epoch 451 is 29.854292154312134 sec\n",
            "Time for epoch 452 is 28.14989471435547 sec\n",
            "Time for epoch 453 is 28.318549394607544 sec\n",
            "Time for epoch 454 is 28.301774263381958 sec\n",
            "Time for epoch 455 is 28.298644065856934 sec\n",
            "Time for epoch 456 is 28.3086941242218 sec\n",
            "Time for epoch 457 is 28.323549509048462 sec\n",
            "Time for epoch 458 is 28.31075119972229 sec\n",
            "Time for epoch 459 is 28.28797698020935 sec\n",
            "Time for epoch 460 is 28.30588126182556 sec\n",
            "Time for epoch 461 is 28.306575775146484 sec\n",
            "Time for epoch 462 is 28.29706835746765 sec\n",
            "Time for epoch 463 is 28.31566286087036 sec\n",
            "Time for epoch 464 is 28.294312477111816 sec\n",
            "Time for epoch 465 is 28.326868295669556 sec\n",
            "Time for epoch 466 is 28.295698165893555 sec\n",
            "Time for epoch 467 is 28.29935121536255 sec\n",
            "Time for epoch 468 is 28.284807205200195 sec\n",
            "Time for epoch 469 is 28.306649923324585 sec\n",
            "Time for epoch 470 is 28.301419258117676 sec\n",
            "Time for epoch 471 is 28.299799919128418 sec\n",
            "Time for epoch 472 is 28.30627417564392 sec\n",
            "Time for epoch 473 is 28.314006328582764 sec\n",
            "Time for epoch 474 is 28.31981873512268 sec\n",
            "Time for epoch 475 is 28.311863660812378 sec\n"
          ]
        },
        {
          "output_type": "display_data",
          "data": {
            "image/png": "[encoded data removed]",
            "text/plain": [
              "<Figure size 288x288 with 16 Axes>"
            ]
          },
          "metadata": {
            "needs_background": "light"
          }
        },
        {
          "output_type": "stream",
          "name": "stdout",
          "text": [
            "(16, 256, 14, 1)\n",
            "Generated and saved\n",
            "Time for epoch 476 is 29.82332730293274 sec\n",
            "Time for epoch 477 is 28.122158527374268 sec\n",
            "Time for epoch 478 is 28.317038536071777 sec\n",
            "Time for epoch 479 is 28.330586194992065 sec\n",
            "Time for epoch 480 is 28.3085880279541 sec\n",
            "Time for epoch 481 is 28.321775913238525 sec\n",
            "Time for epoch 482 is 28.30619788169861 sec\n",
            "Time for epoch 483 is 28.320292711257935 sec\n",
            "Time for epoch 484 is 28.300052642822266 sec\n",
            "Time for epoch 485 is 28.304136276245117 sec\n",
            "Time for epoch 486 is 28.337905168533325 sec\n",
            "Time for epoch 487 is 28.301302671432495 sec\n",
            "Time for epoch 488 is 28.303192615509033 sec\n",
            "Time for epoch 489 is 28.292921781539917 sec\n",
            "Time for epoch 490 is 28.2949640750885 sec\n",
            "Time for epoch 491 is 28.311814069747925 sec\n",
            "Time for epoch 492 is 28.313927173614502 sec\n",
            "Time for epoch 493 is 28.30963969230652 sec\n",
            "Time for epoch 494 is 28.320353031158447 sec\n",
            "Time for epoch 495 is 28.301862955093384 sec\n",
            "Time for epoch 496 is 28.301734924316406 sec\n",
            "Time for epoch 497 is 28.303703784942627 sec\n",
            "Time for epoch 498 is 28.33267855644226 sec\n",
            "Time for epoch 499 is 28.306130170822144 sec\n",
            "Time for epoch 500 is 28.292645692825317 sec\n"
          ]
        },
        {
          "output_type": "display_data",
          "data": {
            "image/png": "[encoded data removed]",
            "text/plain": [
              "<Figure size 288x288 with 16 Axes>"
            ]
          },
          "metadata": {
            "needs_background": "light"
          }
        },
        {
          "output_type": "stream",
          "name": "stdout",
          "text": [
            "(16, 256, 14, 1)\n"
          ]
        }
      ]
    },
    {
      "cell_type": "code",
      "metadata": {
        "id": "OBM6Kb-FUQmh"
      },
      "source": [
        ""
      ],
      "execution_count": null,
      "outputs": []
    },
    {
      "cell_type": "code",
      "metadata": {
        "id": "6aRcqXQA6C5h"
      },
      "source": [
        "generate_and_save_images(generator, 60, seed)"
      ],
      "execution_count": null,
      "outputs": []
    },
    {
      "cell_type": "code",
      "metadata": {
        "id": "nhKO0Tea8TEY"
      },
      "source": [
        "import librosa\n",
        "import librosa.display\n",
        "zaladowane = np.load('/content/gdrive/MyDrive/Inzynierka/Data/Results/v1/v1_259.npy')\n",
        "#zaladowane = np.load('/content/gdrive/MyDrive/Inzynierka/Data/en_spectrogram_tensor/common_voice_en_22677141.mp3.npy')\n",
        "print(zaladowane.shape)\n",
        "#print(zaladowane[6])\n",
        "print(np.max(zaladowane))\n",
        "print(np.min(zaladowane))\n",
        "normalized = (zaladowane * 80) - 80\n",
        "print(np.max(normalized))\n",
        "print(np.min(normalized))\n",
        "\n",
        "#librosa.display.specshow(spectest)\n",
        "#librosa.display.specshow((zaladowane[4].reshape(256,14)))\n",
        "librosa.display.specshow((normalized[12].reshape(256,14)))\n",
        "#print(normalized[2])"
      ],
      "execution_count": null,
      "outputs": []
    },
    {
      "cell_type": "code",
      "metadata": {
        "id": "7LLPOleA92oS"
      },
      "source": [
        "\n",
        "librosa.display.specshow((normalized[4].reshape(256,14)))\n",
        "print(normalized[1])"
      ],
      "execution_count": null,
      "outputs": []
    },
    {
      "cell_type": "code",
      "metadata": {
        "id": "lhFg2GMu9Uod"
      },
      "source": [
        "\n",
        "\n",
        "\n",
        "\n",
        "\n",
        "\n",
        "print(data_tensor.shape)\n",
        "spectest = zaladowane[1]\n",
        "spectest = spectest.reshape(256,16)\n",
        "spectest = (spectest*127.5)\n",
        "print(spectest)\n",
        "librosa.display.specshow(spectest)"
      ],
      "execution_count": null,
      "outputs": []
    },
    {
      "cell_type": "code",
      "metadata": {
        "id": "oDm_sgsX9yaD"
      },
      "source": [
        ""
      ],
      "execution_count": null,
      "outputs": []
    },
    {
      "cell_type": "code",
      "metadata": {
        "id": "6lgtPj39GSaj"
      },
      "source": [
        "# To restore checkpoint\n",
        "checkpoint.restore(tf.train.latest_checkpoint(checkpoint_dir))\n"
      ],
      "execution_count": null,
      "outputs": []
    }
  ]
}