{
  "nbformat": 4,
  "nbformat_minor": 0,
  "metadata": {
    "colab": {
      "name": "Model.ipynb",
      "provenance": [],
      "collapsed_sections": [],
      "authorship_tag": "ABX9TyMu2ytfmDZENWdlQiUyOoyB",
      "include_colab_link": true
    },
    "kernelspec": {
      "name": "python3",
      "display_name": "Python 3"
    },
    "language_info": {
      "name": "python"
    },
    "accelerator": "GPU"
  },
  "cells": [
    {
      "cell_type": "markdown",
      "metadata": {
        "id": "view-in-github",
        "colab_type": "text"
      },
      "source": [
        "<a href=\"https://colab.research.google.com/github/MrCogito/Spectrogram-Generator/blob/main/Model.ipynb\" target=\"_parent\"><img src=\"https://colab.research.google.com/assets/colab-badge.svg\" alt=\"Open In Colab\"/></a>"
      ]
    },
    {
      "cell_type": "markdown",
      "metadata": {
        "id": "hVF08GK3xGaV"
      },
      "source": [
        "# Import TensorFlow and other libraries\n",
        "\n"
      ]
    },
    {
      "cell_type": "code",
      "metadata": {
        "id": "Wr6BzE8kv8y1"
      },
      "source": [
        "import tensorflow as tf\n",
        "from tensorflow import keras\n",
        "from tensorflow.keras import layers\n",
        "import numpy as np\n",
        "import matplotlib.pyplot as plt \n",
        "import pathlib\n",
        "import os\n",
        "from google.colab import drive\n",
        "import time\n",
        "import librosa\n",
        "import librosa.display\n",
        "\n",
        "\n"
      ],
      "execution_count": 1,
      "outputs": []
    },
    {
      "cell_type": "code",
      "metadata": {
        "id": "emTpa6ocy0XA",
        "colab": {
          "base_uri": "https://localhost:8080/"
        },
        "outputId": "57d4e767-9ed1-4270-a581-56d1b82a8aab"
      },
      "source": [
        "drive.mount('/content/gdrive') #Mount google driv"
      ],
      "execution_count": 2,
      "outputs": [
        {
          "output_type": "stream",
          "name": "stdout",
          "text": [
            "Mounted at /content/gdrive\n"
          ]
        }
      ]
    },
    {
      "cell_type": "code",
      "metadata": {
        "colab": {
          "base_uri": "https://localhost:8080/",
          "height": 35
        },
        "id": "Y39vVh363JTi",
        "outputId": "dbb03b7f-a321-4915-df47-df887e1e66bb"
      },
      "source": [
        "tf.__version__"
      ],
      "execution_count": 3,
      "outputs": [
        {
          "output_type": "execute_result",
          "data": {
            "application/vnd.google.colaboratory.intrinsic+json": {
              "type": "string"
            },
            "text/plain": [
              "'2.7.0'"
            ]
          },
          "metadata": {},
          "execution_count": 3
        }
      ]
    },
    {
      "cell_type": "code",
      "metadata": {
        "colab": {
          "base_uri": "https://localhost:8080/"
        },
        "id": "cih-Q8_QzgO9",
        "outputId": "0205459a-5cb3-42bf-c352-7b7d4561614c"
      },
      "source": [
        "%tensorflow_version 2.x\n",
        "import tensorflow as tf\n",
        "device_name = tf.test.gpu_device_name()\n",
        "if device_name != '/device:GPU:0':\n",
        "  raise SystemError('GPU device not found')\n",
        "print('Found GPU at: {}'.format(device_name))\n",
        "\n"
      ],
      "execution_count": 4,
      "outputs": [
        {
          "output_type": "stream",
          "name": "stdout",
          "text": [
            "Found GPU at: /device:GPU:0\n"
          ]
        }
      ]
    },
    {
      "cell_type": "markdown",
      "metadata": {
        "id": "WzfctED-xkZC"
      },
      "source": [
        "# Load and prepare the dataset"
      ]
    },
    {
      "cell_type": "code",
      "metadata": {
        "colab": {
          "base_uri": "https://localhost:8080/",
          "height": 337
        },
        "id": "c3fYZEPSxYk1",
        "outputId": "ea2cec27-5fa4-44a5-f50d-991a70028dde"
      },
      "source": [
        "# Load data\n",
        "\n",
        "data_tensor = np.load('/content/gdrive/MyDrive/Inzynierka/Data/en_spectrogram_tensor/Dataset_spectrogram_256_14.npy')\n",
        "#print(data_tensor)\n",
        "print(data_tensor.dtype)\n",
        "print(data_tensor.shape)\n",
        "librosa.display.specshow(data_tensor[3])\n",
        "data_tensor = (data_tensor + 40) / 40\n",
        "#print(data_tensor.shape)\n",
        "print(np.max(data_tensor))\n",
        "print(np.min(data_tensor))\n",
        "data_tensor = data_tensor.reshape(12196, 256, 14, 1)\n",
        "print(data_tensor.shape)\n",
        "BUFFER_SIZE = 12196\n",
        "BATCH_SIZE = 128\n",
        "\n",
        "# Batch and shuffle the data\n",
        "train_dataset = tf.data.Dataset.from_tensor_slices(data_tensor).shuffle(BUFFER_SIZE).batch(BATCH_SIZE)\n",
        "\n"
      ],
      "execution_count": 5,
      "outputs": [
        {
          "output_type": "stream",
          "name": "stdout",
          "text": [
            "float32\n",
            "(12196, 256, 14)\n",
            "1.0000001\n",
            "-1.0\n",
            "(12196, 256, 14, 1)\n"
          ]
        },
        {
          "output_type": "display_data",
          "data": {
            "image/png": "[encoded data removed]",
            "text/plain": [
              "<Figure size 432x288 with 1 Axes>"
            ]
          },
          "metadata": {}
        }
      ]
    },
    {
      "cell_type": "markdown",
      "metadata": {
        "id": "VIC9lOj6y_lp"
      },
      "source": [
        "# Build the generator"
      ]
    },
    {
      "cell_type": "code",
      "metadata": {
        "id": "n2zTdb_azKwc"
      },
      "source": [
        "def make_generator_model():\n",
        "    model = tf.keras.Sequential()\n",
        "    model.add(layers.Dense(8*7*128, use_bias=False, input_shape=(100,)))\n",
        "    model.add(layers.BatchNormalization())\n",
        "    model.add(layers.LeakyReLU(alpha=0.3))\n",
        "\n",
        "    model.add(layers.Reshape((8, 7, 128)))\n",
        "    assert model.output_shape == (None, 8, 7, 128)  # ensure size is correct None is batch size\n",
        "   \n",
        "   \n",
        "    model.add(layers.Conv2DTranspose(128, kernel_size=4, strides=2, padding=\"same\"))\n",
        "    print(model.output_shape)\n",
        "    assert model.output_shape == (None, 16, 14, 128)\n",
        "    model.add(layers.BatchNormalization())\n",
        "    model.add(layers.LeakyReLU(alpha=0.3))\n",
        "    \n",
        "    model.add(layers.Conv2DTranspose(256, kernel_size=4, strides=2, padding=\"same\"))\n",
        "    print(model.output_shape)\n",
        "    assert model.output_shape == (None, 32, 28, 256)\n",
        "    model.add(layers.BatchNormalization())\n",
        "    model.add(layers.LeakyReLU(alpha=0.3))\n",
        "\n",
        "    model.add(layers.Conv2DTranspose(512, kernel_size=4, strides=2, padding=\"same\"))\n",
        "    print(model.output_shape)\n",
        "    assert model.output_shape == (None, 64, 56, 512)\n",
        "    model.add(layers.BatchNormalization())\n",
        "    model.add(layers.LeakyReLU(alpha=0.3))\n",
        "    \n",
        "    model.add(layers.Conv2D(1, kernel_size=5, padding=\"same\", activation=\"sigmoid\"))\n",
        "    print(model.output_shape)\n",
        "    model.add(layers.Reshape((256,14,1)))\n",
        "    print(model.output_shape)\n",
        "    return model\n",
        "\n",
        "\n",
        "\n"
      ],
      "execution_count": 6,
      "outputs": []
    },
    {
      "cell_type": "code",
      "metadata": {
        "colab": {
          "base_uri": "https://localhost:8080/"
        },
        "id": "hAgcaxf6AKIb",
        "outputId": "bb7d8517-b45c-4661-f82d-527e416f924a"
      },
      "source": [
        "generator = make_generator_model()\n",
        "generator.summary()"
      ],
      "execution_count": 7,
      "outputs": [
        {
          "output_type": "stream",
          "name": "stdout",
          "text": [
            "(None, 16, 14, 128)\n",
            "(None, 32, 28, 256)\n",
            "(None, 64, 56, 512)\n",
            "(None, 64, 56, 1)\n",
            "(None, 256, 14, 1)\n",
            "Model: \"sequential\"\n",
            "_________________________________________________________________\n",
            " Layer (type)                Output Shape              Param #   \n",
            "=================================================================\n",
            " dense (Dense)               (None, 7168)              716800    \n",
            "                                                                 \n",
            " batch_normalization (BatchN  (None, 7168)             28672     \n",
            " ormalization)                                                   \n",
            "                                                                 \n",
            " leaky_re_lu (LeakyReLU)     (None, 7168)              0         \n",
            "                                                                 \n",
            " reshape (Reshape)           (None, 8, 7, 128)         0         \n",
            "                                                                 \n",
            " conv2d_transpose (Conv2DTra  (None, 16, 14, 128)      262272    \n",
            " nspose)                                                         \n",
            "                                                                 \n",
            " batch_normalization_1 (Batc  (None, 16, 14, 128)      512       \n",
            " hNormalization)                                                 \n",
            "                                                                 \n",
            " leaky_re_lu_1 (LeakyReLU)   (None, 16, 14, 128)       0         \n",
            "                                                                 \n",
            " conv2d_transpose_1 (Conv2DT  (None, 32, 28, 256)      524544    \n",
            " ranspose)                                                       \n",
            "                                                                 \n",
            " batch_normalization_2 (Batc  (None, 32, 28, 256)      1024      \n",
            " hNormalization)                                                 \n",
            "                                                                 \n",
            " leaky_re_lu_2 (LeakyReLU)   (None, 32, 28, 256)       0         \n",
            "                                                                 \n",
            " conv2d_transpose_2 (Conv2DT  (None, 64, 56, 512)      2097664   \n",
            " ranspose)                                                       \n",
            "                                                                 \n",
            " batch_normalization_3 (Batc  (None, 64, 56, 512)      2048      \n",
            " hNormalization)                                                 \n",
            "                                                                 \n",
            " leaky_re_lu_3 (LeakyReLU)   (None, 64, 56, 512)       0         \n",
            "                                                                 \n",
            " conv2d (Conv2D)             (None, 64, 56, 1)         12801     \n",
            "                                                                 \n",
            " reshape_1 (Reshape)         (None, 256, 14, 1)        0         \n",
            "                                                                 \n",
            "=================================================================\n",
            "Total params: 3,646,337\n",
            "Trainable params: 3,630,209\n",
            "Non-trainable params: 16,128\n",
            "_________________________________________________________________\n"
          ]
        }
      ]
    },
    {
      "cell_type": "code",
      "metadata": {
        "colab": {
          "base_uri": "https://localhost:8080/",
          "height": 286
        },
        "id": "6Fcutm-_DJug",
        "outputId": "6b64d963-28ad-4a37-adb4-6c3d566ce38e"
      },
      "source": [
        "noise = tf.random.normal([1, 100])\n",
        "generated_image = generator(noise, training=False)\n",
        "plt.imshow(generated_image[0, :, :, 0], cmap='gray')\n",
        "print(generated_image.shape)"
      ],
      "execution_count": 8,
      "outputs": [
        {
          "output_type": "stream",
          "name": "stdout",
          "text": [
            "(1, 256, 14, 1)\n"
          ]
        },
        {
          "output_type": "display_data",
          "data": {
            "image/png": "[encoded data removed]",
            "text/plain": [
              "<Figure size 432x288 with 1 Axes>"
            ]
          },
          "metadata": {
            "needs_background": "light"
          }
        }
      ]
    },
    {
      "cell_type": "markdown",
      "metadata": {
        "id": "BG5a-34DlhVM"
      },
      "source": [
        "# Build the discriminator\n"
      ]
    },
    {
      "cell_type": "code",
      "metadata": {
        "id": "o0D4W_H2nKl0"
      },
      "source": [
        "def make_discriminator_model():\n",
        "  \n",
        "  model = tf.keras.Sequential()\n",
        "  model.add(layers.Conv2D(64, kernel_size=4, strides=2, padding='same',input_shape=[256, 14, 1]))\n",
        "  model.add(layers.LeakyReLU(alpha=0.3))\n",
        "\n",
        "  model.add(layers.Conv2D(128, (5,5), strides=(2, 2), padding='same'))\n",
        "  model.add(layers.LeakyReLU(alpha=0.3))\n",
        "  model.add(layers.Dropout(0.3))\n",
        "\n",
        "  model.add(layers.Conv2D(256, (5,5), strides=(2, 2), padding='same'))\n",
        "  model.add(layers.LeakyReLU(alpha=0.3))\n",
        "  model.add(layers.Dropout(0.3))\n",
        "\n",
        "\n",
        "\n",
        "  model.add(layers.Flatten())\n",
        "  model.add(layers.Dense(1))\n",
        "\n",
        "  return model\n",
        "\n"
      ],
      "execution_count": 9,
      "outputs": []
    },
    {
      "cell_type": "code",
      "metadata": {
        "colab": {
          "base_uri": "https://localhost:8080/"
        },
        "id": "Q7k4WrQ3uPsa",
        "outputId": "249ab742-1a08-46ae-fb5e-26e9ef31263c"
      },
      "source": [
        "discriminator = make_discriminator_model()\n",
        "decision = discriminator(generated_image)\n",
        "print(decision)\n",
        "discriminator.summary()"
      ],
      "execution_count": 10,
      "outputs": [
        {
          "output_type": "stream",
          "name": "stdout",
          "text": [
            "tf.Tensor([[0.01427418]], shape=(1, 1), dtype=float32)\n",
            "Model: \"sequential_1\"\n",
            "_________________________________________________________________\n",
            " Layer (type)                Output Shape              Param #   \n",
            "=================================================================\n",
            " conv2d_1 (Conv2D)           (None, 128, 7, 64)        1088      \n",
            "                                                                 \n",
            " leaky_re_lu_4 (LeakyReLU)   (None, 128, 7, 64)        0         \n",
            "                                                                 \n",
            " conv2d_2 (Conv2D)           (None, 64, 4, 128)        204928    \n",
            "                                                                 \n",
            " leaky_re_lu_5 (LeakyReLU)   (None, 64, 4, 128)        0         \n",
            "                                                                 \n",
            " dropout (Dropout)           (None, 64, 4, 128)        0         \n",
            "                                                                 \n",
            " conv2d_3 (Conv2D)           (None, 32, 2, 256)        819456    \n",
            "                                                                 \n",
            " leaky_re_lu_6 (LeakyReLU)   (None, 32, 2, 256)        0         \n",
            "                                                                 \n",
            " dropout_1 (Dropout)         (None, 32, 2, 256)        0         \n",
            "                                                                 \n",
            " flatten (Flatten)           (None, 16384)             0         \n",
            "                                                                 \n",
            " dense_1 (Dense)             (None, 1)                 16385     \n",
            "                                                                 \n",
            "=================================================================\n",
            "Total params: 1,041,857\n",
            "Trainable params: 1,041,857\n",
            "Non-trainable params: 0\n",
            "_________________________________________________________________\n"
          ]
        }
      ]
    },
    {
      "cell_type": "markdown",
      "metadata": {
        "id": "j_5o6Qc1ApJu"
      },
      "source": [
        "# Define the loss and optimizers\n"
      ]
    },
    {
      "cell_type": "code",
      "metadata": {
        "id": "qsyQNRJRAtjR"
      },
      "source": [
        "cross_entropy = tf.keras.losses.BinaryCrossentropy(from_logits=True) # from_logits=True return value in [-inf, inf]"
      ],
      "execution_count": 11,
      "outputs": []
    },
    {
      "cell_type": "code",
      "metadata": {
        "id": "Kg9XEasgBSU-"
      },
      "source": [
        "#discriminator loss\n",
        "def discriminator_loss(real_output, fake_output):\n",
        "    real_loss = cross_entropy(tf.ones_like(real_output), real_output)\n",
        "    fake_loss = cross_entropy(tf.zeros_like(fake_output), fake_output)\n",
        "    total_loss = real_loss + fake_loss\n",
        "    total_loss = real_loss + fake_loss\n",
        "    return total_loss, fake_loss, real_loss\n",
        "    "
      ],
      "execution_count": 12,
      "outputs": []
    },
    {
      "cell_type": "code",
      "metadata": {
        "id": "zDRXjUuIBYHN"
      },
      "source": [
        "#generator loss\n",
        "def generator_loss(fake_output):\n",
        "    return cross_entropy(tf.ones_like(fake_output), fake_output)"
      ],
      "execution_count": 13,
      "outputs": []
    },
    {
      "cell_type": "code",
      "metadata": {
        "id": "gTsRuLcqB0AT"
      },
      "source": [
        "#optimizers \n",
        "generator_optimizer = tf.keras.optimizers.Adam(0.0001)\n",
        "discriminator_optimizer = tf.keras.optimizers.Adam(0.0001)"
      ],
      "execution_count": 14,
      "outputs": []
    },
    {
      "cell_type": "markdown",
      "metadata": {
        "id": "CcjO4hr7Fm2Z"
      },
      "source": [
        "# Save checkpoints\n"
      ]
    },
    {
      "cell_type": "code",
      "metadata": {
        "id": "S2lKaBenFtKL"
      },
      "source": [
        "checkpoint_dir = '/content/gdrive/MyDrive/Inzynierka/Data/Results/v1/checkpoints'\n",
        "checkpoint_prefix = os.path.join(checkpoint_dir, \"ckpt\")\n",
        "checkpoint = tf.train.Checkpoint(generator_optimizer=generator_optimizer,\n",
        "                                 discriminator_optimizer=discriminator_optimizer,\n",
        "                                 generator=generator,\n",
        "                                 discriminator=discriminator)"
      ],
      "execution_count": 28,
      "outputs": []
    },
    {
      "cell_type": "markdown",
      "metadata": {
        "id": "scLG7C0VVp2-"
      },
      "source": [
        "# Save and plot history"
      ]
    },
    {
      "cell_type": "code",
      "metadata": {
        "id": "N-x7uK1vVv56"
      },
      "source": [
        "def plot_history(d1_hist, g_hist,epochs):\n",
        "  # plot loss\n",
        "\tplt.subplot(2,1,1)\n",
        "\tplt.plot(d1_hist, label='disc loss')\n",
        "\tplt.legend()\n",
        "\tplt.subplot(2,1,2)\n",
        "\tplt.plot(g_hist, label='gen loss')\n",
        "\tplt.legend()\n",
        "\t#plt.show()\n",
        "\t# plot discriminator accuracy\n",
        "\t# save plot to file\n",
        "\tplt.savefig('/content/gdrive/MyDrive/Inzynierka/Data/Results/v1_DG' + str(epochs))\n",
        "\tplt.close()"
      ],
      "execution_count": 24,
      "outputs": []
    },
    {
      "cell_type": "code",
      "metadata": {
        "id": "VpDp2U4syNc0"
      },
      "source": [
        "def plot_history2(dfake_hist, dreal_hist,epochs):\n",
        "  # plot loss\n",
        "\tplt.subplot(2,1,1)\n",
        "\tplt.plot(dfake_hist, label='dfake_hist')\n",
        "\tplt.legend()\n",
        "\tplt.subplot(2,1,2)\n",
        "\tplt.plot(dreal_hist, label='dreal_hist')\n",
        "\tplt.legend()\n",
        "\t#plt.show()\n",
        "\t# plot discriminator accuracy\n",
        "\t# save plot to file\n",
        "\tplt.savefig('/content/gdrive/MyDrive/Inzynierka/Data/Results/v1_dsc' + str(epochs))\n",
        "\tplt.close()"
      ],
      "execution_count": 25,
      "outputs": []
    },
    {
      "cell_type": "markdown",
      "metadata": {
        "id": "_GbdjkxcDbNM"
      },
      "source": [
        "# Define the training loop"
      ]
    },
    {
      "cell_type": "code",
      "metadata": {
        "id": "jH2GQXqSDhO0"
      },
      "source": [
        "EPOCHS = 500\n",
        "noise_dim = 100\n",
        "num_examples_to_generate = 16\n",
        "\n",
        "# You will reuse this seed overtime (so it's easier)\n",
        "# to visualize progress in the animated GIF)\n",
        "# to moze byc do wywalenia\n",
        "seed = tf.random.normal([num_examples_to_generate, noise_dim])"
      ],
      "execution_count": 18,
      "outputs": []
    },
    {
      "cell_type": "code",
      "metadata": {
        "id": "UZwLOgT8EzQA"
      },
      "source": [
        "@tf.function\n",
        "def train_step(images):\n",
        "    noise = tf.random.normal([BATCH_SIZE, noise_dim])\n",
        "\n",
        "    with tf.GradientTape() as gen_tape, tf.GradientTape() as disc_tape:\n",
        "      generated_images = generator(noise, training=True)\n",
        "\n",
        "      real_output = discriminator(images, training=True)\n",
        "      fake_output = discriminator(generated_images, training=True)\n",
        "\n",
        "      gen_loss = generator_loss(fake_output)\n",
        "      disc_loss, fake_loss, real_loss = discriminator_loss(real_output, fake_output)\n",
        "\n",
        "\n",
        "    gradients_of_generator = gen_tape.gradient(gen_loss, generator.trainable_variables)\n",
        "    gradients_of_discriminator = disc_tape.gradient(disc_loss, discriminator.trainable_variables)\n",
        "\n",
        "    generator_optimizer.apply_gradients(zip(gradients_of_generator, generator.trainable_variables))\n",
        "    discriminator_optimizer.apply_gradients(zip(gradients_of_discriminator, discriminator.trainable_variables))\n",
        "    return gen_loss, disc_loss, fake_loss, real_loss\n"
      ],
      "execution_count": 19,
      "outputs": []
    },
    {
      "cell_type": "code",
      "metadata": {
        "id": "4nbQd_i-FfwY"
      },
      "source": [
        "def train(dataset, epochs):\n",
        "  generator_hist, discriminator_hist, discriminator_fake_hist, discriminator_real_hist  = list(), list(), list(), list()\n",
        "  for epoch in range(epochs):\n",
        "    start = time.time()\n",
        "    #\n",
        "    disc_loss,gen_loss,fake_loss,real_loss = 0,0,0,0\n",
        "    #\n",
        "    for image_batch in dataset:\n",
        "      gen_loss_change,disc_loss_change, fake_loss_change, real_loss_change = train_step(image_batch)\n",
        "      gen_loss = gen_loss + gen_loss_change\n",
        "      disc_loss = disc_loss + disc_loss_change\n",
        "      fake_loss = fake_loss + fake_loss_change\n",
        "      real_loss = real_loss + real_loss_change\n",
        "    # Produce images for the GIF as you go\n",
        "    #display.clear_output(wait=True)\n",
        "    #generate_and_save_images(generator,\n",
        "                             #epoch + 1,\n",
        "                             #seed)\n",
        "    # save generator and discriminator loss values \n",
        "    discriminator_hist.append(disc_loss)\n",
        "    generator_hist.append(gen_loss)\n",
        "    discriminator_fake_hist.append(fake_loss)\n",
        "    discriminator_real_hist.append(real_loss)\n",
        "\n",
        "    # Save the model every 10 epochs\n",
        "    if (epoch + 1) % 25 == 0:\n",
        "      checkpoint.save(file_prefix = checkpoint_prefix)\n",
        "      plot_history(discriminator_hist,generator_hist,epochs)\n",
        "      plot_history2(discriminator_fake_hist,discriminator_real_hist,epochs)\n",
        "      generate_and_save_images(generator,epochs,seed)\n",
        "    print ('Time for epoch {} is {} sec'.format(epoch + 1, time.time()-start))\n",
        "\n",
        "  # Generate after the final epoch\n",
        "  #display.clear_output(wait=True)\n",
        "  generate_and_save_images(generator,\n",
        "                           epochs,\n",
        "                           seed)"
      ],
      "execution_count": 26,
      "outputs": []
    },
    {
      "cell_type": "code",
      "metadata": {
        "id": "5eK4M0ufGAYN"
      },
      "source": [
        "#Generate and save images \n",
        "def generate_and_save_images(model, epoch, test_input):\n",
        "  # Notice `training` is set to False.\n",
        "  # This is so all layers run in inference mode (batchnorm).\n",
        "  predictions = model(test_input, training=False)\n",
        "\n",
        "  fig = plt.figure(figsize=(4, 4))\n",
        "\n",
        "  for i in range(predictions.shape[0]):\n",
        "      plt.subplot(4, 4, i+1)\n",
        "      plt.imshow(predictions[i, :, :, 0] * 127.5 + 127.5, cmap='gray')\n",
        "      plt.axis('off')\n",
        "\n",
        "  plt.savefig('image_at_epoch_{:04d}.png'.format(epoch))\n",
        "  plt.show()\n",
        "  np.save(\"/content/gdrive/MyDrive/Inzynierka/Data/Results/v1_\" + str(epoch), predictions)\n",
        "  print(predictions.shape)\n",
        "  "
      ],
      "execution_count": 27,
      "outputs": []
    },
    {
      "cell_type": "code",
      "metadata": {
        "id": "nOm8Mo2PGOv0"
      },
      "source": [
        ""
      ],
      "execution_count": null,
      "outputs": []
    },
    {
      "cell_type": "markdown",
      "metadata": {
        "id": "EyZE6cumGOPu"
      },
      "source": [
        "# Train model"
      ]
    },
    {
      "cell_type": "code",
      "metadata": {
        "id": "ph11WigkGQ8N",
        "colab": {
          "base_uri": "https://localhost:8080/",
          "height": 1000
        },
        "outputId": "bcf12696-9033-4d63-8281-5f716d4570d5"
      },
      "source": [
        "train(train_dataset, EPOCHS)"
      ],
      "execution_count": 23,
      "outputs": [
        {
          "output_type": "stream",
          "name": "stdout",
          "text": [
            "Time for epoch 1 is 35.80788445472717 sec\n",
            "Time for epoch 2 is 31.075154066085815 sec\n",
            "Time for epoch 3 is 31.354920387268066 sec\n",
            "Time for epoch 4 is 31.437758684158325 sec\n",
            "Time for epoch 5 is 31.447198390960693 sec\n",
            "Time for epoch 6 is 31.730854511260986 sec\n",
            "Time for epoch 7 is 31.231021881103516 sec\n",
            "Time for epoch 8 is 31.439780235290527 sec\n",
            "Time for epoch 9 is 31.446605682373047 sec\n",
            "Time for epoch 10 is 31.420310497283936 sec\n",
            "Time for epoch 11 is 31.443549633026123 sec\n",
            "Time for epoch 12 is 31.76108407974243 sec\n",
            "Time for epoch 13 is 31.25527596473694 sec\n",
            "Time for epoch 14 is 31.417317628860474 sec\n",
            "Time for epoch 15 is 31.439767360687256 sec\n",
            "Time for epoch 16 is 31.440169095993042 sec\n",
            "Time for epoch 17 is 31.42952609062195 sec\n",
            "Time for epoch 18 is 31.73591947555542 sec\n",
            "Time for epoch 19 is 31.23625087738037 sec\n",
            "Time for epoch 20 is 31.430261373519897 sec\n",
            "Time for epoch 21 is 31.43110680580139 sec\n",
            "Time for epoch 22 is 31.42782211303711 sec\n",
            "Time for epoch 23 is 31.44113326072693 sec\n",
            "Time for epoch 24 is 31.427316665649414 sec\n",
            "Time for epoch 25 is 32.36839747428894 sec\n",
            "Time for epoch 26 is 31.211748600006104 sec\n",
            "Time for epoch 27 is 31.42830467224121 sec\n",
            "Time for epoch 28 is 31.43077254295349 sec\n",
            "Time for epoch 29 is 31.438725471496582 sec\n",
            "Time for epoch 30 is 31.433215856552124 sec\n",
            "Time for epoch 31 is 31.44099736213684 sec\n",
            "Time for epoch 32 is 31.432219982147217 sec\n",
            "Time for epoch 33 is 31.43674612045288 sec\n",
            "Time for epoch 34 is 31.42557668685913 sec\n",
            "Time for epoch 35 is 31.42497706413269 sec\n",
            "Time for epoch 36 is 31.41821813583374 sec\n",
            "Time for epoch 37 is 31.42098832130432 sec\n",
            "Time for epoch 38 is 31.40821099281311 sec\n",
            "Time for epoch 39 is 31.407427072525024 sec\n",
            "Time for epoch 40 is 31.39544415473938 sec\n",
            "Time for epoch 41 is 31.40864086151123 sec\n",
            "Time for epoch 42 is 31.400320529937744 sec\n",
            "Time for epoch 43 is 31.408968448638916 sec\n",
            "Time for epoch 44 is 31.387284517288208 sec\n"
          ]
        },
        {
          "output_type": "error",
          "ename": "KeyboardInterrupt",
          "evalue": "ignored",
          "traceback": [
            "\u001b[0;31m---------------------------------------------------------------------------\u001b[0m",
            "\u001b[0;31mKeyboardInterrupt\u001b[0m                         Traceback (most recent call last)",
            "\u001b[0;32m<ipython-input-23-d152560ca122>\u001b[0m in \u001b[0;36m<module>\u001b[0;34m()\u001b[0m\n\u001b[0;32m----> 1\u001b[0;31m \u001b[0mtrain\u001b[0m\u001b[0;34m(\u001b[0m\u001b[0mtrain_dataset\u001b[0m\u001b[0;34m,\u001b[0m \u001b[0mEPOCHS\u001b[0m\u001b[0;34m)\u001b[0m\u001b[0;34m\u001b[0m\u001b[0;34m\u001b[0m\u001b[0m\n\u001b[0m",
            "\u001b[0;32m<ipython-input-22-69bee8ffee97>\u001b[0m in \u001b[0;36mtrain\u001b[0;34m(dataset, epochs)\u001b[0m\n\u001b[1;32m      7\u001b[0m     \u001b[0;31m#\u001b[0m\u001b[0;34m\u001b[0m\u001b[0;34m\u001b[0m\u001b[0;34m\u001b[0m\u001b[0m\n\u001b[1;32m      8\u001b[0m     \u001b[0;32mfor\u001b[0m \u001b[0mimage_batch\u001b[0m \u001b[0;32min\u001b[0m \u001b[0mdataset\u001b[0m\u001b[0;34m:\u001b[0m\u001b[0;34m\u001b[0m\u001b[0;34m\u001b[0m\u001b[0m\n\u001b[0;32m----> 9\u001b[0;31m       \u001b[0mgen_loss_change\u001b[0m\u001b[0;34m,\u001b[0m\u001b[0mdisc_loss_change\u001b[0m\u001b[0;34m,\u001b[0m \u001b[0mfake_loss_change\u001b[0m\u001b[0;34m,\u001b[0m \u001b[0mreal_loss_change\u001b[0m \u001b[0;34m=\u001b[0m \u001b[0mtrain_step\u001b[0m\u001b[0;34m(\u001b[0m\u001b[0mimage_batch\u001b[0m\u001b[0;34m)\u001b[0m\u001b[0;34m\u001b[0m\u001b[0;34m\u001b[0m\u001b[0m\n\u001b[0m\u001b[1;32m     10\u001b[0m       \u001b[0mgen_loss\u001b[0m \u001b[0;34m=\u001b[0m \u001b[0mgen_loss\u001b[0m \u001b[0;34m+\u001b[0m \u001b[0mgen_loss_change\u001b[0m\u001b[0;34m\u001b[0m\u001b[0;34m\u001b[0m\u001b[0m\n\u001b[1;32m     11\u001b[0m       \u001b[0mdisc_loss\u001b[0m \u001b[0;34m=\u001b[0m \u001b[0mdisc_loss\u001b[0m \u001b[0;34m+\u001b[0m \u001b[0mdisc_loss_change\u001b[0m\u001b[0;34m\u001b[0m\u001b[0;34m\u001b[0m\u001b[0m\n",
            "\u001b[0;32m/usr/local/lib/python3.7/dist-packages/tensorflow/python/util/traceback_utils.py\u001b[0m in \u001b[0;36merror_handler\u001b[0;34m(*args, **kwargs)\u001b[0m\n\u001b[1;32m    148\u001b[0m     \u001b[0mfiltered_tb\u001b[0m \u001b[0;34m=\u001b[0m \u001b[0;32mNone\u001b[0m\u001b[0;34m\u001b[0m\u001b[0;34m\u001b[0m\u001b[0m\n\u001b[1;32m    149\u001b[0m     \u001b[0;32mtry\u001b[0m\u001b[0;34m:\u001b[0m\u001b[0;34m\u001b[0m\u001b[0;34m\u001b[0m\u001b[0m\n\u001b[0;32m--> 150\u001b[0;31m       \u001b[0;32mreturn\u001b[0m \u001b[0mfn\u001b[0m\u001b[0;34m(\u001b[0m\u001b[0;34m*\u001b[0m\u001b[0margs\u001b[0m\u001b[0;34m,\u001b[0m \u001b[0;34m**\u001b[0m\u001b[0mkwargs\u001b[0m\u001b[0;34m)\u001b[0m\u001b[0;34m\u001b[0m\u001b[0;34m\u001b[0m\u001b[0m\n\u001b[0m\u001b[1;32m    151\u001b[0m     \u001b[0;32mexcept\u001b[0m \u001b[0mException\u001b[0m \u001b[0;32mas\u001b[0m \u001b[0me\u001b[0m\u001b[0;34m:\u001b[0m\u001b[0;34m\u001b[0m\u001b[0;34m\u001b[0m\u001b[0m\n\u001b[1;32m    152\u001b[0m       \u001b[0mfiltered_tb\u001b[0m \u001b[0;34m=\u001b[0m \u001b[0m_process_traceback_frames\u001b[0m\u001b[0;34m(\u001b[0m\u001b[0me\u001b[0m\u001b[0;34m.\u001b[0m\u001b[0m__traceback__\u001b[0m\u001b[0;34m)\u001b[0m\u001b[0;34m\u001b[0m\u001b[0;34m\u001b[0m\u001b[0m\n",
            "\u001b[0;32m/usr/local/lib/python3.7/dist-packages/tensorflow/python/eager/def_function.py\u001b[0m in \u001b[0;36m__call__\u001b[0;34m(self, *args, **kwds)\u001b[0m\n\u001b[1;32m    908\u001b[0m \u001b[0;34m\u001b[0m\u001b[0m\n\u001b[1;32m    909\u001b[0m       \u001b[0;32mwith\u001b[0m \u001b[0mOptionalXlaContext\u001b[0m\u001b[0;34m(\u001b[0m\u001b[0mself\u001b[0m\u001b[0;34m.\u001b[0m\u001b[0m_jit_compile\u001b[0m\u001b[0;34m)\u001b[0m\u001b[0;34m:\u001b[0m\u001b[0;34m\u001b[0m\u001b[0;34m\u001b[0m\u001b[0m\n\u001b[0;32m--> 910\u001b[0;31m         \u001b[0mresult\u001b[0m \u001b[0;34m=\u001b[0m \u001b[0mself\u001b[0m\u001b[0;34m.\u001b[0m\u001b[0m_call\u001b[0m\u001b[0;34m(\u001b[0m\u001b[0;34m*\u001b[0m\u001b[0margs\u001b[0m\u001b[0;34m,\u001b[0m \u001b[0;34m**\u001b[0m\u001b[0mkwds\u001b[0m\u001b[0;34m)\u001b[0m\u001b[0;34m\u001b[0m\u001b[0;34m\u001b[0m\u001b[0m\n\u001b[0m\u001b[1;32m    911\u001b[0m \u001b[0;34m\u001b[0m\u001b[0m\n\u001b[1;32m    912\u001b[0m       \u001b[0mnew_tracing_count\u001b[0m \u001b[0;34m=\u001b[0m \u001b[0mself\u001b[0m\u001b[0;34m.\u001b[0m\u001b[0mexperimental_get_tracing_count\u001b[0m\u001b[0;34m(\u001b[0m\u001b[0;34m)\u001b[0m\u001b[0;34m\u001b[0m\u001b[0;34m\u001b[0m\u001b[0m\n",
            "\u001b[0;32m/usr/local/lib/python3.7/dist-packages/tensorflow/python/eager/def_function.py\u001b[0m in \u001b[0;36m_call\u001b[0;34m(self, *args, **kwds)\u001b[0m\n\u001b[1;32m    940\u001b[0m       \u001b[0;31m# In this case we have created variables on the first call, so we run the\u001b[0m\u001b[0;34m\u001b[0m\u001b[0;34m\u001b[0m\u001b[0;34m\u001b[0m\u001b[0m\n\u001b[1;32m    941\u001b[0m       \u001b[0;31m# defunned version which is guaranteed to never create variables.\u001b[0m\u001b[0;34m\u001b[0m\u001b[0;34m\u001b[0m\u001b[0;34m\u001b[0m\u001b[0m\n\u001b[0;32m--> 942\u001b[0;31m       \u001b[0;32mreturn\u001b[0m \u001b[0mself\u001b[0m\u001b[0;34m.\u001b[0m\u001b[0m_stateless_fn\u001b[0m\u001b[0;34m(\u001b[0m\u001b[0;34m*\u001b[0m\u001b[0margs\u001b[0m\u001b[0;34m,\u001b[0m \u001b[0;34m**\u001b[0m\u001b[0mkwds\u001b[0m\u001b[0;34m)\u001b[0m  \u001b[0;31m# pylint: disable=not-callable\u001b[0m\u001b[0;34m\u001b[0m\u001b[0;34m\u001b[0m\u001b[0m\n\u001b[0m\u001b[1;32m    943\u001b[0m     \u001b[0;32melif\u001b[0m \u001b[0mself\u001b[0m\u001b[0;34m.\u001b[0m\u001b[0m_stateful_fn\u001b[0m \u001b[0;32mis\u001b[0m \u001b[0;32mnot\u001b[0m \u001b[0;32mNone\u001b[0m\u001b[0;34m:\u001b[0m\u001b[0;34m\u001b[0m\u001b[0;34m\u001b[0m\u001b[0m\n\u001b[1;32m    944\u001b[0m       \u001b[0;31m# Release the lock early so that multiple threads can perform the call\u001b[0m\u001b[0;34m\u001b[0m\u001b[0;34m\u001b[0m\u001b[0;34m\u001b[0m\u001b[0m\n",
            "\u001b[0;32m/usr/local/lib/python3.7/dist-packages/tensorflow/python/eager/function.py\u001b[0m in \u001b[0;36m__call__\u001b[0;34m(self, *args, **kwargs)\u001b[0m\n\u001b[1;32m   3129\u001b[0m        filtered_flat_args) = self._maybe_define_function(args, kwargs)\n\u001b[1;32m   3130\u001b[0m     return graph_function._call_flat(\n\u001b[0;32m-> 3131\u001b[0;31m         filtered_flat_args, captured_inputs=graph_function.captured_inputs)  # pylint: disable=protected-access\n\u001b[0m\u001b[1;32m   3132\u001b[0m \u001b[0;34m\u001b[0m\u001b[0m\n\u001b[1;32m   3133\u001b[0m   \u001b[0;34m@\u001b[0m\u001b[0mproperty\u001b[0m\u001b[0;34m\u001b[0m\u001b[0;34m\u001b[0m\u001b[0m\n",
            "\u001b[0;32m/usr/local/lib/python3.7/dist-packages/tensorflow/python/eager/function.py\u001b[0m in \u001b[0;36m_call_flat\u001b[0;34m(self, args, captured_inputs, cancellation_manager)\u001b[0m\n\u001b[1;32m   1958\u001b[0m       \u001b[0;31m# No tape is watching; skip to running the function.\u001b[0m\u001b[0;34m\u001b[0m\u001b[0;34m\u001b[0m\u001b[0;34m\u001b[0m\u001b[0m\n\u001b[1;32m   1959\u001b[0m       return self._build_call_outputs(self._inference_function.call(\n\u001b[0;32m-> 1960\u001b[0;31m           ctx, args, cancellation_manager=cancellation_manager))\n\u001b[0m\u001b[1;32m   1961\u001b[0m     forward_backward = self._select_forward_and_backward_functions(\n\u001b[1;32m   1962\u001b[0m         \u001b[0margs\u001b[0m\u001b[0;34m,\u001b[0m\u001b[0;34m\u001b[0m\u001b[0;34m\u001b[0m\u001b[0m\n",
            "\u001b[0;32m/usr/local/lib/python3.7/dist-packages/tensorflow/python/eager/function.py\u001b[0m in \u001b[0;36mcall\u001b[0;34m(self, ctx, args, cancellation_manager)\u001b[0m\n\u001b[1;32m    601\u001b[0m               \u001b[0minputs\u001b[0m\u001b[0;34m=\u001b[0m\u001b[0margs\u001b[0m\u001b[0;34m,\u001b[0m\u001b[0;34m\u001b[0m\u001b[0;34m\u001b[0m\u001b[0m\n\u001b[1;32m    602\u001b[0m               \u001b[0mattrs\u001b[0m\u001b[0;34m=\u001b[0m\u001b[0mattrs\u001b[0m\u001b[0;34m,\u001b[0m\u001b[0;34m\u001b[0m\u001b[0;34m\u001b[0m\u001b[0m\n\u001b[0;32m--> 603\u001b[0;31m               ctx=ctx)\n\u001b[0m\u001b[1;32m    604\u001b[0m         \u001b[0;32melse\u001b[0m\u001b[0;34m:\u001b[0m\u001b[0;34m\u001b[0m\u001b[0;34m\u001b[0m\u001b[0m\n\u001b[1;32m    605\u001b[0m           outputs = execute.execute_with_cancellation(\n",
            "\u001b[0;32m/usr/local/lib/python3.7/dist-packages/tensorflow/python/eager/execute.py\u001b[0m in \u001b[0;36mquick_execute\u001b[0;34m(op_name, num_outputs, inputs, attrs, ctx, name)\u001b[0m\n\u001b[1;32m     57\u001b[0m     \u001b[0mctx\u001b[0m\u001b[0;34m.\u001b[0m\u001b[0mensure_initialized\u001b[0m\u001b[0;34m(\u001b[0m\u001b[0;34m)\u001b[0m\u001b[0;34m\u001b[0m\u001b[0;34m\u001b[0m\u001b[0m\n\u001b[1;32m     58\u001b[0m     tensors = pywrap_tfe.TFE_Py_Execute(ctx._handle, device_name, op_name,\n\u001b[0;32m---> 59\u001b[0;31m                                         inputs, attrs, num_outputs)\n\u001b[0m\u001b[1;32m     60\u001b[0m   \u001b[0;32mexcept\u001b[0m \u001b[0mcore\u001b[0m\u001b[0;34m.\u001b[0m\u001b[0m_NotOkStatusException\u001b[0m \u001b[0;32mas\u001b[0m \u001b[0me\u001b[0m\u001b[0;34m:\u001b[0m\u001b[0;34m\u001b[0m\u001b[0;34m\u001b[0m\u001b[0m\n\u001b[1;32m     61\u001b[0m     \u001b[0;32mif\u001b[0m \u001b[0mname\u001b[0m \u001b[0;32mis\u001b[0m \u001b[0;32mnot\u001b[0m \u001b[0;32mNone\u001b[0m\u001b[0;34m:\u001b[0m\u001b[0;34m\u001b[0m\u001b[0;34m\u001b[0m\u001b[0m\n",
            "\u001b[0;31mKeyboardInterrupt\u001b[0m: "
          ]
        }
      ]
    },
    {
      "cell_type": "code",
      "metadata": {
        "id": "OBM6Kb-FUQmh"
      },
      "source": [
        ""
      ],
      "execution_count": null,
      "outputs": []
    },
    {
      "cell_type": "code",
      "metadata": {
        "colab": {
          "base_uri": "https://localhost:8080/",
          "height": 163
        },
        "id": "6aRcqXQA6C5h",
        "outputId": "e5b7c44b-a533-4bb9-a559-cf6200c434a7"
      },
      "source": [
        "generate_and_save_images(generator, 60, seed)"
      ],
      "execution_count": null,
      "outputs": [
        {
          "output_type": "error",
          "ename": "NameError",
          "evalue": "ignored",
          "traceback": [
            "\u001b[0;31m---------------------------------------------------------------------------\u001b[0m",
            "\u001b[0;31mNameError\u001b[0m                                 Traceback (most recent call last)",
            "\u001b[0;32m<ipython-input-1-83c1f0e85ab7>\u001b[0m in \u001b[0;36m<module>\u001b[0;34m()\u001b[0m\n\u001b[0;32m----> 1\u001b[0;31m \u001b[0mgenerate_and_save_images\u001b[0m\u001b[0;34m(\u001b[0m\u001b[0mgenerator\u001b[0m\u001b[0;34m,\u001b[0m \u001b[0;36m60\u001b[0m\u001b[0;34m,\u001b[0m \u001b[0mseed\u001b[0m\u001b[0;34m)\u001b[0m\u001b[0;34m\u001b[0m\u001b[0;34m\u001b[0m\u001b[0m\n\u001b[0m",
            "\u001b[0;31mNameError\u001b[0m: name 'generate_and_save_images' is not defined"
          ]
        }
      ]
    },
    {
      "cell_type": "code",
      "metadata": {
        "colab": {
          "base_uri": "https://localhost:8080/",
          "height": 354
        },
        "id": "nhKO0Tea8TEY",
        "outputId": "660f3334-43e9-4166-8c39-b5e6deeb0296"
      },
      "source": [
        "import librosa\n",
        "import librosa.display\n",
        "zaladowane = np.load('/content/gdrive/MyDrive/Inzynierka/Data/wynik_256_14_v2_test_plot150.npy')\n",
        "#zaladowane = np.load('/content/gdrive/MyDrive/Inzynierka/Data/en_spectrogram_tensor/common_voice_en_22677141.mp3.npy')\n",
        "print(zaladowane.shape)\n",
        "#print(zaladowane[6])\n",
        "print(np.max(zaladowane))\n",
        "print(np.min(zaladowane))\n",
        "normalized = (zaladowane * 80) - 80\n",
        "print(np.max(normalized))\n",
        "print(np.min(normalized))\n",
        "\n",
        "#librosa.display.specshow(spectest)\n",
        "#librosa.display.specshow((zaladowane[4].reshape(256,14)))\n",
        "librosa.display.specshow((normalized[4].reshape(256,14)))\n",
        "#print(normalized[2])"
      ],
      "execution_count": null,
      "outputs": [
        {
          "output_type": "stream",
          "name": "stdout",
          "text": [
            "(16, 256, 14, 1)\n",
            "1.0\n",
            "0.0134580415\n",
            "0.0\n",
            "-78.923355\n"
          ]
        },
        {
          "output_type": "execute_result",
          "data": {
            "text/plain": [
              "<matplotlib.collections.QuadMesh at 0x7ef85c295610>"
            ]
          },
          "metadata": {},
          "execution_count": 105
        },
        {
          "output_type": "display_data",
          "data": {
            "image/png": "[encoded data removed]",
            "text/plain": [
              "<Figure size 432x288 with 1 Axes>"
            ]
          },
          "metadata": {}
        }
      ]
    },
    {
      "cell_type": "code",
      "metadata": {
        "colab": {
          "base_uri": "https://localhost:8080/",
          "height": 1000
        },
        "id": "7LLPOleA92oS",
        "outputId": "1e8d1c56-cd40-4264-b1d5-ef8cb94fd746"
      },
      "source": [
        "\n",
        "librosa.display.specshow((normalized[4].reshape(256,14)))\n",
        "print(normalized[1])"
      ],
      "execution_count": null,
      "outputs": [
        {
          "output_type": "stream",
          "name": "stdout",
          "text": [
            "[[[-23.449314]\n",
            "  [-21.314655]\n",
            "  [-20.130074]\n",
            "  ...\n",
            "  [-15.720505]\n",
            "  [-15.413637]\n",
            "  [-18.132267]]\n",
            "\n",
            " [[-20.931906]\n",
            "  [-16.147062]\n",
            "  [-15.618837]\n",
            "  ...\n",
            "  [-16.096972]\n",
            "  [-16.254475]\n",
            "  [-18.97048 ]]\n",
            "\n",
            " [[-21.80932 ]\n",
            "  [-18.317947]\n",
            "  [-17.260685]\n",
            "  ...\n",
            "  [-17.650433]\n",
            "  [-16.410334]\n",
            "  [-19.037704]]\n",
            "\n",
            " ...\n",
            "\n",
            " [[-36.42886 ]\n",
            "  [-27.301575]\n",
            "  [-32.69501 ]\n",
            "  ...\n",
            "  [-31.16472 ]\n",
            "  [-33.298264]\n",
            "  [-22.727163]]\n",
            "\n",
            " [[-37.16504 ]\n",
            "  [-28.940487]\n",
            "  [-34.157207]\n",
            "  ...\n",
            "  [-26.451168]\n",
            "  [-32.75688 ]\n",
            "  [-22.91378 ]]\n",
            "\n",
            " [[-34.418297]\n",
            "  [-28.58567 ]\n",
            "  [-34.693954]\n",
            "  ...\n",
            "  [-33.893692]\n",
            "  [-34.827087]\n",
            "  [-31.562351]]]\n"
          ]
        },
        {
          "output_type": "display_data",
          "data": {
            "image/png": "[encoded data removed]",
            "text/plain": [
              "<Figure size 432x288 with 1 Axes>"
            ]
          },
          "metadata": {}
        }
      ]
    },
    {
      "cell_type": "code",
      "metadata": {
        "colab": {
          "base_uri": "https://localhost:8080/",
          "height": 415
        },
        "id": "lhFg2GMu9Uod",
        "outputId": "bcba3247-7576-40b5-b878-788df31fb118"
      },
      "source": [
        "\n",
        "\n",
        "\n",
        "\n",
        "\n",
        "\n",
        "print(data_tensor.shape)\n",
        "spectest = zaladowane[1]\n",
        "spectest = spectest.reshape(256,16)\n",
        "spectest = (spectest*127.5)\n",
        "print(spectest)\n",
        "librosa.display.specshow(spectest)"
      ],
      "execution_count": null,
      "outputs": [
        {
          "output_type": "stream",
          "name": "stdout",
          "text": [
            "(12195, 256, 16, 1)\n",
            "[[24.685812  18.110788  15.338776  ... 14.57552   14.815999  14.759249 ]\n",
            " [14.639329  14.446907  15.291615  ... 14.772142  14.732388  14.846724 ]\n",
            " [15.18671   14.674301  15.2182455 ... 14.776593  15.001476  14.558247 ]\n",
            " ...\n",
            " [15.446796  14.728373  15.39467   ... 14.949194  15.163134  15.249122 ]\n",
            " [15.662478  15.011696  15.327721  ... 14.851523  15.267255  15.190759 ]\n",
            " [15.429316  14.631171  14.959035  ... 14.997301  21.327711  29.415123 ]]\n"
          ]
        },
        {
          "output_type": "execute_result",
          "data": {
            "text/plain": [
              "<matplotlib.collections.QuadMesh at 0x7fbc0fe2d0d0>"
            ]
          },
          "metadata": {},
          "execution_count": 74
        },
        {
          "output_type": "display_data",
          "data": {
            "image/png": "[encoded data removed]",
            "text/plain": [
              "<Figure size 432x288 with 1 Axes>"
            ]
          },
          "metadata": {}
        }
      ]
    },
    {
      "cell_type": "code",
      "metadata": {
        "id": "oDm_sgsX9yaD"
      },
      "source": [
        ""
      ],
      "execution_count": null,
      "outputs": []
    },
    {
      "cell_type": "code",
      "metadata": {
        "id": "6lgtPj39GSaj",
        "colab": {
          "base_uri": "https://localhost:8080/"
        },
        "outputId": "14e45258-9704-48cb-aafe-a6e57af3b3e6"
      },
      "source": [
        "# To restore checkpoint\n",
        "checkpoint.restore(tf.train.latest_checkpoint(checkpoint_dir))\n"
      ],
      "execution_count": null,
      "outputs": [
        {
          "output_type": "execute_result",
          "data": {
            "text/plain": [
              "<tensorflow.python.training.tracking.util.CheckpointLoadStatus at 0x7fbd125e9650>"
            ]
          },
          "metadata": {},
          "execution_count": 76
        }
      ]
    }
  ]
}